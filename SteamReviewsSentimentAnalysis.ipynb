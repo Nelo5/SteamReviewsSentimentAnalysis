{
 "cells": [
  {
   "cell_type": "code",
   "execution_count": 1,
   "id": "52fb886f-6aab-47db-aac1-bf36dd3aee81",
   "metadata": {
    "id": "52fb886f-6aab-47db-aac1-bf36dd3aee81"
   },
   "outputs": [],
   "source": [
    "import requests\n",
    "import pandas as pd\n",
    "import matplotlib.pyplot as plt\n",
    "import seaborn as sns\n",
    "import string\n",
    "import re\n",
    "import numpy as np\n",
    "import spacy\n",
    "import nltk\n",
    "from nltk.tokenize import word_tokenize\n",
    "from nltk.corpus import stopwords\n",
    "from sklearn.linear_model import LogisticRegression\n",
    "from sklearn.model_selection import train_test_split, cross_validate\n",
    "from collections import Counter\n",
    "import pickle\n",
    "from joblib import dump, load\n",
    "\n",
    "plt.style.use('seaborn-v0_8')\n",
    "sns.set_palette(\"husl\")"
   ]
  },
  {
   "cell_type": "code",
   "execution_count": 2,
   "id": "e6b52c00-8cc3-444d-a5b4-ba11e1cf9b39",
   "metadata": {
    "colab": {
     "background_save": true
    },
    "id": "e6b52c00-8cc3-444d-a5b4-ba11e1cf9b39",
    "outputId": "e12657d5-41ea-4cd3-a8c9-48d3617843a0"
   },
   "outputs": [
    {
     "name": "stdout",
     "output_type": "stream",
     "text": [
      "Collecting en-core-web-sm==3.8.0\n",
      "  Downloading https://github.com/explosion/spacy-models/releases/download/en_core_web_sm-3.8.0/en_core_web_sm-3.8.0-py3-none-any.whl (12.8 MB)\n",
      "     ---------------------------------------- 0.0/12.8 MB ? eta -:--:--\n",
      "     - -------------------------------------- 0.5/12.8 MB 5.6 MB/s eta 0:00:03\n",
      "     -------- ------------------------------- 2.6/12.8 MB 7.2 MB/s eta 0:00:02\n",
      "     -------------- ------------------------- 4.7/12.8 MB 7.9 MB/s eta 0:00:02\n",
      "     --------------------- ------------------ 6.8/12.8 MB 8.4 MB/s eta 0:00:01\n",
      "     --------------------------- ------------ 8.7/12.8 MB 8.3 MB/s eta 0:00:01\n",
      "     ------------------------------- -------- 10.2/12.8 MB 8.1 MB/s eta 0:00:01\n",
      "     ------------------------------------ --- 11.5/12.8 MB 7.9 MB/s eta 0:00:01\n",
      "     ---------------------------------------  12.6/12.8 MB 7.7 MB/s eta 0:00:01\n",
      "     ---------------------------------------- 12.8/12.8 MB 7.0 MB/s eta 0:00:00\n",
      "\u001b[38;5;2m[+] Download and installation successful\u001b[0m\n",
      "You can now load the package via spacy.load('en_core_web_sm')\n"
     ]
    }
   ],
   "source": [
    "!python -m spacy download en_core_web_sm"
   ]
  },
  {
   "cell_type": "code",
   "execution_count": 3,
   "id": "c9bfd6fc-03f2-4f4f-b45d-4861d9a172da",
   "metadata": {
    "colab": {
     "background_save": true
    },
    "id": "c9bfd6fc-03f2-4f4f-b45d-4861d9a172da",
    "outputId": "a7b50c16-f703-4205-d68a-290a7fa2d831"
   },
   "outputs": [
    {
     "name": "stderr",
     "output_type": "stream",
     "text": [
      "[nltk_data] Downloading package punkt_tab to\n",
      "[nltk_data]     C:\\Users\\furmi\\AppData\\Roaming\\nltk_data...\n",
      "[nltk_data]   Package punkt_tab is already up-to-date!\n",
      "[nltk_data] Downloading package stopwords to\n",
      "[nltk_data]     C:\\Users\\furmi\\AppData\\Roaming\\nltk_data...\n",
      "[nltk_data]   Package stopwords is already up-to-date!\n"
     ]
    },
    {
     "data": {
      "text/plain": [
       "True"
      ]
     },
     "execution_count": 3,
     "metadata": {},
     "output_type": "execute_result"
    }
   ],
   "source": [
    "nltk.download('punkt_tab')\n",
    "nltk.download('stopwords')"
   ]
  },
  {
   "cell_type": "markdown",
   "id": "ORWhKLlyEma1",
   "metadata": {
    "id": "ORWhKLlyEma1"
   },
   "source": [
    "Функция для получения отзывов из сообщества Steam, использует веб-API Steamworks. Возвращает таблицу с 15 колонками:\n",
    "\n",
    "1. recommendationid - Уникальный ID рекомендации\n",
    "2. author - Информация об авторе обзора\n",
    " 1. steamid — SteamID пользователя\n",
    " 2. num_games_owned — число игр, которыми владеет пользователь\n",
    " 3. num_reviews — число обзоров, написанных пользователем\n",
    " 4. playtime_forever — время, проведённое в этом приложении за всё время\n",
    " 5. playtime_last_two_weeks — время, проведённое в этом приложении за две последние недели\n",
    " 6. playtime_forever — время, проведённое в приложении на момент написания обзора\n",
    " 7. deck_playtime_at_review — время, проведённое на Steam Deck на момент написания обзора\n",
    " 8. last_played — время, когда пользователь запускал приложение в последний раз\n",
    "3. language - Язык, указанный пользователем при написании обзора\n",
    "4. review - Текст обзора\n",
    "5. timestamp_created - Дата создания обзора в формате UNIX\n",
    "6. timestamp_updated - Дата последнего изменения обзора в формате UNIX\n",
    "7. voted_up - Значение true означает, что обзор положительный\n",
    "8. votes_up - Число пользователей, посчитавших обзор полезным\n",
    "9. votes_funny - Число пользователей, посчитавших обзор забавным\n",
    "10. weighted_vote_score - Рейтинг полезности\n",
    "11. comment_count - Число комментариев к этому обзору\n",
    "12. steam_purchase - true, если пользователь купил игру в Steam\n",
    "13. received_for_free - true, если пользователь поставил галочку, означающую, что он получил приложение бесплатно\n",
    "14. written_during_early_access - true, если обзор написан, когда игра была в раннем доступе\n",
    "15. primarily_steam_deck - Играл ли пользователь в эту игру в основном на Steam Deck на момент написания обзора\n",
    "\n",
    "В качестве аргументов функция принимает id игры, число отзывов, которое будет в итоговой таблице, и язык, на котором написаны обзоры. Если указанное число отзывов превышает число отзывов в Steam, то некоторые отзывы будут продублированы."
   ]
  },
  {
   "cell_type": "code",
   "execution_count": 4,
   "id": "971d7408-30ca-4387-b237-b1464e53da54",
   "metadata": {
    "id": "971d7408-30ca-4387-b237-b1464e53da54"
   },
   "outputs": [],
   "source": [
    "def get_reviews(appid: str, num_reviews: int = 1000, language: str = 'english') -> pd.DataFrame:\n",
    "    reviews = []\n",
    "    cursor = '*'\n",
    "    params = {\n",
    "        'json': 1,\n",
    "        'filter': 'all',\n",
    "        'language': language,\n",
    "        'day_range': 365,\n",
    "        'review_type': 'all',\n",
    "        'purchase_type': 'all'\n",
    "    }\n",
    "\n",
    "    while len(reviews) < num_reviews:\n",
    "        params['cursor'] = cursor\n",
    "        params['num_per_page'] = min(100, num_reviews - len(reviews))\n",
    "        response = requests.get(\n",
    "            url=f'https://store.steampowered.com/appreviews/{appid}',\n",
    "            params=params\n",
    "        )\n",
    "        data = response.json()\n",
    "        reviews.extend(data.get('reviews', []))\n",
    "        cursor = data.get('cursor')\n",
    "        if not cursor:\n",
    "            break\n",
    "\n",
    "    return pd.DataFrame(reviews)"
   ]
  },
  {
   "cell_type": "code",
   "execution_count": null,
   "id": "dcy5_mL-EhZ_",
   "metadata": {
    "id": "dcy5_mL-EhZ_"
   },
   "outputs": [],
   "source": [
    "appid = input(\"Введите Steam AppID (цифры): \")\n",
    "print(\"Загружаю отзывы... это может занять некоторое время.\")\n",
    "df = get_reviews(appid, num_reviews=150000)\n",
    "print(f\"Загружено отзывов: {len(df)}\")\n",
    "df.to_csv(f\"steam_reviews_{appid}.csv\", index=False)\n",
    "print(\"Сохранено в CSV.\")"
   ]
  },
  {
   "cell_type": "markdown",
   "id": "BV75kRB-UuZD",
   "metadata": {
    "id": "BV75kRB-UuZD"
   },
   "source": [
    " Чтобы постоянно не загружать наборы данных, было принято решение сохранить все полученные данные в формат csv. Таким образом при повторных запусках кода не придется заново получать все обзоры через API. Сохраненные наборы данных лежат в папке data"
   ]
  },
  {
   "cell_type": "code",
   "execution_count": 5,
   "id": "67f47b8a-09a5-452b-92ae-9d127fd7f1b3",
   "metadata": {
    "id": "67f47b8a-09a5-452b-92ae-9d127fd7f1b3"
   },
   "outputs": [],
   "source": [
    "ER_df = pd.read_csv('./data/steam_reviews_EldenRing.csv')\n",
    "ERDLC_df = pd.read_csv('./data/steam_reviews_EldenRingDLC.csv')\n",
    "ERN_df = pd.read_csv('./data/steam_reviews_EldenRingNightreign.csv')"
   ]
  },
  {
   "cell_type": "code",
   "execution_count": 6,
   "id": "z9WehyPd1OuV",
   "metadata": {
    "colab": {
     "base_uri": "https://localhost:8080/"
    },
    "id": "z9WehyPd1OuV",
    "outputId": "482bdc5c-23d8-4750-f545-ff13a98a443c"
   },
   "outputs": [
    {
     "name": "stdout",
     "output_type": "stream",
     "text": [
      "<class 'pandas.core.frame.DataFrame'>\n",
      "RangeIndex: 50000 entries, 0 to 49999\n",
      "Data columns (total 15 columns):\n",
      " #   Column                       Non-Null Count  Dtype  \n",
      "---  ------                       --------------  -----  \n",
      " 0   recommendationid             50000 non-null  int64  \n",
      " 1   author                       50000 non-null  object \n",
      " 2   language                     50000 non-null  object \n",
      " 3   review                       49993 non-null  object \n",
      " 4   timestamp_created            50000 non-null  int64  \n",
      " 5   timestamp_updated            50000 non-null  int64  \n",
      " 6   voted_up                     50000 non-null  bool   \n",
      " 7   votes_up                     50000 non-null  int64  \n",
      " 8   votes_funny                  50000 non-null  int64  \n",
      " 9   weighted_vote_score          50000 non-null  float64\n",
      " 10  comment_count                50000 non-null  int64  \n",
      " 11  steam_purchase               50000 non-null  bool   \n",
      " 12  received_for_free            50000 non-null  bool   \n",
      " 13  written_during_early_access  50000 non-null  bool   \n",
      " 14  primarily_steam_deck         50000 non-null  bool   \n",
      "dtypes: bool(5), float64(1), int64(6), object(3)\n",
      "memory usage: 4.1+ MB\n",
      "<class 'pandas.core.frame.DataFrame'>\n",
      "RangeIndex: 50000 entries, 0 to 49999\n",
      "Data columns (total 15 columns):\n",
      " #   Column                       Non-Null Count  Dtype  \n",
      "---  ------                       --------------  -----  \n",
      " 0   recommendationid             50000 non-null  int64  \n",
      " 1   author                       50000 non-null  object \n",
      " 2   language                     50000 non-null  object \n",
      " 3   review                       50000 non-null  object \n",
      " 4   timestamp_created            50000 non-null  int64  \n",
      " 5   timestamp_updated            50000 non-null  int64  \n",
      " 6   voted_up                     50000 non-null  bool   \n",
      " 7   votes_up                     50000 non-null  int64  \n",
      " 8   votes_funny                  50000 non-null  int64  \n",
      " 9   weighted_vote_score          50000 non-null  float64\n",
      " 10  comment_count                50000 non-null  int64  \n",
      " 11  steam_purchase               50000 non-null  bool   \n",
      " 12  received_for_free            50000 non-null  bool   \n",
      " 13  written_during_early_access  50000 non-null  bool   \n",
      " 14  primarily_steam_deck         50000 non-null  bool   \n",
      "dtypes: bool(5), float64(1), int64(6), object(3)\n",
      "memory usage: 4.1+ MB\n",
      "<class 'pandas.core.frame.DataFrame'>\n",
      "RangeIndex: 150000 entries, 0 to 149999\n",
      "Data columns (total 15 columns):\n",
      " #   Column                       Non-Null Count   Dtype  \n",
      "---  ------                       --------------   -----  \n",
      " 0   recommendationid             150000 non-null  int64  \n",
      " 1   author                       150000 non-null  object \n",
      " 2   language                     150000 non-null  object \n",
      " 3   review                       149518 non-null  object \n",
      " 4   timestamp_created            150000 non-null  int64  \n",
      " 5   timestamp_updated            150000 non-null  int64  \n",
      " 6   voted_up                     150000 non-null  bool   \n",
      " 7   votes_up                     150000 non-null  int64  \n",
      " 8   votes_funny                  150000 non-null  int64  \n",
      " 9   weighted_vote_score          150000 non-null  float64\n",
      " 10  comment_count                150000 non-null  int64  \n",
      " 11  steam_purchase               150000 non-null  bool   \n",
      " 12  received_for_free            150000 non-null  bool   \n",
      " 13  written_during_early_access  150000 non-null  bool   \n",
      " 14  primarily_steam_deck         150000 non-null  bool   \n",
      "dtypes: bool(5), float64(1), int64(6), object(3)\n",
      "memory usage: 12.2+ MB\n"
     ]
    }
   ],
   "source": [
    "ER_df.info()\n",
    "ERDLC_df.info()\n",
    "ERN_df.info()"
   ]
  },
  {
   "cell_type": "code",
   "execution_count": 7,
   "id": "xqckybpxxVPt",
   "metadata": {
    "id": "xqckybpxxVPt"
   },
   "outputs": [],
   "source": [
    "ER_reviews_df = ER_df[['recommendationid','review','voted_up']].copy()\n",
    "ER_reviews_df = ER_reviews_df.drop_duplicates().dropna()\n",
    "\n",
    "ERDLC_reviews_df = ERDLC_df[['recommendationid','review','voted_up']].copy()\n",
    "ERDLC_reviews_df = ERDLC_reviews_df.drop_duplicates().dropna()\n",
    "\n",
    "ERN_reviews_df = ERN_df[['recommendationid','review','voted_up']].copy()\n",
    "ERN_reviews_df = ERN_reviews_df.drop_duplicates().dropna()"
   ]
  },
  {
   "cell_type": "code",
   "execution_count": 8,
   "id": "ZnZoLZwKye_u",
   "metadata": {
    "colab": {
     "base_uri": "https://localhost:8080/"
    },
    "id": "ZnZoLZwKye_u",
    "outputId": "8c7dec90-5893-4bfa-ec9a-db713c6de515"
   },
   "outputs": [
    {
     "name": "stdout",
     "output_type": "stream",
     "text": [
      "<class 'pandas.core.frame.DataFrame'>\n",
      "Index: 49974 entries, 0 to 49999\n",
      "Data columns (total 3 columns):\n",
      " #   Column            Non-Null Count  Dtype \n",
      "---  ------            --------------  ----- \n",
      " 0   recommendationid  49974 non-null  int64 \n",
      " 1   review            49974 non-null  object\n",
      " 2   voted_up          49974 non-null  bool  \n",
      "dtypes: bool(1), int64(1), object(1)\n",
      "memory usage: 1.2+ MB\n",
      "<class 'pandas.core.frame.DataFrame'>\n",
      "Index: 3897 entries, 0 to 15199\n",
      "Data columns (total 3 columns):\n",
      " #   Column            Non-Null Count  Dtype \n",
      "---  ------            --------------  ----- \n",
      " 0   recommendationid  3897 non-null   int64 \n",
      " 1   review            3897 non-null   object\n",
      " 2   voted_up          3897 non-null   bool  \n",
      "dtypes: bool(1), int64(1), object(1)\n",
      "memory usage: 95.1+ KB\n",
      "<class 'pandas.core.frame.DataFrame'>\n",
      "Index: 75072 entries, 0 to 149801\n",
      "Data columns (total 3 columns):\n",
      " #   Column            Non-Null Count  Dtype \n",
      "---  ------            --------------  ----- \n",
      " 0   recommendationid  75072 non-null  int64 \n",
      " 1   review            75072 non-null  object\n",
      " 2   voted_up          75072 non-null  bool  \n",
      "dtypes: bool(1), int64(1), object(1)\n",
      "memory usage: 1.8+ MB\n"
     ]
    }
   ],
   "source": [
    "ER_reviews_df.info()\n",
    "ERDLC_reviews_df.info()\n",
    "ERN_reviews_df.info()"
   ]
  },
  {
   "cell_type": "code",
   "execution_count": null,
   "id": "b50e24b3-50ca-4f7a-aada-4132649a5879",
   "metadata": {
    "colab": {
     "base_uri": "https://localhost:8080/",
     "height": 848
    },
    "id": "b50e24b3-50ca-4f7a-aada-4132649a5879",
    "outputId": "daa5ae04-d419-456d-f185-f822c9ea6066"
   },
   "outputs": [
    {
     "data": {
      "image/png": "[encoded data removed]",
      "text/plain": [
       "<Figure size 1200x1500 with 3 Axes>"
      ]
     },
     "metadata": {},
     "output_type": "display_data"
    }
   ],
   "source": [
    "fig, ax = plt.subplots(nrows=3, ncols=1, figsize=(12, 15))\n",
    "fig.tight_layout(pad=5.0)\n",
    "\n",
    "\n",
    "dfs = [ER_reviews_df, ERDLC_reviews_df, ERN_reviews_df]\n",
    "titles = [\n",
    "    'Distribution of Positive and Negative Reviews: Elden Ring (Base Game)',\n",
    "    'Distribution of Positive and Negative Reviews: Elden Ring DLC',\n",
    "    'Distribution of Positive and Negative Reviews: Elden Ring Nightreign'\n",
    "]\n",
    "\n",
    "\n",
    "for i, (df, title) in enumerate(zip(dfs, titles)):\n",
    "    sns.countplot(df, x='voted_up', ax=ax[i])\n",
    "\n",
    "    ax[i].set_title(title, fontsize=14, fontweight='bold', pad=20)\n",
    "    ax[i].set_xlabel('Emotion of Review', fontsize=12)\n",
    "    ax[i].set_ylabel('Count of Reviews', fontsize=12)\n",
    "\n",
    "plt.show()"
   ]
  },
  {
   "cell_type": "code",
   "execution_count": 9,
   "id": "4b0b8523-5984-400c-bc4b-dad6a41a0648",
   "metadata": {
    "id": "4b0b8523-5984-400c-bc4b-dad6a41a0648"
   },
   "outputs": [],
   "source": [
    "url_pattern = re.compile(r'https?://\\S+')\n",
    "html_pattern = re.compile(r'\\[[/A-Za-z0-9\\*]+\\]')\n",
    "\n",
    "def remove_noise(text: str) -> str:\n",
    "    text_without_urls = url_pattern.sub('', text)\n",
    "    text_without_html = html_pattern.sub('', text_without_urls)\n",
    "    return text_without_html.replace('\\n', ' ').replace('\\t', ' ').replace('\\r', ' ')"
   ]
  },
  {
   "cell_type": "code",
   "execution_count": 10,
   "id": "lT9ZLFxPcM6d",
   "metadata": {
    "id": "lT9ZLFxPcM6d"
   },
   "outputs": [],
   "source": [
    "ER_reviews_df['review'] = ER_reviews_df['review'].apply(lambda row: remove_noise(row))\n",
    "ER_reviews_df['length'] = ER_reviews_df['review'].apply(lambda row: len(row))\n",
    "\n",
    "ERDLC_reviews_df['review'] = ERDLC_reviews_df['review'].apply(lambda row: remove_noise(row))\n",
    "ERDLC_reviews_df['length'] = ERDLC_reviews_df['review'].apply(lambda row: len(row))\n",
    "\n",
    "ERN_reviews_df['review'] = ERN_reviews_df['review'].apply(lambda row: remove_noise(row))\n",
    "ERN_reviews_df['length'] = ERN_reviews_df['review'].apply(lambda row: len(row))"
   ]
  },
  {
   "cell_type": "code",
   "execution_count": 11,
   "id": "nJHUCcwTBSbC",
   "metadata": {
    "colab": {
     "base_uri": "https://localhost:8080/",
     "height": 848
    },
    "id": "nJHUCcwTBSbC",
    "outputId": "11c4d6a9-7b58-4a42-af08-1273ef7bbe08"
   },
   "outputs": [
    {
     "data": {
      "image/png": "[encoded data removed]",
      "text/plain": [
       "<Figure size 1200x1500 with 3 Axes>"
      ]
     },
     "metadata": {},
     "output_type": "display_data"
    }
   ],
   "source": [
    "fig, ax = plt.subplots(nrows=3, ncols=1, figsize=(12, 15))\n",
    "fig.tight_layout(pad=5.0)\n",
    "\n",
    "\n",
    "dfs = [ER_reviews_df, ERDLC_reviews_df, ERN_reviews_df]\n",
    "titles = [\n",
    "    'Distribution of Review Length: Elden Ring (Base Game)',\n",
    "    'Distribution of Review Length: Elden Ring DLC',\n",
    "    'Distribution of Review Length: Elden Ring Nightreign'\n",
    "]\n",
    "\n",
    "\n",
    "for i, (df, title) in enumerate(zip(dfs, titles)):\n",
    "    sns.histplot(df, x='length', ax=ax[i],\n",
    "                 kde=True,\n",
    "                 alpha=0.7,\n",
    "                 bins=50,\n",
    "                 edgecolor='black', linewidth=0.5)\n",
    "\n",
    "    ax[i].set_title(title, fontsize=14, fontweight='bold', pad=20)\n",
    "    ax[i].set_xlabel('Review Length (characters)', fontsize=12)\n",
    "    ax[i].set_ylabel('Count of Reviews', fontsize=12)\n",
    "    mean_val = df['length'].mean()\n",
    "    median_val = df['length'].median()\n",
    "    ax[i].axvline(mean_val, color='red', linestyle='--', linewidth=2, label=f'Mean: {mean_val:.0f}')\n",
    "    ax[i].axvline(median_val, color='blue', linestyle='--', linewidth=2, label=f'Median: {median_val:.0f}')\n",
    "    ax[i].legend()\n",
    "\n",
    "plt.show()"
   ]
  },
  {
   "cell_type": "code",
   "execution_count": 12,
   "id": "35ccd57f-a0b3-4559-9498-d2a2d371215c",
   "metadata": {
    "id": "35ccd57f-a0b3-4559-9498-d2a2d371215c"
   },
   "outputs": [],
   "source": [
    "punctuation_marks = string.punctuation\n",
    "punctuation_marks_list = [char for char in punctuation_marks]\n",
    "punctuation_marks_list.extend(['...', '..'])\n",
    "\n",
    "nlp = spacy.load(\"en_core_web_sm\")\n",
    "\n",
    "stop_words = stopwords.words('english')"
   ]
  },
  {
   "cell_type": "code",
   "execution_count": 47,
   "id": "ae3ba7e6-21fe-42fe-b135-7a86a33da8b1",
   "metadata": {
    "id": "ae3ba7e6-21fe-42fe-b135-7a86a33da8b1"
   },
   "outputs": [],
   "source": [
    "def preprocess(text, stop_words, punctuation_marks, morph):\n",
    "    text = remove_noise(text)\n",
    "    tokens = word_tokenize(text.lower())\n",
    "    preprocessed_text = []\n",
    "    for token in tokens:\n",
    "        if token not in punctuation_marks:\n",
    "            lemma = morph(token)[0].lemma_\n",
    "            if lemma not in stop_words and lemma not in punctuation_marks:\n",
    "                preprocessed_text.append(lemma)\n",
    "    return preprocessed_text"
   ]
  },
  {
   "cell_type": "code",
   "execution_count": 14,
   "id": "TYyIaGZAhazj",
   "metadata": {
    "id": "TYyIaGZAhazj"
   },
   "outputs": [],
   "source": [
    "ER_mid_reviews_df = ER_reviews_df.query('4 <= length <= 100').copy()\n",
    "ERDLC_mid_reviews_df = ERDLC_reviews_df.query('4 <= length <= 100').copy()\n",
    "ERN_mid_reviews_df = ERN_reviews_df.query('4 <= length <= 100').copy()"
   ]
  },
  {
   "cell_type": "code",
   "execution_count": 15,
   "id": "Q1Pga-cGGVlB",
   "metadata": {
    "colab": {
     "base_uri": "https://localhost:8080/"
    },
    "id": "Q1Pga-cGGVlB",
    "outputId": "65023920-a6c0-4b36-b02f-4296b1cbe97c"
   },
   "outputs": [
    {
     "name": "stderr",
     "output_type": "stream",
     "text": [
      "100%|██████████████████████████████████████████████████████████████████████████| 36205/36205 [1:35:43<00:00,  6.30it/s]\n",
      "C:\\Users\\furmi\\AppData\\Local\\Temp\\ipykernel_15576\\1527169825.py:4: SettingWithCopyWarning: \n",
      "A value is trying to be set on a copy of a slice from a DataFrame.\n",
      "Try using .loc[row_indexer,col_indexer] = value instead\n",
      "\n",
      "See the caveats in the documentation: https://pandas.pydata.org/pandas-docs/stable/user_guide/indexing.html#returning-a-view-versus-a-copy\n",
      "  ER_mid_reviews_df['preprocessed_review'] = ER_mid_reviews_df['review'].progress_apply(lambda row:preprocess(row,stop_words,punctuation_marks, nlp) )\n",
      "100%|██████████████████████████████████████████████████████████████████████████████| 1784/1784 [05:21<00:00,  5.55it/s]\n",
      "C:\\Users\\furmi\\AppData\\Local\\Temp\\ipykernel_15576\\1527169825.py:5: SettingWithCopyWarning: \n",
      "A value is trying to be set on a copy of a slice from a DataFrame.\n",
      "Try using .loc[row_indexer,col_indexer] = value instead\n",
      "\n",
      "See the caveats in the documentation: https://pandas.pydata.org/pandas-docs/stable/user_guide/indexing.html#returning-a-view-versus-a-copy\n",
      "  ERDLC_mid_reviews_df['preprocessed_review'] = ERDLC_mid_reviews_df['review'].progress_apply(lambda row:preprocess(row,stop_words,punctuation_marks, nlp) )\n",
      "100%|██████████████████████████████████████████████████████████████████████████| 44395/44395 [1:57:12<00:00,  6.31it/s]\n",
      "C:\\Users\\furmi\\AppData\\Local\\Temp\\ipykernel_15576\\1527169825.py:6: SettingWithCopyWarning: \n",
      "A value is trying to be set on a copy of a slice from a DataFrame.\n",
      "Try using .loc[row_indexer,col_indexer] = value instead\n",
      "\n",
      "See the caveats in the documentation: https://pandas.pydata.org/pandas-docs/stable/user_guide/indexing.html#returning-a-view-versus-a-copy\n",
      "  ERN_mid_reviews_df['preprocessed_review'] = ERN_mid_reviews_df['review'].progress_apply(lambda row:preprocess(row,stop_words,punctuation_marks, nlp) )\n"
     ]
    }
   ],
   "source": [
    "from tqdm import tqdm\n",
    "tqdm.pandas()\n",
    "\n",
    "ER_mid_reviews_df['preprocessed_review1'] = ER_mid_reviews_df['review'].progress_apply(lambda row:preprocess(row,stop_words,punctuation_marks, nlp) )\n",
    "ERDLC_mid_reviews_df['preprocessed_review'] = ERDLC_mid_reviews_df['review'].progress_apply(lambda row:preprocess(row,stop_words,punctuation_marks, nlp) )\n",
    "ERN_mid_reviews_df['preprocessed_review'] = ERN_mid_reviews_df['review'].progress_apply(lambda row:preprocess(row,stop_words,punctuation_marks, nlp) )"
   ]
  },
  {
   "cell_type": "code",
   "execution_count": 16,
   "id": "bd4e1960-b3d1-4744-9c78-80043816dd2f",
   "metadata": {
    "colab": {
     "base_uri": "https://localhost:8080/",
     "height": 178
    },
    "id": "bd4e1960-b3d1-4744-9c78-80043816dd2f",
    "outputId": "74265ccc-6b9c-446f-f61d-3e433d9fc64f"
   },
   "outputs": [
    {
     "data": {
      "text/plain": [
       "voted_up\n",
       "False    2500\n",
       "True     2500\n",
       "Name: count, dtype: int64"
      ]
     },
     "execution_count": 16,
     "metadata": {},
     "output_type": "execute_result"
    }
   ],
   "source": [
    "sorted_by_voted_df = ERN_mid_reviews_df.sort_values(by='voted_up').copy()\n",
    "balanced_df = pd.concat([sorted_by_voted_df.head(2500), sorted_by_voted_df.tail(2500)])\n",
    "balanced_df['voted_up'].value_counts()"
   ]
  },
  {
   "cell_type": "code",
   "execution_count": null,
   "id": "OvQYSd346s8M",
   "metadata": {
    "colab": {
     "base_uri": "https://localhost:8080/",
     "height": 258
    },
    "id": "OvQYSd346s8M",
    "outputId": "3b0cd554-9846-4428-a1e5-662eaa3557e2"
   },
   "outputs": [
    {
     "data": {
      "application/vnd.google.colaboratory.intrinsic+json": {
       "summary": "{\n  \"name\": \"balanced_df\",\n  \"rows\": 7422,\n  \"fields\": [\n    {\n      \"column\": \"recommendationid\",\n      \"properties\": {\n        \"dtype\": \"number\",\n        \"std\": 1554692,\n        \"min\": 195927603,\n        \"max\": 202808129,\n        \"num_unique_values\": 7418,\n        \"samples\": [\n          196199779,\n          196027537,\n          196232166\n        ],\n        \"semantic_type\": \"\",\n        \"description\": \"\"\n      }\n    },\n    {\n      \"column\": \"review\",\n      \"properties\": {\n        \"dtype\": \"string\",\n        \"num_unique_values\": 7307,\n        \"samples\": [\n          \"Shut up brain, panic roll is speaking\",\n          \"very fun with competent teamates\",\n          \"dark souls 2 bosses? it must be peak.\"\n        ],\n        \"semantic_type\": \"\",\n        \"description\": \"\"\n      }\n    },\n    {\n      \"column\": \"voted_up\",\n      \"properties\": {\n        \"dtype\": \"boolean\",\n        \"num_unique_values\": 2,\n        \"samples\": [\n          true,\n          false\n        ],\n        \"semantic_type\": \"\",\n        \"description\": \"\"\n      }\n    },\n    {\n      \"column\": \"length\",\n      \"properties\": {\n        \"dtype\": \"number\",\n        \"std\": 21,\n        \"min\": 4,\n        \"max\": 100,\n        \"num_unique_values\": 97,\n        \"samples\": [\n          81,\n          25\n        ],\n        \"semantic_type\": \"\",\n        \"description\": \"\"\n      }\n    },\n    {\n      \"column\": \"preprocessed_review\",\n      \"properties\": {\n        \"dtype\": \"object\",\n        \"semantic_type\": \"\",\n        \"description\": \"\"\n      }\n    }\n  ]\n}",
       "type": "dataframe",
       "variable_name": "balanced_df"
      },
      "text/html": [
       "\n",
       "  <div id=\"df-ecf1c7e8-54c9-4ee0-a6c3-2a05c22c6ff6\" class=\"colab-df-container\">\n",
       "    <div>\n",
       "<style scoped>\n",
       "    .dataframe tbody tr th:only-of-type {\n",
       "        vertical-align: middle;\n",
       "    }\n",
       "\n",
       "    .dataframe tbody tr th {\n",
       "        vertical-align: top;\n",
       "    }\n",
       "\n",
       "    .dataframe thead th {\n",
       "        text-align: right;\n",
       "    }\n",
       "</style>\n",
       "<table border=\"1\" class=\"dataframe\">\n",
       "  <thead>\n",
       "    <tr style=\"text-align: right;\">\n",
       "      <th></th>\n",
       "      <th>recommendationid</th>\n",
       "      <th>review</th>\n",
       "      <th>voted_up</th>\n",
       "      <th>length</th>\n",
       "      <th>preprocessed_review</th>\n",
       "    </tr>\n",
       "  </thead>\n",
       "  <tbody>\n",
       "    <tr>\n",
       "      <th>49061</th>\n",
       "      <td>195941528</td>\n",
       "      <td>still no ultrawide support</td>\n",
       "      <td>False</td>\n",
       "      <td>26</td>\n",
       "      <td>[still, ultrawide, support]</td>\n",
       "    </tr>\n",
       "    <tr>\n",
       "      <th>55557</th>\n",
       "      <td>197837277</td>\n",
       "      <td>chat we love crashes</td>\n",
       "      <td>False</td>\n",
       "      <td>20</td>\n",
       "      <td>[chat, love, crash]</td>\n",
       "    </tr>\n",
       "    <tr>\n",
       "      <th>66310</th>\n",
       "      <td>196685662</td>\n",
       "      <td>I HATE YOU</td>\n",
       "      <td>False</td>\n",
       "      <td>10</td>\n",
       "      <td>[I, hate]</td>\n",
       "    </tr>\n",
       "    <tr>\n",
       "      <th>55553</th>\n",
       "      <td>196138627</td>\n",
       "      <td>its slop</td>\n",
       "      <td>False</td>\n",
       "      <td>8</td>\n",
       "      <td>[slop]</td>\n",
       "    </tr>\n",
       "    <tr>\n",
       "      <th>55552</th>\n",
       "      <td>197290118</td>\n",
       "      <td>Not it</td>\n",
       "      <td>False</td>\n",
       "      <td>6</td>\n",
       "      <td>[]</td>\n",
       "    </tr>\n",
       "  </tbody>\n",
       "</table>\n",
       "</div>\n",
       "    <div class=\"colab-df-buttons\">\n",
       "\n",
       "  <div class=\"colab-df-container\">\n",
       "    <button class=\"colab-df-convert\" onclick=\"convertToInteractive('df-ecf1c7e8-54c9-4ee0-a6c3-2a05c22c6ff6')\"\n",
       "            title=\"Convert this dataframe to an interactive table.\"\n",
       "            style=\"display:none;\">\n",
       "\n",
       "  <svg xmlns=\"http://www.w3.org/2000/svg\" height=\"24px\" viewBox=\"0 -960 960 960\">\n",
       "    <path d=\"M120-120v-720h720v720H120Zm60-500h600v-160H180v160Zm220 220h160v-160H400v160Zm0 220h160v-160H400v160ZM180-400h160v-160H180v160Zm440 0h160v-160H620v160ZM180-180h160v-160H180v160Zm440 0h160v-160H620v160Z\"/>\n",
       "  </svg>\n",
       "    </button>\n",
       "\n",
       "  <style>\n",
       "    .colab-df-container {\n",
       "      display:flex;\n",
       "      gap: 12px;\n",
       "    }\n",
       "\n",
       "    .colab-df-convert {\n",
       "      background-color: #E8F0FE;\n",
       "      border: none;\n",
       "      border-radius: 50%;\n",
       "      cursor: pointer;\n",
       "      display: none;\n",
       "      fill: #1967D2;\n",
       "      height: 32px;\n",
       "      padding: 0 0 0 0;\n",
       "      width: 32px;\n",
       "    }\n",
       "\n",
       "    .colab-df-convert:hover {\n",
       "      background-color: #E2EBFA;\n",
       "      box-shadow: 0px 1px 2px rgba(60, 64, 67, 0.3), 0px 1px 3px 1px rgba(60, 64, 67, 0.15);\n",
       "      fill: #174EA6;\n",
       "    }\n",
       "\n",
       "    .colab-df-buttons div {\n",
       "      margin-bottom: 4px;\n",
       "    }\n",
       "\n",
       "    [theme=dark] .colab-df-convert {\n",
       "      background-color: #3B4455;\n",
       "      fill: #D2E3FC;\n",
       "    }\n",
       "\n",
       "    [theme=dark] .colab-df-convert:hover {\n",
       "      background-color: #434B5C;\n",
       "      box-shadow: 0px 1px 3px 1px rgba(0, 0, 0, 0.15);\n",
       "      filter: drop-shadow(0px 1px 2px rgba(0, 0, 0, 0.3));\n",
       "      fill: #FFFFFF;\n",
       "    }\n",
       "  </style>\n",
       "\n",
       "    <script>\n",
       "      const buttonEl =\n",
       "        document.querySelector('#df-ecf1c7e8-54c9-4ee0-a6c3-2a05c22c6ff6 button.colab-df-convert');\n",
       "      buttonEl.style.display =\n",
       "        google.colab.kernel.accessAllowed ? 'block' : 'none';\n",
       "\n",
       "      async function convertToInteractive(key) {\n",
       "        const element = document.querySelector('#df-ecf1c7e8-54c9-4ee0-a6c3-2a05c22c6ff6');\n",
       "        const dataTable =\n",
       "          await google.colab.kernel.invokeFunction('convertToInteractive',\n",
       "                                                    [key], {});\n",
       "        if (!dataTable) return;\n",
       "\n",
       "        const docLinkHtml = 'Like what you see? Visit the ' +\n",
       "          '<a target=\"_blank\" href=https://colab.research.google.com/notebooks/data_table.ipynb>data table notebook</a>'\n",
       "          + ' to learn more about interactive tables.';\n",
       "        element.innerHTML = '';\n",
       "        dataTable['output_type'] = 'display_data';\n",
       "        await google.colab.output.renderOutput(dataTable, element);\n",
       "        const docLink = document.createElement('div');\n",
       "        docLink.innerHTML = docLinkHtml;\n",
       "        element.appendChild(docLink);\n",
       "      }\n",
       "    </script>\n",
       "  </div>\n",
       "\n",
       "\n",
       "    <div id=\"df-9b9bbfd0-a255-4c91-b8fb-fba539a16615\">\n",
       "      <button class=\"colab-df-quickchart\" onclick=\"quickchart('df-9b9bbfd0-a255-4c91-b8fb-fba539a16615')\"\n",
       "                title=\"Suggest charts\"\n",
       "                style=\"display:none;\">\n",
       "\n",
       "<svg xmlns=\"http://www.w3.org/2000/svg\" height=\"24px\"viewBox=\"0 0 24 24\"\n",
       "     width=\"24px\">\n",
       "    <g>\n",
       "        <path d=\"M19 3H5c-1.1 0-2 .9-2 2v14c0 1.1.9 2 2 2h14c1.1 0 2-.9 2-2V5c0-1.1-.9-2-2-2zM9 17H7v-7h2v7zm4 0h-2V7h2v10zm4 0h-2v-4h2v4z\"/>\n",
       "    </g>\n",
       "</svg>\n",
       "      </button>\n",
       "\n",
       "<style>\n",
       "  .colab-df-quickchart {\n",
       "      --bg-color: #E8F0FE;\n",
       "      --fill-color: #1967D2;\n",
       "      --hover-bg-color: #E2EBFA;\n",
       "      --hover-fill-color: #174EA6;\n",
       "      --disabled-fill-color: #AAA;\n",
       "      --disabled-bg-color: #DDD;\n",
       "  }\n",
       "\n",
       "  [theme=dark] .colab-df-quickchart {\n",
       "      --bg-color: #3B4455;\n",
       "      --fill-color: #D2E3FC;\n",
       "      --hover-bg-color: #434B5C;\n",
       "      --hover-fill-color: #FFFFFF;\n",
       "      --disabled-bg-color: #3B4455;\n",
       "      --disabled-fill-color: #666;\n",
       "  }\n",
       "\n",
       "  .colab-df-quickchart {\n",
       "    background-color: var(--bg-color);\n",
       "    border: none;\n",
       "    border-radius: 50%;\n",
       "    cursor: pointer;\n",
       "    display: none;\n",
       "    fill: var(--fill-color);\n",
       "    height: 32px;\n",
       "    padding: 0;\n",
       "    width: 32px;\n",
       "  }\n",
       "\n",
       "  .colab-df-quickchart:hover {\n",
       "    background-color: var(--hover-bg-color);\n",
       "    box-shadow: 0 1px 2px rgba(60, 64, 67, 0.3), 0 1px 3px 1px rgba(60, 64, 67, 0.15);\n",
       "    fill: var(--button-hover-fill-color);\n",
       "  }\n",
       "\n",
       "  .colab-df-quickchart-complete:disabled,\n",
       "  .colab-df-quickchart-complete:disabled:hover {\n",
       "    background-color: var(--disabled-bg-color);\n",
       "    fill: var(--disabled-fill-color);\n",
       "    box-shadow: none;\n",
       "  }\n",
       "\n",
       "  .colab-df-spinner {\n",
       "    border: 2px solid var(--fill-color);\n",
       "    border-color: transparent;\n",
       "    border-bottom-color: var(--fill-color);\n",
       "    animation:\n",
       "      spin 1s steps(1) infinite;\n",
       "  }\n",
       "\n",
       "  @keyframes spin {\n",
       "    0% {\n",
       "      border-color: transparent;\n",
       "      border-bottom-color: var(--fill-color);\n",
       "      border-left-color: var(--fill-color);\n",
       "    }\n",
       "    20% {\n",
       "      border-color: transparent;\n",
       "      border-left-color: var(--fill-color);\n",
       "      border-top-color: var(--fill-color);\n",
       "    }\n",
       "    30% {\n",
       "      border-color: transparent;\n",
       "      border-left-color: var(--fill-color);\n",
       "      border-top-color: var(--fill-color);\n",
       "      border-right-color: var(--fill-color);\n",
       "    }\n",
       "    40% {\n",
       "      border-color: transparent;\n",
       "      border-right-color: var(--fill-color);\n",
       "      border-top-color: var(--fill-color);\n",
       "    }\n",
       "    60% {\n",
       "      border-color: transparent;\n",
       "      border-right-color: var(--fill-color);\n",
       "    }\n",
       "    80% {\n",
       "      border-color: transparent;\n",
       "      border-right-color: var(--fill-color);\n",
       "      border-bottom-color: var(--fill-color);\n",
       "    }\n",
       "    90% {\n",
       "      border-color: transparent;\n",
       "      border-bottom-color: var(--fill-color);\n",
       "    }\n",
       "  }\n",
       "</style>\n",
       "\n",
       "      <script>\n",
       "        async function quickchart(key) {\n",
       "          const quickchartButtonEl =\n",
       "            document.querySelector('#' + key + ' button');\n",
       "          quickchartButtonEl.disabled = true;  // To prevent multiple clicks.\n",
       "          quickchartButtonEl.classList.add('colab-df-spinner');\n",
       "          try {\n",
       "            const charts = await google.colab.kernel.invokeFunction(\n",
       "                'suggestCharts', [key], {});\n",
       "          } catch (error) {\n",
       "            console.error('Error during call to suggestCharts:', error);\n",
       "          }\n",
       "          quickchartButtonEl.classList.remove('colab-df-spinner');\n",
       "          quickchartButtonEl.classList.add('colab-df-quickchart-complete');\n",
       "        }\n",
       "        (() => {\n",
       "          let quickchartButtonEl =\n",
       "            document.querySelector('#df-9b9bbfd0-a255-4c91-b8fb-fba539a16615 button');\n",
       "          quickchartButtonEl.style.display =\n",
       "            google.colab.kernel.accessAllowed ? 'block' : 'none';\n",
       "        })();\n",
       "      </script>\n",
       "    </div>\n",
       "    </div>\n",
       "  </div>\n"
      ],
      "text/plain": [
       "       recommendationid                      review  voted_up  length  \\\n",
       "49061         195941528  still no ultrawide support     False      26   \n",
       "55557         197837277        chat we love crashes     False      20   \n",
       "66310         196685662                  I HATE YOU     False      10   \n",
       "55553         196138627                    its slop     False       8   \n",
       "55552         197290118                      Not it     False       6   \n",
       "\n",
       "               preprocessed_review  \n",
       "49061  [still, ultrawide, support]  \n",
       "55557          [chat, love, crash]  \n",
       "66310                    [I, hate]  \n",
       "55553                       [slop]  \n",
       "55552                           []  "
      ]
     },
     "execution_count": 41,
     "metadata": {},
     "output_type": "execute_result"
    }
   ],
   "source": [
    "balanced_df.head()"
   ]
  },
  {
   "cell_type": "code",
   "execution_count": 17,
   "id": "-I_OOn6ulMqJ",
   "metadata": {
    "id": "-I_OOn6ulMqJ"
   },
   "outputs": [],
   "source": [
    "words = Counter()"
   ]
  },
  {
   "cell_type": "code",
   "execution_count": 18,
   "id": "TIZdI4M3lQx1",
   "metadata": {
    "id": "TIZdI4M3lQx1"
   },
   "outputs": [],
   "source": [
    "for txt in balanced_df['preprocessed_review']:\n",
    "  words.update(txt)"
   ]
  },
  {
   "cell_type": "code",
   "execution_count": 19,
   "id": "piQBH1RAloYy",
   "metadata": {
    "id": "piQBH1RAloYy"
   },
   "outputs": [],
   "source": [
    "word_to_index = dict()\n",
    "index_to_word = dict()"
   ]
  },
  {
   "cell_type": "code",
   "execution_count": 20,
   "id": "v36l2D4al1ji",
   "metadata": {
    "id": "v36l2D4al1ji"
   },
   "outputs": [],
   "source": [
    "for i, word in enumerate(words.most_common(10000-2)):\n",
    "  word_to_index[word[0]] = i+2\n",
    "  index_to_word[i+2] = word[0]"
   ]
  },
  {
   "cell_type": "code",
   "execution_count": 21,
   "id": "8mZwwafhmS_J",
   "metadata": {
    "id": "8mZwwafhmS_J"
   },
   "outputs": [],
   "source": [
    "def text_to_sequence(txt, word_to_index):\n",
    "  seq = []\n",
    "  for word in txt:\n",
    "    index = word_to_index.get(word,1)\n",
    "\n",
    "    if index != 1:\n",
    "      seq.append(index)\n",
    "  return seq"
   ]
  },
  {
   "cell_type": "code",
   "execution_count": 22,
   "id": "jTqT5daomuMC",
   "metadata": {
    "id": "jTqT5daomuMC"
   },
   "outputs": [],
   "source": [
    "balanced_df['Sequences'] = balanced_df['preprocessed_review'].apply(lambda x: text_to_sequence(x, word_to_index))"
   ]
  },
  {
   "cell_type": "code",
   "execution_count": 23,
   "id": "rzliRx_1oGt3",
   "metadata": {
    "id": "rzliRx_1oGt3"
   },
   "outputs": [],
   "source": [
    "balanced_df['voted_up'] = balanced_df['voted_up'].astype(int)"
   ]
  },
  {
   "cell_type": "code",
   "execution_count": 24,
   "id": "YJtak_ZYpJyj",
   "metadata": {
    "id": "YJtak_ZYpJyj"
   },
   "outputs": [],
   "source": [
    "def vectorize_sequences(sequences, dimension=10000):\n",
    "  result = np.zeros((len(sequences),dimension))\n",
    "  for i, sequence in enumerate(sequences):\n",
    "    for index in sequence:\n",
    "      result[i,index] += 1\n",
    "  return result"
   ]
  },
  {
   "cell_type": "code",
   "execution_count": 25,
   "id": "NsJ0NfR2qamq",
   "metadata": {
    "id": "NsJ0NfR2qamq"
   },
   "outputs": [],
   "source": [
    "lr = LogisticRegression(random_state=42,max_iter=500)"
   ]
  },
  {
   "cell_type": "code",
   "execution_count": 45,
   "id": "hmJNJi0URhgI",
   "metadata": {
    "colab": {
     "base_uri": "https://localhost:8080/"
    },
    "id": "hmJNJi0URhgI",
    "outputId": "5816c4c1-1ec5-4cdc-ee86-af3a3fae96c8"
   },
   "outputs": [
    {
     "data": {
      "text/plain": [
       "array([0.82 , 0.802, 0.791, 0.787, 0.789])"
      ]
     },
     "execution_count": 45,
     "metadata": {},
     "output_type": "execute_result"
    }
   ],
   "source": [
    "X = vectorize_sequences(balanced_df['Sequences'])\n",
    "y = balanced_df['voted_up']\n",
    "\n",
    "cv_results = cross_validate(lr, X, y)\n",
    "sorted(cv_results.keys())\n",
    "cv_results['test_score']"
   ]
  },
  {
   "cell_type": "code",
   "execution_count": 30,
   "id": "_WlKCcOEqhMA",
   "metadata": {
    "colab": {
     "base_uri": "https://localhost:8080/",
     "height": 80
    },
    "id": "_WlKCcOEqhMA",
    "outputId": "8f3bbb01-48c9-44c4-b6e2-1882c3db6bdf"
   },
   "outputs": [
    {
     "data": {
      "text/html": [
       "<style>#sk-container-id-1 {\n",
       "  /* Definition of color scheme common for light and dark mode */\n",
       "  --sklearn-color-text: black;\n",
       "  --sklearn-color-line: gray;\n",
       "  /* Definition of color scheme for unfitted estimators */\n",
       "  --sklearn-color-unfitted-level-0: #fff5e6;\n",
       "  --sklearn-color-unfitted-level-1: #f6e4d2;\n",
       "  --sklearn-color-unfitted-level-2: #ffe0b3;\n",
       "  --sklearn-color-unfitted-level-3: chocolate;\n",
       "  /* Definition of color scheme for fitted estimators */\n",
       "  --sklearn-color-fitted-level-0: #f0f8ff;\n",
       "  --sklearn-color-fitted-level-1: #d4ebff;\n",
       "  --sklearn-color-fitted-level-2: #b3dbfd;\n",
       "  --sklearn-color-fitted-level-3: cornflowerblue;\n",
       "\n",
       "  /* Specific color for light theme */\n",
       "  --sklearn-color-text-on-default-background: var(--sg-text-color, var(--theme-code-foreground, var(--jp-content-font-color1, black)));\n",
       "  --sklearn-color-background: var(--sg-background-color, var(--theme-background, var(--jp-layout-color0, white)));\n",
       "  --sklearn-color-border-box: var(--sg-text-color, var(--theme-code-foreground, var(--jp-content-font-color1, black)));\n",
       "  --sklearn-color-icon: #696969;\n",
       "\n",
       "  @media (prefers-color-scheme: dark) {\n",
       "    /* Redefinition of color scheme for dark theme */\n",
       "    --sklearn-color-text-on-default-background: var(--sg-text-color, var(--theme-code-foreground, var(--jp-content-font-color1, white)));\n",
       "    --sklearn-color-background: var(--sg-background-color, var(--theme-background, var(--jp-layout-color0, #111)));\n",
       "    --sklearn-color-border-box: var(--sg-text-color, var(--theme-code-foreground, var(--jp-content-font-color1, white)));\n",
       "    --sklearn-color-icon: #878787;\n",
       "  }\n",
       "}\n",
       "\n",
       "#sk-container-id-1 {\n",
       "  color: var(--sklearn-color-text);\n",
       "}\n",
       "\n",
       "#sk-container-id-1 pre {\n",
       "  padding: 0;\n",
       "}\n",
       "\n",
       "#sk-container-id-1 input.sk-hidden--visually {\n",
       "  border: 0;\n",
       "  clip: rect(1px 1px 1px 1px);\n",
       "  clip: rect(1px, 1px, 1px, 1px);\n",
       "  height: 1px;\n",
       "  margin: -1px;\n",
       "  overflow: hidden;\n",
       "  padding: 0;\n",
       "  position: absolute;\n",
       "  width: 1px;\n",
       "}\n",
       "\n",
       "#sk-container-id-1 div.sk-dashed-wrapped {\n",
       "  border: 1px dashed var(--sklearn-color-line);\n",
       "  margin: 0 0.4em 0.5em 0.4em;\n",
       "  box-sizing: border-box;\n",
       "  padding-bottom: 0.4em;\n",
       "  background-color: var(--sklearn-color-background);\n",
       "}\n",
       "\n",
       "#sk-container-id-1 div.sk-container {\n",
       "  /* jupyter's `normalize.less` sets `[hidden] { display: none; }`\n",
       "     but bootstrap.min.css set `[hidden] { display: none !important; }`\n",
       "     so we also need the `!important` here to be able to override the\n",
       "     default hidden behavior on the sphinx rendered scikit-learn.org.\n",
       "     See: https://github.com/scikit-learn/scikit-learn/issues/21755 */\n",
       "  display: inline-block !important;\n",
       "  position: relative;\n",
       "}\n",
       "\n",
       "#sk-container-id-1 div.sk-text-repr-fallback {\n",
       "  display: none;\n",
       "}\n",
       "\n",
       "div.sk-parallel-item,\n",
       "div.sk-serial,\n",
       "div.sk-item {\n",
       "  /* draw centered vertical line to link estimators */\n",
       "  background-image: linear-gradient(var(--sklearn-color-text-on-default-background), var(--sklearn-color-text-on-default-background));\n",
       "  background-size: 2px 100%;\n",
       "  background-repeat: no-repeat;\n",
       "  background-position: center center;\n",
       "}\n",
       "\n",
       "/* Parallel-specific style estimator block */\n",
       "\n",
       "#sk-container-id-1 div.sk-parallel-item::after {\n",
       "  content: \"\";\n",
       "  width: 100%;\n",
       "  border-bottom: 2px solid var(--sklearn-color-text-on-default-background);\n",
       "  flex-grow: 1;\n",
       "}\n",
       "\n",
       "#sk-container-id-1 div.sk-parallel {\n",
       "  display: flex;\n",
       "  align-items: stretch;\n",
       "  justify-content: center;\n",
       "  background-color: var(--sklearn-color-background);\n",
       "  position: relative;\n",
       "}\n",
       "\n",
       "#sk-container-id-1 div.sk-parallel-item {\n",
       "  display: flex;\n",
       "  flex-direction: column;\n",
       "}\n",
       "\n",
       "#sk-container-id-1 div.sk-parallel-item:first-child::after {\n",
       "  align-self: flex-end;\n",
       "  width: 50%;\n",
       "}\n",
       "\n",
       "#sk-container-id-1 div.sk-parallel-item:last-child::after {\n",
       "  align-self: flex-start;\n",
       "  width: 50%;\n",
       "}\n",
       "\n",
       "#sk-container-id-1 div.sk-parallel-item:only-child::after {\n",
       "  width: 0;\n",
       "}\n",
       "\n",
       "/* Serial-specific style estimator block */\n",
       "\n",
       "#sk-container-id-1 div.sk-serial {\n",
       "  display: flex;\n",
       "  flex-direction: column;\n",
       "  align-items: center;\n",
       "  background-color: var(--sklearn-color-background);\n",
       "  padding-right: 1em;\n",
       "  padding-left: 1em;\n",
       "}\n",
       "\n",
       "\n",
       "/* Toggleable style: style used for estimator/Pipeline/ColumnTransformer box that is\n",
       "clickable and can be expanded/collapsed.\n",
       "- Pipeline and ColumnTransformer use this feature and define the default style\n",
       "- Estimators will overwrite some part of the style using the `sk-estimator` class\n",
       "*/\n",
       "\n",
       "/* Pipeline and ColumnTransformer style (default) */\n",
       "\n",
       "#sk-container-id-1 div.sk-toggleable {\n",
       "  /* Default theme specific background. It is overwritten whether we have a\n",
       "  specific estimator or a Pipeline/ColumnTransformer */\n",
       "  background-color: var(--sklearn-color-background);\n",
       "}\n",
       "\n",
       "/* Toggleable label */\n",
       "#sk-container-id-1 label.sk-toggleable__label {\n",
       "  cursor: pointer;\n",
       "  display: block;\n",
       "  width: 100%;\n",
       "  margin-bottom: 0;\n",
       "  padding: 0.5em;\n",
       "  box-sizing: border-box;\n",
       "  text-align: center;\n",
       "}\n",
       "\n",
       "#sk-container-id-1 label.sk-toggleable__label-arrow:before {\n",
       "  /* Arrow on the left of the label */\n",
       "  content: \"▸\";\n",
       "  float: left;\n",
       "  margin-right: 0.25em;\n",
       "  color: var(--sklearn-color-icon);\n",
       "}\n",
       "\n",
       "#sk-container-id-1 label.sk-toggleable__label-arrow:hover:before {\n",
       "  color: var(--sklearn-color-text);\n",
       "}\n",
       "\n",
       "/* Toggleable content - dropdown */\n",
       "\n",
       "#sk-container-id-1 div.sk-toggleable__content {\n",
       "  max-height: 0;\n",
       "  max-width: 0;\n",
       "  overflow: hidden;\n",
       "  text-align: left;\n",
       "  /* unfitted */\n",
       "  background-color: var(--sklearn-color-unfitted-level-0);\n",
       "}\n",
       "\n",
       "#sk-container-id-1 div.sk-toggleable__content.fitted {\n",
       "  /* fitted */\n",
       "  background-color: var(--sklearn-color-fitted-level-0);\n",
       "}\n",
       "\n",
       "#sk-container-id-1 div.sk-toggleable__content pre {\n",
       "  margin: 0.2em;\n",
       "  border-radius: 0.25em;\n",
       "  color: var(--sklearn-color-text);\n",
       "  /* unfitted */\n",
       "  background-color: var(--sklearn-color-unfitted-level-0);\n",
       "}\n",
       "\n",
       "#sk-container-id-1 div.sk-toggleable__content.fitted pre {\n",
       "  /* unfitted */\n",
       "  background-color: var(--sklearn-color-fitted-level-0);\n",
       "}\n",
       "\n",
       "#sk-container-id-1 input.sk-toggleable__control:checked~div.sk-toggleable__content {\n",
       "  /* Expand drop-down */\n",
       "  max-height: 200px;\n",
       "  max-width: 100%;\n",
       "  overflow: auto;\n",
       "}\n",
       "\n",
       "#sk-container-id-1 input.sk-toggleable__control:checked~label.sk-toggleable__label-arrow:before {\n",
       "  content: \"▾\";\n",
       "}\n",
       "\n",
       "/* Pipeline/ColumnTransformer-specific style */\n",
       "\n",
       "#sk-container-id-1 div.sk-label input.sk-toggleable__control:checked~label.sk-toggleable__label {\n",
       "  color: var(--sklearn-color-text);\n",
       "  background-color: var(--sklearn-color-unfitted-level-2);\n",
       "}\n",
       "\n",
       "#sk-container-id-1 div.sk-label.fitted input.sk-toggleable__control:checked~label.sk-toggleable__label {\n",
       "  background-color: var(--sklearn-color-fitted-level-2);\n",
       "}\n",
       "\n",
       "/* Estimator-specific style */\n",
       "\n",
       "/* Colorize estimator box */\n",
       "#sk-container-id-1 div.sk-estimator input.sk-toggleable__control:checked~label.sk-toggleable__label {\n",
       "  /* unfitted */\n",
       "  background-color: var(--sklearn-color-unfitted-level-2);\n",
       "}\n",
       "\n",
       "#sk-container-id-1 div.sk-estimator.fitted input.sk-toggleable__control:checked~label.sk-toggleable__label {\n",
       "  /* fitted */\n",
       "  background-color: var(--sklearn-color-fitted-level-2);\n",
       "}\n",
       "\n",
       "#sk-container-id-1 div.sk-label label.sk-toggleable__label,\n",
       "#sk-container-id-1 div.sk-label label {\n",
       "  /* The background is the default theme color */\n",
       "  color: var(--sklearn-color-text-on-default-background);\n",
       "}\n",
       "\n",
       "/* On hover, darken the color of the background */\n",
       "#sk-container-id-1 div.sk-label:hover label.sk-toggleable__label {\n",
       "  color: var(--sklearn-color-text);\n",
       "  background-color: var(--sklearn-color-unfitted-level-2);\n",
       "}\n",
       "\n",
       "/* Label box, darken color on hover, fitted */\n",
       "#sk-container-id-1 div.sk-label.fitted:hover label.sk-toggleable__label.fitted {\n",
       "  color: var(--sklearn-color-text);\n",
       "  background-color: var(--sklearn-color-fitted-level-2);\n",
       "}\n",
       "\n",
       "/* Estimator label */\n",
       "\n",
       "#sk-container-id-1 div.sk-label label {\n",
       "  font-family: monospace;\n",
       "  font-weight: bold;\n",
       "  display: inline-block;\n",
       "  line-height: 1.2em;\n",
       "}\n",
       "\n",
       "#sk-container-id-1 div.sk-label-container {\n",
       "  text-align: center;\n",
       "}\n",
       "\n",
       "/* Estimator-specific */\n",
       "#sk-container-id-1 div.sk-estimator {\n",
       "  font-family: monospace;\n",
       "  border: 1px dotted var(--sklearn-color-border-box);\n",
       "  border-radius: 0.25em;\n",
       "  box-sizing: border-box;\n",
       "  margin-bottom: 0.5em;\n",
       "  /* unfitted */\n",
       "  background-color: var(--sklearn-color-unfitted-level-0);\n",
       "}\n",
       "\n",
       "#sk-container-id-1 div.sk-estimator.fitted {\n",
       "  /* fitted */\n",
       "  background-color: var(--sklearn-color-fitted-level-0);\n",
       "}\n",
       "\n",
       "/* on hover */\n",
       "#sk-container-id-1 div.sk-estimator:hover {\n",
       "  /* unfitted */\n",
       "  background-color: var(--sklearn-color-unfitted-level-2);\n",
       "}\n",
       "\n",
       "#sk-container-id-1 div.sk-estimator.fitted:hover {\n",
       "  /* fitted */\n",
       "  background-color: var(--sklearn-color-fitted-level-2);\n",
       "}\n",
       "\n",
       "/* Specification for estimator info (e.g. \"i\" and \"?\") */\n",
       "\n",
       "/* Common style for \"i\" and \"?\" */\n",
       "\n",
       ".sk-estimator-doc-link,\n",
       "a:link.sk-estimator-doc-link,\n",
       "a:visited.sk-estimator-doc-link {\n",
       "  float: right;\n",
       "  font-size: smaller;\n",
       "  line-height: 1em;\n",
       "  font-family: monospace;\n",
       "  background-color: var(--sklearn-color-background);\n",
       "  border-radius: 1em;\n",
       "  height: 1em;\n",
       "  width: 1em;\n",
       "  text-decoration: none !important;\n",
       "  margin-left: 1ex;\n",
       "  /* unfitted */\n",
       "  border: var(--sklearn-color-unfitted-level-1) 1pt solid;\n",
       "  color: var(--sklearn-color-unfitted-level-1);\n",
       "}\n",
       "\n",
       ".sk-estimator-doc-link.fitted,\n",
       "a:link.sk-estimator-doc-link.fitted,\n",
       "a:visited.sk-estimator-doc-link.fitted {\n",
       "  /* fitted */\n",
       "  border: var(--sklearn-color-fitted-level-1) 1pt solid;\n",
       "  color: var(--sklearn-color-fitted-level-1);\n",
       "}\n",
       "\n",
       "/* On hover */\n",
       "div.sk-estimator:hover .sk-estimator-doc-link:hover,\n",
       ".sk-estimator-doc-link:hover,\n",
       "div.sk-label-container:hover .sk-estimator-doc-link:hover,\n",
       ".sk-estimator-doc-link:hover {\n",
       "  /* unfitted */\n",
       "  background-color: var(--sklearn-color-unfitted-level-3);\n",
       "  color: var(--sklearn-color-background);\n",
       "  text-decoration: none;\n",
       "}\n",
       "\n",
       "div.sk-estimator.fitted:hover .sk-estimator-doc-link.fitted:hover,\n",
       ".sk-estimator-doc-link.fitted:hover,\n",
       "div.sk-label-container:hover .sk-estimator-doc-link.fitted:hover,\n",
       ".sk-estimator-doc-link.fitted:hover {\n",
       "  /* fitted */\n",
       "  background-color: var(--sklearn-color-fitted-level-3);\n",
       "  color: var(--sklearn-color-background);\n",
       "  text-decoration: none;\n",
       "}\n",
       "\n",
       "/* Span, style for the box shown on hovering the info icon */\n",
       ".sk-estimator-doc-link span {\n",
       "  display: none;\n",
       "  z-index: 9999;\n",
       "  position: relative;\n",
       "  font-weight: normal;\n",
       "  right: .2ex;\n",
       "  padding: .5ex;\n",
       "  margin: .5ex;\n",
       "  width: min-content;\n",
       "  min-width: 20ex;\n",
       "  max-width: 50ex;\n",
       "  color: var(--sklearn-color-text);\n",
       "  box-shadow: 2pt 2pt 4pt #999;\n",
       "  /* unfitted */\n",
       "  background: var(--sklearn-color-unfitted-level-0);\n",
       "  border: .5pt solid var(--sklearn-color-unfitted-level-3);\n",
       "}\n",
       "\n",
       ".sk-estimator-doc-link.fitted span {\n",
       "  /* fitted */\n",
       "  background: var(--sklearn-color-fitted-level-0);\n",
       "  border: var(--sklearn-color-fitted-level-3);\n",
       "}\n",
       "\n",
       ".sk-estimator-doc-link:hover span {\n",
       "  display: block;\n",
       "}\n",
       "\n",
       "/* \"?\"-specific style due to the `<a>` HTML tag */\n",
       "\n",
       "#sk-container-id-1 a.estimator_doc_link {\n",
       "  float: right;\n",
       "  font-size: 1rem;\n",
       "  line-height: 1em;\n",
       "  font-family: monospace;\n",
       "  background-color: var(--sklearn-color-background);\n",
       "  border-radius: 1rem;\n",
       "  height: 1rem;\n",
       "  width: 1rem;\n",
       "  text-decoration: none;\n",
       "  /* unfitted */\n",
       "  color: var(--sklearn-color-unfitted-level-1);\n",
       "  border: var(--sklearn-color-unfitted-level-1) 1pt solid;\n",
       "}\n",
       "\n",
       "#sk-container-id-1 a.estimator_doc_link.fitted {\n",
       "  /* fitted */\n",
       "  border: var(--sklearn-color-fitted-level-1) 1pt solid;\n",
       "  color: var(--sklearn-color-fitted-level-1);\n",
       "}\n",
       "\n",
       "/* On hover */\n",
       "#sk-container-id-1 a.estimator_doc_link:hover {\n",
       "  /* unfitted */\n",
       "  background-color: var(--sklearn-color-unfitted-level-3);\n",
       "  color: var(--sklearn-color-background);\n",
       "  text-decoration: none;\n",
       "}\n",
       "\n",
       "#sk-container-id-1 a.estimator_doc_link.fitted:hover {\n",
       "  /* fitted */\n",
       "  background-color: var(--sklearn-color-fitted-level-3);\n",
       "}\n",
       "</style><div id=\"sk-container-id-1\" class=\"sk-top-container\"><div class=\"sk-text-repr-fallback\"><pre>LogisticRegression(max_iter=500, random_state=42)</pre><b>In a Jupyter environment, please rerun this cell to show the HTML representation or trust the notebook. <br />On GitHub, the HTML representation is unable to render, please try loading this page with nbviewer.org.</b></div><div class=\"sk-container\" hidden><div class=\"sk-item\"><div class=\"sk-estimator fitted sk-toggleable\"><input class=\"sk-toggleable__control sk-hidden--visually\" id=\"sk-estimator-id-1\" type=\"checkbox\" checked><label for=\"sk-estimator-id-1\" class=\"sk-toggleable__label fitted sk-toggleable__label-arrow fitted\">&nbsp;&nbsp;LogisticRegression<a class=\"sk-estimator-doc-link fitted\" rel=\"noreferrer\" target=\"_blank\" href=\"https://scikit-learn.org/1.5/modules/generated/sklearn.linear_model.LogisticRegression.html\">?<span>Documentation for LogisticRegression</span></a><span class=\"sk-estimator-doc-link fitted\">i<span>Fitted</span></span></label><div class=\"sk-toggleable__content fitted\"><pre>LogisticRegression(max_iter=500, random_state=42)</pre></div> </div></div></div></div>"
      ],
      "text/plain": [
       "LogisticRegression(max_iter=500, random_state=42)"
      ]
     },
     "execution_count": 30,
     "metadata": {},
     "output_type": "execute_result"
    }
   ],
   "source": [
    "lr.fit(X,y)"
   ]
  },
  {
   "cell_type": "code",
   "execution_count": null,
   "id": "a-J1fG0mqtuk",
   "metadata": {
    "colab": {
     "base_uri": "https://localhost:8080/"
    },
    "id": "a-J1fG0mqtuk",
    "outputId": "22581dfc-9bad-45c8-c633-0fb5f5d9bec2"
   },
   "outputs": [],
   "source": [
    "ERN_mid_reviews_df['Sequences'] = ERN_mid_reviews_df['preprocessed_review'].apply(lambda row: text_to_sequence(row, word_to_index))\n",
    "ERDLC_mid_reviews_df['Sequences'] = ERDLC_mid_reviews_df['preprocessed_review'].apply(lambda row: text_to_sequence(row, word_to_index))\n",
    "ER_mid_reviews_df['Sequences'] = ER_mid_reviews_df['preprocessed_review'].apply(lambda row: text_to_sequence(row, word_to_index))\n",
    "\n",
    "ER_all_df = pd.concat([ERN_mid_reviews_df, ERDLC_mid_reviews_df, ER_mid_reviews_df])\n",
    "\n",
    "X_test = vectorize_sequences(ER_all_df['Sequences'])\n",
    "y_test = ER_all_df['voted_up']"
   ]
  },
  {
   "cell_type": "code",
   "execution_count": 50,
   "id": "372f6428-d883-4371-b423-f74df0b4c381",
   "metadata": {},
   "outputs": [
    {
     "data": {
      "text/plain": [
       "0.7816566323557972"
      ]
     },
     "execution_count": 50,
     "metadata": {},
     "output_type": "execute_result"
    }
   ],
   "source": [
    "lr.score(X_test, y_test)"
   ]
  },
  {
   "cell_type": "code",
   "execution_count": 51,
   "id": "2jPi6bfn2w-S",
   "metadata": {
    "colab": {
     "base_uri": "https://localhost:8080/"
    },
    "id": "2jPi6bfn2w-S",
    "outputId": "8c7da67d-a878-43e5-857c-d6c5cc807e17"
   },
   "outputs": [
    {
     "data": {
      "text/plain": [
       "['LogisticRegression.joblib']"
      ]
     },
     "execution_count": 51,
     "metadata": {},
     "output_type": "execute_result"
    }
   ],
   "source": [
    "dump(lr, 'LogisticRegression.joblib')"
   ]
  },
  {
   "cell_type": "code",
   "execution_count": 52,
   "id": "3Uj6-5tR5V_M",
   "metadata": {
    "id": "3Uj6-5tR5V_M"
   },
   "outputs": [],
   "source": [
    "def predict(texts):\n",
    "  result = []\n",
    "  for text in texts:\n",
    "    text_preprocessed = preprocess(text,punctuation_marks_list,stop_words,nlp)\n",
    "    sequenced_text = text_to_sequence(text_preprocessed,word_to_index)\n",
    "    text_bow = vectorize_sequences([sequenced_text])\n",
    "    result.append(lr.predict(text_bow)[0])\n",
    "  return result"
   ]
  },
  {
   "cell_type": "code",
   "execution_count": 68,
   "id": "dc7f3710-5c4d-4a4e-99e6-491b42e1efc1",
   "metadata": {},
   "outputs": [
    {
     "name": "stdout",
     "output_type": "stream",
     "text": [
      "Исходный текст - Very fun game, but game often crashes without reason, even on low settings.\n",
      "Является отзыв положительным - False\n",
      "Предсказание модели совпало с реальностью - True\n"
     ]
    }
   ],
   "source": [
    "sentence1 = ER_all_df['review'].values[100]\n",
    "is_voted = ER_all_df['voted_up'].values[100]\n",
    "print(f'Исходный текст - {sentence1}')\n",
    "print(f'Является отзыв положительным - {bool(predict([sentence1])[0])}')\n",
    "print(f'Предсказание модели совпало с реальностью - {bool(predict([sentence1])[0]) == is_voted}')"
   ]
  },
  {
   "cell_type": "code",
   "execution_count": null,
   "id": "42a612d8-9ad7-4a35-bb91-0a9dcc0aedcf",
   "metadata": {},
   "outputs": [],
   "source": []
  }
 ],
 "metadata": {
  "colab": {
   "provenance": []
  },
  "kernelspec": {
   "display_name": "Python 3 (ipykernel)",
   "language": "python",
   "name": "python3"
  },
  "language_info": {
   "codemirror_mode": {
    "name": "ipython",
    "version": 3
   },
   "file_extension": ".py",
   "mimetype": "text/x-python",
   "name": "python",
   "nbconvert_exporter": "python",
   "pygments_lexer": "ipython3",
   "version": "3.12.7"
  }
 },
 "nbformat": 4,
 "nbformat_minor": 5
}
