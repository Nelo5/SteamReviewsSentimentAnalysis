{
  "cells": [
    {
      "cell_type": "code",
      "execution_count": null,
      "id": "52fb886f-6aab-47db-aac1-bf36dd3aee81",
      "metadata": {
        "id": "52fb886f-6aab-47db-aac1-bf36dd3aee81"
      },
      "outputs": [],
      "source": [
        "import requests\n",
        "import pandas as pd\n",
        "import seaborn as sns\n",
        "import string\n",
        "import re\n",
        "import numpy as np\n",
        "import spacy\n",
        "import nltk\n",
        "from nltk.tokenize import word_tokenize\n",
        "from nltk.corpus import stopwords\n",
        "from sklearn.linear_model import LogisticRegression\n",
        "from sklearn.model_selection import train_test_split, cross_validate\n",
        "from collections import Counter\n",
        "import pickle\n",
        "from joblib import dump, load"
      ]
    },
    {
      "cell_type": "code",
      "execution_count": null,
      "id": "e6b52c00-8cc3-444d-a5b4-ba11e1cf9b39",
      "metadata": {
        "colab": {
          "base_uri": "https://localhost:8080/"
        },
        "id": "e6b52c00-8cc3-444d-a5b4-ba11e1cf9b39",
        "outputId": "1e0fa8db-441d-4ad7-865a-4a18830044b9"
      },
      "outputs": [
        {
          "name": "stdout",
          "output_type": "stream",
          "text": [
            "Collecting en-core-web-sm==3.8.0\n",
            "  Downloading https://github.com/explosion/spacy-models/releases/download/en_core_web_sm-3.8.0/en_core_web_sm-3.8.0-py3-none-any.whl (12.8 MB)\n",
            "\u001b[2K     \u001b[90m━━━━━━━━━━━━━━━━━━━━━━━━━━━━━━━━━━━━━━━━\u001b[0m \u001b[32m12.8/12.8 MB\u001b[0m \u001b[31m95.4 MB/s\u001b[0m eta \u001b[36m0:00:00\u001b[0m\n",
            "\u001b[?25h\u001b[38;5;2m✔ Download and installation successful\u001b[0m\n",
            "You can now load the package via spacy.load('en_core_web_sm')\n",
            "\u001b[38;5;3m⚠ Restart to reload dependencies\u001b[0m\n",
            "If you are in a Jupyter or Colab notebook, you may need to restart Python in\n",
            "order to load all the package's dependencies. You can do this by selecting the\n",
            "'Restart kernel' or 'Restart runtime' option.\n"
          ]
        }
      ],
      "source": [
        "!python -m spacy download en_core_web_sm"
      ]
    },
    {
      "cell_type": "code",
      "execution_count": null,
      "id": "c9bfd6fc-03f2-4f4f-b45d-4861d9a172da",
      "metadata": {
        "colab": {
          "base_uri": "https://localhost:8080/"
        },
        "id": "c9bfd6fc-03f2-4f4f-b45d-4861d9a172da",
        "outputId": "9aea5284-a488-4511-a53d-db336096a7f1"
      },
      "outputs": [
        {
          "name": "stderr",
          "output_type": "stream",
          "text": [
            "[nltk_data] Downloading package punkt_tab to /root/nltk_data...\n",
            "[nltk_data]   Unzipping tokenizers/punkt_tab.zip.\n",
            "[nltk_data] Downloading package stopwords to /root/nltk_data...\n",
            "[nltk_data]   Unzipping corpora/stopwords.zip.\n"
          ]
        },
        {
          "data": {
            "text/plain": [
              "True"
            ]
          },
          "execution_count": 20,
          "metadata": {},
          "output_type": "execute_result"
        }
      ],
      "source": [
        "nltk.download('punkt_tab')\n",
        "nltk.download('stopwords')"
      ]
    },
    {
      "cell_type": "markdown",
      "id": "943b0b1e",
      "metadata": {},
      "source": [
        "Функция для получения отзывов из сообщества Steam, использует веб-API Steamworks. Возвращает таблицу с 15 колонками:\n",
        "\n",
        "1. recommendationid - Уникальный ID рекомендации\n",
        "2. author - Информация об авторе обзора\n",
        "  2.1. steamid — SteamID пользователя\n",
        "  2.2. num_games_owned — число игр, которыми владеет пользователь\n",
        "  2.3. num_reviews — число обзоров, написанных пользователем\n",
        "  2.4. playtime_forever — время, проведённое в этом приложении за всё время\n",
        "  2.5. playtime_last_two_weeks — время, проведённое в этом приложении за две последние недели\n",
        "  2.6. playtime_forever — время, проведённое в приложении на момент написания обзора\n",
        "  2.7. deck_playtime_at_review — время, проведённое на Steam Deck на момент написания обзора\n",
        "  2.8. last_played — время, когда пользователь запускал приложение в последний раз\n",
        "3. language - Язык, указанный пользователем при написании обзора\n",
        "4. review - Текст обзора\n",
        "5. timestamp_created - Дата создания обзора в формате UNIX\n",
        "6. timestamp_updated - Дата последнего изменения обзора в формате UNIX\n",
        "7. voted_up - Значение true означает, что обзор положительный\n",
        "8. votes_up - Число пользователей, посчитавших обзор полезным\n",
        "9. votes_funny - Число пользователей, посчитавших обзор забавным\n",
        "10. weighted_vote_score - Рейтинг полезности\n",
        "11. comment_count - Число комментариев к этому обзору\n",
        "12. steam_purchase - true, если пользователь купил игру в Steam\n",
        "13. received_for_free - true, если пользователь поставил галочку, означающую, что он получил приложение бесплатно\n",
        "14. written_during_early_access - true, если обзор написан, когда игра была в раннем доступе\n",
        "15. primarily_steam_deck - Играл ли пользователь в эту игру в основном на Steam Deck на момент написания обзора\n",
        "\n",
        "В качестве аргументов функция принимает id игры, число отзывов, которое будет в итоговой таблице, и язык, на котором написаны обзоры. Если указанное число отзывов превышает число отзывов в Steam, то некоторые отзывы будут продублированы."
      ]
    },
    {
      "cell_type": "code",
      "execution_count": null,
      "id": "971d7408-30ca-4387-b237-b1464e53da54",
      "metadata": {
        "id": "971d7408-30ca-4387-b237-b1464e53da54"
      },
      "outputs": [],
      "source": [
        "def get_reviews(appid: str, num_reviews: int = 1000, language: str = 'english') -> pd.DataFrame:\n",
        "    reviews = []\n",
        "    cursor = '*'\n",
        "    params = {\n",
        "        'json': 1,\n",
        "        'filter': 'all',\n",
        "        'language': language,\n",
        "        'day_range': 365,\n",
        "        'review_type': 'all',\n",
        "        'purchase_type': 'all'\n",
        "    }\n",
        "\n",
        "    while len(reviews) < num_reviews:\n",
        "        params['cursor'] = cursor\n",
        "        params['num_per_page'] = min(100, num_reviews - len(reviews))\n",
        "        response = requests.get(\n",
        "            url=f'https://store.steampowered.com/appreviews/{appid}',\n",
        "            params=params\n",
        "        )\n",
        "        data = response.json()\n",
        "        reviews.extend(data.get('reviews', []))\n",
        "        cursor = data.get('cursor')\n",
        "        if not cursor:\n",
        "            break\n",
        "\n",
        "    return pd.DataFrame(reviews)"
      ]
    },
    {
      "cell_type": "code",
      "execution_count": null,
      "id": "67f47b8a-09a5-452b-92ae-9d127fd7f1b3",
      "metadata": {
        "colab": {
          "base_uri": "https://localhost:8080/",
          "height": 417
        },
        "id": "67f47b8a-09a5-452b-92ae-9d127fd7f1b3",
        "outputId": "760e56a7-ba0f-4600-9551-ccccdcb83b19"
      },
      "outputs": [
        {
          "data": {
            "application/vnd.google.colaboratory.intrinsic+json": {
              "type": "dataframe",
              "variable_name": "df"
            },
            "text/html": [
              "\n",
              "  <div id=\"df-2c26dfa5-d94a-46ed-8555-7dce092d1937\" class=\"colab-df-container\">\n",
              "    <div>\n",
              "<style scoped>\n",
              "    .dataframe tbody tr th:only-of-type {\n",
              "        vertical-align: middle;\n",
              "    }\n",
              "\n",
              "    .dataframe tbody tr th {\n",
              "        vertical-align: top;\n",
              "    }\n",
              "\n",
              "    .dataframe thead th {\n",
              "        text-align: right;\n",
              "    }\n",
              "</style>\n",
              "<table border=\"1\" class=\"dataframe\">\n",
              "  <thead>\n",
              "    <tr style=\"text-align: right;\">\n",
              "      <th></th>\n",
              "      <th>recommendationid</th>\n",
              "      <th>author</th>\n",
              "      <th>language</th>\n",
              "      <th>review</th>\n",
              "      <th>timestamp_created</th>\n",
              "      <th>timestamp_updated</th>\n",
              "      <th>voted_up</th>\n",
              "      <th>votes_up</th>\n",
              "      <th>votes_funny</th>\n",
              "      <th>weighted_vote_score</th>\n",
              "      <th>comment_count</th>\n",
              "      <th>steam_purchase</th>\n",
              "      <th>received_for_free</th>\n",
              "      <th>written_during_early_access</th>\n",
              "      <th>primarily_steam_deck</th>\n",
              "    </tr>\n",
              "  </thead>\n",
              "  <tbody>\n",
              "    <tr>\n",
              "      <th>0</th>\n",
              "      <td>196369189</td>\n",
              "      <td>{'steamid': '76561198044140908', 'num_games_ow...</td>\n",
              "      <td>english</td>\n",
              "      <td>Game is good but please add more crossover bos...</td>\n",
              "      <td>1749030168</td>\n",
              "      <td>1749030168</td>\n",
              "      <td>True</td>\n",
              "      <td>662</td>\n",
              "      <td>6</td>\n",
              "      <td>0.949646</td>\n",
              "      <td>0</td>\n",
              "      <td>True</td>\n",
              "      <td>False</td>\n",
              "      <td>False</td>\n",
              "      <td>False</td>\n",
              "    </tr>\n",
              "    <tr>\n",
              "      <th>1</th>\n",
              "      <td>196117089</td>\n",
              "      <td>{'steamid': '76561198147565758', 'num_games_ow...</td>\n",
              "      <td>english</td>\n",
              "      <td>So after playing this for two days straight si...</td>\n",
              "      <td>1748738915</td>\n",
              "      <td>1749051920</td>\n",
              "      <td>True</td>\n",
              "      <td>1858</td>\n",
              "      <td>30</td>\n",
              "      <td>0.945383</td>\n",
              "      <td>0</td>\n",
              "      <td>False</td>\n",
              "      <td>False</td>\n",
              "      <td>False</td>\n",
              "      <td>False</td>\n",
              "    </tr>\n",
              "    <tr>\n",
              "      <th>2</th>\n",
              "      <td>196052526</td>\n",
              "      <td>{'steamid': '76561199079305990', 'num_games_ow...</td>\n",
              "      <td>english</td>\n",
              "      <td>add duo/communication and cross play and it wi...</td>\n",
              "      <td>1748680754</td>\n",
              "      <td>1748680754</td>\n",
              "      <td>True</td>\n",
              "      <td>3498</td>\n",
              "      <td>39</td>\n",
              "      <td>0.939147</td>\n",
              "      <td>0</td>\n",
              "      <td>True</td>\n",
              "      <td>False</td>\n",
              "      <td>False</td>\n",
              "      <td>False</td>\n",
              "    </tr>\n",
              "    <tr>\n",
              "      <th>3</th>\n",
              "      <td>195936698</td>\n",
              "      <td>{'steamid': '76561198148218102', 'num_games_ow...</td>\n",
              "      <td>english</td>\n",
              "      <td>They did this. After defeating Radahn, Malenia...</td>\n",
              "      <td>1748565950</td>\n",
              "      <td>1748565950</td>\n",
              "      <td>True</td>\n",
              "      <td>297</td>\n",
              "      <td>109</td>\n",
              "      <td>0.934784</td>\n",
              "      <td>0</td>\n",
              "      <td>True</td>\n",
              "      <td>False</td>\n",
              "      <td>False</td>\n",
              "      <td>False</td>\n",
              "    </tr>\n",
              "    <tr>\n",
              "      <th>4</th>\n",
              "      <td>197108770</td>\n",
              "      <td>{'steamid': '76561198382246894', 'num_games_ow...</td>\n",
              "      <td>english</td>\n",
              "      <td>It was fun experiencing this new style of play...</td>\n",
              "      <td>1749797048</td>\n",
              "      <td>1749797048</td>\n",
              "      <td>True</td>\n",
              "      <td>319</td>\n",
              "      <td>9</td>\n",
              "      <td>0.928014</td>\n",
              "      <td>7</td>\n",
              "      <td>True</td>\n",
              "      <td>False</td>\n",
              "      <td>False</td>\n",
              "      <td>False</td>\n",
              "    </tr>\n",
              "  </tbody>\n",
              "</table>\n",
              "</div>\n",
              "    <div class=\"colab-df-buttons\">\n",
              "\n",
              "  <div class=\"colab-df-container\">\n",
              "    <button class=\"colab-df-convert\" onclick=\"convertToInteractive('df-2c26dfa5-d94a-46ed-8555-7dce092d1937')\"\n",
              "            title=\"Convert this dataframe to an interactive table.\"\n",
              "            style=\"display:none;\">\n",
              "\n",
              "  <svg xmlns=\"http://www.w3.org/2000/svg\" height=\"24px\" viewBox=\"0 -960 960 960\">\n",
              "    <path d=\"M120-120v-720h720v720H120Zm60-500h600v-160H180v160Zm220 220h160v-160H400v160Zm0 220h160v-160H400v160ZM180-400h160v-160H180v160Zm440 0h160v-160H620v160ZM180-180h160v-160H180v160Zm440 0h160v-160H620v160Z\"/>\n",
              "  </svg>\n",
              "    </button>\n",
              "\n",
              "  <style>\n",
              "    .colab-df-container {\n",
              "      display:flex;\n",
              "      gap: 12px;\n",
              "    }\n",
              "\n",
              "    .colab-df-convert {\n",
              "      background-color: #E8F0FE;\n",
              "      border: none;\n",
              "      border-radius: 50%;\n",
              "      cursor: pointer;\n",
              "      display: none;\n",
              "      fill: #1967D2;\n",
              "      height: 32px;\n",
              "      padding: 0 0 0 0;\n",
              "      width: 32px;\n",
              "    }\n",
              "\n",
              "    .colab-df-convert:hover {\n",
              "      background-color: #E2EBFA;\n",
              "      box-shadow: 0px 1px 2px rgba(60, 64, 67, 0.3), 0px 1px 3px 1px rgba(60, 64, 67, 0.15);\n",
              "      fill: #174EA6;\n",
              "    }\n",
              "\n",
              "    .colab-df-buttons div {\n",
              "      margin-bottom: 4px;\n",
              "    }\n",
              "\n",
              "    [theme=dark] .colab-df-convert {\n",
              "      background-color: #3B4455;\n",
              "      fill: #D2E3FC;\n",
              "    }\n",
              "\n",
              "    [theme=dark] .colab-df-convert:hover {\n",
              "      background-color: #434B5C;\n",
              "      box-shadow: 0px 1px 3px 1px rgba(0, 0, 0, 0.15);\n",
              "      filter: drop-shadow(0px 1px 2px rgba(0, 0, 0, 0.3));\n",
              "      fill: #FFFFFF;\n",
              "    }\n",
              "  </style>\n",
              "\n",
              "    <script>\n",
              "      const buttonEl =\n",
              "        document.querySelector('#df-2c26dfa5-d94a-46ed-8555-7dce092d1937 button.colab-df-convert');\n",
              "      buttonEl.style.display =\n",
              "        google.colab.kernel.accessAllowed ? 'block' : 'none';\n",
              "\n",
              "      async function convertToInteractive(key) {\n",
              "        const element = document.querySelector('#df-2c26dfa5-d94a-46ed-8555-7dce092d1937');\n",
              "        const dataTable =\n",
              "          await google.colab.kernel.invokeFunction('convertToInteractive',\n",
              "                                                    [key], {});\n",
              "        if (!dataTable) return;\n",
              "\n",
              "        const docLinkHtml = 'Like what you see? Visit the ' +\n",
              "          '<a target=\"_blank\" href=https://colab.research.google.com/notebooks/data_table.ipynb>data table notebook</a>'\n",
              "          + ' to learn more about interactive tables.';\n",
              "        element.innerHTML = '';\n",
              "        dataTable['output_type'] = 'display_data';\n",
              "        await google.colab.output.renderOutput(dataTable, element);\n",
              "        const docLink = document.createElement('div');\n",
              "        docLink.innerHTML = docLinkHtml;\n",
              "        element.appendChild(docLink);\n",
              "      }\n",
              "    </script>\n",
              "  </div>\n",
              "\n",
              "\n",
              "    <div id=\"df-447ad7ca-1971-4430-87fc-32668c7834ee\">\n",
              "      <button class=\"colab-df-quickchart\" onclick=\"quickchart('df-447ad7ca-1971-4430-87fc-32668c7834ee')\"\n",
              "                title=\"Suggest charts\"\n",
              "                style=\"display:none;\">\n",
              "\n",
              "<svg xmlns=\"http://www.w3.org/2000/svg\" height=\"24px\"viewBox=\"0 0 24 24\"\n",
              "     width=\"24px\">\n",
              "    <g>\n",
              "        <path d=\"M19 3H5c-1.1 0-2 .9-2 2v14c0 1.1.9 2 2 2h14c1.1 0 2-.9 2-2V5c0-1.1-.9-2-2-2zM9 17H7v-7h2v7zm4 0h-2V7h2v10zm4 0h-2v-4h2v4z\"/>\n",
              "    </g>\n",
              "</svg>\n",
              "      </button>\n",
              "\n",
              "<style>\n",
              "  .colab-df-quickchart {\n",
              "      --bg-color: #E8F0FE;\n",
              "      --fill-color: #1967D2;\n",
              "      --hover-bg-color: #E2EBFA;\n",
              "      --hover-fill-color: #174EA6;\n",
              "      --disabled-fill-color: #AAA;\n",
              "      --disabled-bg-color: #DDD;\n",
              "  }\n",
              "\n",
              "  [theme=dark] .colab-df-quickchart {\n",
              "      --bg-color: #3B4455;\n",
              "      --fill-color: #D2E3FC;\n",
              "      --hover-bg-color: #434B5C;\n",
              "      --hover-fill-color: #FFFFFF;\n",
              "      --disabled-bg-color: #3B4455;\n",
              "      --disabled-fill-color: #666;\n",
              "  }\n",
              "\n",
              "  .colab-df-quickchart {\n",
              "    background-color: var(--bg-color);\n",
              "    border: none;\n",
              "    border-radius: 50%;\n",
              "    cursor: pointer;\n",
              "    display: none;\n",
              "    fill: var(--fill-color);\n",
              "    height: 32px;\n",
              "    padding: 0;\n",
              "    width: 32px;\n",
              "  }\n",
              "\n",
              "  .colab-df-quickchart:hover {\n",
              "    background-color: var(--hover-bg-color);\n",
              "    box-shadow: 0 1px 2px rgba(60, 64, 67, 0.3), 0 1px 3px 1px rgba(60, 64, 67, 0.15);\n",
              "    fill: var(--button-hover-fill-color);\n",
              "  }\n",
              "\n",
              "  .colab-df-quickchart-complete:disabled,\n",
              "  .colab-df-quickchart-complete:disabled:hover {\n",
              "    background-color: var(--disabled-bg-color);\n",
              "    fill: var(--disabled-fill-color);\n",
              "    box-shadow: none;\n",
              "  }\n",
              "\n",
              "  .colab-df-spinner {\n",
              "    border: 2px solid var(--fill-color);\n",
              "    border-color: transparent;\n",
              "    border-bottom-color: var(--fill-color);\n",
              "    animation:\n",
              "      spin 1s steps(1) infinite;\n",
              "  }\n",
              "\n",
              "  @keyframes spin {\n",
              "    0% {\n",
              "      border-color: transparent;\n",
              "      border-bottom-color: var(--fill-color);\n",
              "      border-left-color: var(--fill-color);\n",
              "    }\n",
              "    20% {\n",
              "      border-color: transparent;\n",
              "      border-left-color: var(--fill-color);\n",
              "      border-top-color: var(--fill-color);\n",
              "    }\n",
              "    30% {\n",
              "      border-color: transparent;\n",
              "      border-left-color: var(--fill-color);\n",
              "      border-top-color: var(--fill-color);\n",
              "      border-right-color: var(--fill-color);\n",
              "    }\n",
              "    40% {\n",
              "      border-color: transparent;\n",
              "      border-right-color: var(--fill-color);\n",
              "      border-top-color: var(--fill-color);\n",
              "    }\n",
              "    60% {\n",
              "      border-color: transparent;\n",
              "      border-right-color: var(--fill-color);\n",
              "    }\n",
              "    80% {\n",
              "      border-color: transparent;\n",
              "      border-right-color: var(--fill-color);\n",
              "      border-bottom-color: var(--fill-color);\n",
              "    }\n",
              "    90% {\n",
              "      border-color: transparent;\n",
              "      border-bottom-color: var(--fill-color);\n",
              "    }\n",
              "  }\n",
              "</style>\n",
              "\n",
              "      <script>\n",
              "        async function quickchart(key) {\n",
              "          const quickchartButtonEl =\n",
              "            document.querySelector('#' + key + ' button');\n",
              "          quickchartButtonEl.disabled = true;  // To prevent multiple clicks.\n",
              "          quickchartButtonEl.classList.add('colab-df-spinner');\n",
              "          try {\n",
              "            const charts = await google.colab.kernel.invokeFunction(\n",
              "                'suggestCharts', [key], {});\n",
              "          } catch (error) {\n",
              "            console.error('Error during call to suggestCharts:', error);\n",
              "          }\n",
              "          quickchartButtonEl.classList.remove('colab-df-spinner');\n",
              "          quickchartButtonEl.classList.add('colab-df-quickchart-complete');\n",
              "        }\n",
              "        (() => {\n",
              "          let quickchartButtonEl =\n",
              "            document.querySelector('#df-447ad7ca-1971-4430-87fc-32668c7834ee button');\n",
              "          quickchartButtonEl.style.display =\n",
              "            google.colab.kernel.accessAllowed ? 'block' : 'none';\n",
              "        })();\n",
              "      </script>\n",
              "    </div>\n",
              "    </div>\n",
              "  </div>\n"
            ],
            "text/plain": [
              "   recommendationid                                             author  \\\n",
              "0         196369189  {'steamid': '76561198044140908', 'num_games_ow...   \n",
              "1         196117089  {'steamid': '76561198147565758', 'num_games_ow...   \n",
              "2         196052526  {'steamid': '76561199079305990', 'num_games_ow...   \n",
              "3         195936698  {'steamid': '76561198148218102', 'num_games_ow...   \n",
              "4         197108770  {'steamid': '76561198382246894', 'num_games_ow...   \n",
              "\n",
              "  language                                             review  \\\n",
              "0  english  Game is good but please add more crossover bos...   \n",
              "1  english  So after playing this for two days straight si...   \n",
              "2  english  add duo/communication and cross play and it wi...   \n",
              "3  english  They did this. After defeating Radahn, Malenia...   \n",
              "4  english  It was fun experiencing this new style of play...   \n",
              "\n",
              "   timestamp_created  timestamp_updated  voted_up  votes_up  votes_funny  \\\n",
              "0         1749030168         1749030168      True       662            6   \n",
              "1         1748738915         1749051920      True      1858           30   \n",
              "2         1748680754         1748680754      True      3498           39   \n",
              "3         1748565950         1748565950      True       297          109   \n",
              "4         1749797048         1749797048      True       319            9   \n",
              "\n",
              "   weighted_vote_score  comment_count  steam_purchase  received_for_free  \\\n",
              "0             0.949646              0            True              False   \n",
              "1             0.945383              0           False              False   \n",
              "2             0.939147              0            True              False   \n",
              "3             0.934784              0            True              False   \n",
              "4             0.928014              7            True              False   \n",
              "\n",
              "   written_during_early_access  primarily_steam_deck  \n",
              "0                        False                 False  \n",
              "1                        False                 False  \n",
              "2                        False                 False  \n",
              "3                        False                 False  \n",
              "4                        False                 False  "
            ]
          },
          "execution_count": 5,
          "metadata": {},
          "output_type": "execute_result"
        }
      ],
      "source": [
        "dfappid = input(\"Введите Steam AppID (цифры): \")\n",
        "print(\"Загружаю отзывы... это может занять некоторое время.\")\n",
        "df = get_reviews(appid, num_reviews=150000)\n",
        "print(f\"Загружено отзывов: {len(df)}\")\n",
        "df.to_csv(f\"steam_reviews_{appid}.csv\", index=False)\n",
        "print(\"Сохранено в CSV.\").head()"
      ]
    },
    {
      "cell_type": "markdown",
      "id": "da33f26f",
      "metadata": {},
      "source": [
        " Чтобы постоянно не загружать наборы данных, было принято решение сохранить все полученные данные в формат csv. Таким образом при повторных запусках кода не придется заново получать все обзоры через API. Сохраненные наборы данных лежат в папке data"
      ]
    },
    {
      "cell_type": "code",
      "execution_count": null,
      "id": "143e14c4",
      "metadata": {},
      "outputs": [],
      "source": [
        "EldenRing_df = pd.read_csv('./data/steam_reviews_EldenRing.csv')\n",
        "EldenRingDLC_df = pd.read_csv('./data/steam_reviews_EldenRingDLC.csv')\n",
        "EldenRingNightreign_df = pd.read_csv('./data/steam_reviews_EldenRingNightreign.csv')\n",
        "\n",
        "dfs = [EldenRing_df, EldenRingDLC_df, EldenRingNightreign_df]"
      ]
    },
    {
      "cell_type": "code",
      "execution_count": null,
      "id": "18ed1e3b-ecb2-4eee-afd6-cec89099fd6b",
      "metadata": {
        "id": "18ed1e3b-ecb2-4eee-afd6-cec89099fd6b"
      },
      "outputs": [],
      "source": [
        "EldenRing_df.info()"
      ]
    },
    {
      "cell_type": "code",
      "execution_count": null,
      "id": "adedbe7d-6f35-49d5-9bdc-6e7189a428ec",
      "metadata": {
        "colab": {
          "base_uri": "https://localhost:8080/",
          "height": 293
        },
        "id": "adedbe7d-6f35-49d5-9bdc-6e7189a428ec",
        "outputId": "82d3f47e-e646-495e-8789-e2fd3c99ca12"
      },
      "outputs": [
        {
          "data": {
            "application/vnd.google.colaboratory.intrinsic+json": {
              "type": "dataframe",
              "variable_name": "reviews_df"
            },
            "text/html": [
              "\n",
              "  <div id=\"df-3eb0a940-a581-4fae-9bdd-e29b5af7b6bd\" class=\"colab-df-container\">\n",
              "    <div>\n",
              "<style scoped>\n",
              "    .dataframe tbody tr th:only-of-type {\n",
              "        vertical-align: middle;\n",
              "    }\n",
              "\n",
              "    .dataframe tbody tr th {\n",
              "        vertical-align: top;\n",
              "    }\n",
              "\n",
              "    .dataframe thead th {\n",
              "        text-align: right;\n",
              "    }\n",
              "</style>\n",
              "<table border=\"1\" class=\"dataframe\">\n",
              "  <thead>\n",
              "    <tr style=\"text-align: right;\">\n",
              "      <th></th>\n",
              "      <th>review</th>\n",
              "      <th>voted_up</th>\n",
              "      <th>timestamp_created</th>\n",
              "      <th>timestamp_updated</th>\n",
              "    </tr>\n",
              "  </thead>\n",
              "  <tbody>\n",
              "    <tr>\n",
              "      <th>0</th>\n",
              "      <td>Game is good but please add more crossover bos...</td>\n",
              "      <td>True</td>\n",
              "      <td>1749030168</td>\n",
              "      <td>1749030168</td>\n",
              "    </tr>\n",
              "    <tr>\n",
              "      <th>1</th>\n",
              "      <td>So after playing this for two days straight si...</td>\n",
              "      <td>True</td>\n",
              "      <td>1748738915</td>\n",
              "      <td>1749051920</td>\n",
              "    </tr>\n",
              "    <tr>\n",
              "      <th>2</th>\n",
              "      <td>add duo/communication and cross play and it wi...</td>\n",
              "      <td>True</td>\n",
              "      <td>1748680754</td>\n",
              "      <td>1748680754</td>\n",
              "    </tr>\n",
              "    <tr>\n",
              "      <th>3</th>\n",
              "      <td>They did this. After defeating Radahn, Malenia...</td>\n",
              "      <td>True</td>\n",
              "      <td>1748565950</td>\n",
              "      <td>1748565950</td>\n",
              "    </tr>\n",
              "    <tr>\n",
              "      <th>4</th>\n",
              "      <td>It was fun experiencing this new style of play...</td>\n",
              "      <td>True</td>\n",
              "      <td>1749797048</td>\n",
              "      <td>1749797048</td>\n",
              "    </tr>\n",
              "  </tbody>\n",
              "</table>\n",
              "</div>\n",
              "    <div class=\"colab-df-buttons\">\n",
              "\n",
              "  <div class=\"colab-df-container\">\n",
              "    <button class=\"colab-df-convert\" onclick=\"convertToInteractive('df-3eb0a940-a581-4fae-9bdd-e29b5af7b6bd')\"\n",
              "            title=\"Convert this dataframe to an interactive table.\"\n",
              "            style=\"display:none;\">\n",
              "\n",
              "  <svg xmlns=\"http://www.w3.org/2000/svg\" height=\"24px\" viewBox=\"0 -960 960 960\">\n",
              "    <path d=\"M120-120v-720h720v720H120Zm60-500h600v-160H180v160Zm220 220h160v-160H400v160Zm0 220h160v-160H400v160ZM180-400h160v-160H180v160Zm440 0h160v-160H620v160ZM180-180h160v-160H180v160Zm440 0h160v-160H620v160Z\"/>\n",
              "  </svg>\n",
              "    </button>\n",
              "\n",
              "  <style>\n",
              "    .colab-df-container {\n",
              "      display:flex;\n",
              "      gap: 12px;\n",
              "    }\n",
              "\n",
              "    .colab-df-convert {\n",
              "      background-color: #E8F0FE;\n",
              "      border: none;\n",
              "      border-radius: 50%;\n",
              "      cursor: pointer;\n",
              "      display: none;\n",
              "      fill: #1967D2;\n",
              "      height: 32px;\n",
              "      padding: 0 0 0 0;\n",
              "      width: 32px;\n",
              "    }\n",
              "\n",
              "    .colab-df-convert:hover {\n",
              "      background-color: #E2EBFA;\n",
              "      box-shadow: 0px 1px 2px rgba(60, 64, 67, 0.3), 0px 1px 3px 1px rgba(60, 64, 67, 0.15);\n",
              "      fill: #174EA6;\n",
              "    }\n",
              "\n",
              "    .colab-df-buttons div {\n",
              "      margin-bottom: 4px;\n",
              "    }\n",
              "\n",
              "    [theme=dark] .colab-df-convert {\n",
              "      background-color: #3B4455;\n",
              "      fill: #D2E3FC;\n",
              "    }\n",
              "\n",
              "    [theme=dark] .colab-df-convert:hover {\n",
              "      background-color: #434B5C;\n",
              "      box-shadow: 0px 1px 3px 1px rgba(0, 0, 0, 0.15);\n",
              "      filter: drop-shadow(0px 1px 2px rgba(0, 0, 0, 0.3));\n",
              "      fill: #FFFFFF;\n",
              "    }\n",
              "  </style>\n",
              "\n",
              "    <script>\n",
              "      const buttonEl =\n",
              "        document.querySelector('#df-3eb0a940-a581-4fae-9bdd-e29b5af7b6bd button.colab-df-convert');\n",
              "      buttonEl.style.display =\n",
              "        google.colab.kernel.accessAllowed ? 'block' : 'none';\n",
              "\n",
              "      async function convertToInteractive(key) {\n",
              "        const element = document.querySelector('#df-3eb0a940-a581-4fae-9bdd-e29b5af7b6bd');\n",
              "        const dataTable =\n",
              "          await google.colab.kernel.invokeFunction('convertToInteractive',\n",
              "                                                    [key], {});\n",
              "        if (!dataTable) return;\n",
              "\n",
              "        const docLinkHtml = 'Like what you see? Visit the ' +\n",
              "          '<a target=\"_blank\" href=https://colab.research.google.com/notebooks/data_table.ipynb>data table notebook</a>'\n",
              "          + ' to learn more about interactive tables.';\n",
              "        element.innerHTML = '';\n",
              "        dataTable['output_type'] = 'display_data';\n",
              "        await google.colab.output.renderOutput(dataTable, element);\n",
              "        const docLink = document.createElement('div');\n",
              "        docLink.innerHTML = docLinkHtml;\n",
              "        element.appendChild(docLink);\n",
              "      }\n",
              "    </script>\n",
              "  </div>\n",
              "\n",
              "\n",
              "    <div id=\"df-b58f24e8-3070-42be-9d3c-a48f5a62a3f8\">\n",
              "      <button class=\"colab-df-quickchart\" onclick=\"quickchart('df-b58f24e8-3070-42be-9d3c-a48f5a62a3f8')\"\n",
              "                title=\"Suggest charts\"\n",
              "                style=\"display:none;\">\n",
              "\n",
              "<svg xmlns=\"http://www.w3.org/2000/svg\" height=\"24px\"viewBox=\"0 0 24 24\"\n",
              "     width=\"24px\">\n",
              "    <g>\n",
              "        <path d=\"M19 3H5c-1.1 0-2 .9-2 2v14c0 1.1.9 2 2 2h14c1.1 0 2-.9 2-2V5c0-1.1-.9-2-2-2zM9 17H7v-7h2v7zm4 0h-2V7h2v10zm4 0h-2v-4h2v4z\"/>\n",
              "    </g>\n",
              "</svg>\n",
              "      </button>\n",
              "\n",
              "<style>\n",
              "  .colab-df-quickchart {\n",
              "      --bg-color: #E8F0FE;\n",
              "      --fill-color: #1967D2;\n",
              "      --hover-bg-color: #E2EBFA;\n",
              "      --hover-fill-color: #174EA6;\n",
              "      --disabled-fill-color: #AAA;\n",
              "      --disabled-bg-color: #DDD;\n",
              "  }\n",
              "\n",
              "  [theme=dark] .colab-df-quickchart {\n",
              "      --bg-color: #3B4455;\n",
              "      --fill-color: #D2E3FC;\n",
              "      --hover-bg-color: #434B5C;\n",
              "      --hover-fill-color: #FFFFFF;\n",
              "      --disabled-bg-color: #3B4455;\n",
              "      --disabled-fill-color: #666;\n",
              "  }\n",
              "\n",
              "  .colab-df-quickchart {\n",
              "    background-color: var(--bg-color);\n",
              "    border: none;\n",
              "    border-radius: 50%;\n",
              "    cursor: pointer;\n",
              "    display: none;\n",
              "    fill: var(--fill-color);\n",
              "    height: 32px;\n",
              "    padding: 0;\n",
              "    width: 32px;\n",
              "  }\n",
              "\n",
              "  .colab-df-quickchart:hover {\n",
              "    background-color: var(--hover-bg-color);\n",
              "    box-shadow: 0 1px 2px rgba(60, 64, 67, 0.3), 0 1px 3px 1px rgba(60, 64, 67, 0.15);\n",
              "    fill: var(--button-hover-fill-color);\n",
              "  }\n",
              "\n",
              "  .colab-df-quickchart-complete:disabled,\n",
              "  .colab-df-quickchart-complete:disabled:hover {\n",
              "    background-color: var(--disabled-bg-color);\n",
              "    fill: var(--disabled-fill-color);\n",
              "    box-shadow: none;\n",
              "  }\n",
              "\n",
              "  .colab-df-spinner {\n",
              "    border: 2px solid var(--fill-color);\n",
              "    border-color: transparent;\n",
              "    border-bottom-color: var(--fill-color);\n",
              "    animation:\n",
              "      spin 1s steps(1) infinite;\n",
              "  }\n",
              "\n",
              "  @keyframes spin {\n",
              "    0% {\n",
              "      border-color: transparent;\n",
              "      border-bottom-color: var(--fill-color);\n",
              "      border-left-color: var(--fill-color);\n",
              "    }\n",
              "    20% {\n",
              "      border-color: transparent;\n",
              "      border-left-color: var(--fill-color);\n",
              "      border-top-color: var(--fill-color);\n",
              "    }\n",
              "    30% {\n",
              "      border-color: transparent;\n",
              "      border-left-color: var(--fill-color);\n",
              "      border-top-color: var(--fill-color);\n",
              "      border-right-color: var(--fill-color);\n",
              "    }\n",
              "    40% {\n",
              "      border-color: transparent;\n",
              "      border-right-color: var(--fill-color);\n",
              "      border-top-color: var(--fill-color);\n",
              "    }\n",
              "    60% {\n",
              "      border-color: transparent;\n",
              "      border-right-color: var(--fill-color);\n",
              "    }\n",
              "    80% {\n",
              "      border-color: transparent;\n",
              "      border-right-color: var(--fill-color);\n",
              "      border-bottom-color: var(--fill-color);\n",
              "    }\n",
              "    90% {\n",
              "      border-color: transparent;\n",
              "      border-bottom-color: var(--fill-color);\n",
              "    }\n",
              "  }\n",
              "</style>\n",
              "\n",
              "      <script>\n",
              "        async function quickchart(key) {\n",
              "          const quickchartButtonEl =\n",
              "            document.querySelector('#' + key + ' button');\n",
              "          quickchartButtonEl.disabled = true;  // To prevent multiple clicks.\n",
              "          quickchartButtonEl.classList.add('colab-df-spinner');\n",
              "          try {\n",
              "            const charts = await google.colab.kernel.invokeFunction(\n",
              "                'suggestCharts', [key], {});\n",
              "          } catch (error) {\n",
              "            console.error('Error during call to suggestCharts:', error);\n",
              "          }\n",
              "          quickchartButtonEl.classList.remove('colab-df-spinner');\n",
              "          quickchartButtonEl.classList.add('colab-df-quickchart-complete');\n",
              "        }\n",
              "        (() => {\n",
              "          let quickchartButtonEl =\n",
              "            document.querySelector('#df-b58f24e8-3070-42be-9d3c-a48f5a62a3f8 button');\n",
              "          quickchartButtonEl.style.display =\n",
              "            google.colab.kernel.accessAllowed ? 'block' : 'none';\n",
              "        })();\n",
              "      </script>\n",
              "    </div>\n",
              "    </div>\n",
              "  </div>\n"
            ],
            "text/plain": [
              "                                              review  voted_up  \\\n",
              "0  Game is good but please add more crossover bos...      True   \n",
              "1  So after playing this for two days straight si...      True   \n",
              "2  add duo/communication and cross play and it wi...      True   \n",
              "3  They did this. After defeating Radahn, Malenia...      True   \n",
              "4  It was fun experiencing this new style of play...      True   \n",
              "\n",
              "   timestamp_created  timestamp_updated  \n",
              "0         1749030168         1749030168  \n",
              "1         1748738915         1749051920  \n",
              "2         1748680754         1748680754  \n",
              "3         1748565950         1748565950  \n",
              "4         1749797048         1749797048  "
            ]
          },
          "execution_count": 8,
          "metadata": {},
          "output_type": "execute_result"
        }
      ],
      "source": [
        "EldenRingDLC_df.info()"
      ]
    },
    {
      "cell_type": "code",
      "execution_count": null,
      "id": "849d5b37-6ef2-4968-84c7-b712d1a9ec36",
      "metadata": {
        "colab": {
          "base_uri": "https://localhost:8080/"
        },
        "id": "849d5b37-6ef2-4968-84c7-b712d1a9ec36",
        "outputId": "82ddcd8c-0423-43ea-f454-947d8b0a9e51"
      },
      "outputs": [
        {
          "name": "stdout",
          "output_type": "stream",
          "text": [
            "<class 'pandas.core.frame.DataFrame'>\n",
            "RangeIndex: 150000 entries, 0 to 149999\n",
            "Data columns (total 4 columns):\n",
            " #   Column             Non-Null Count   Dtype \n",
            "---  ------             --------------   ----- \n",
            " 0   review             149520 non-null  object\n",
            " 1   voted_up           150000 non-null  bool  \n",
            " 2   timestamp_created  150000 non-null  int64 \n",
            " 3   timestamp_updated  150000 non-null  int64 \n",
            "dtypes: bool(1), int64(2), object(1)\n",
            "memory usage: 3.6+ MB\n"
          ]
        }
      ],
      "source": [
        "EldenRingNightreign_df.info()"
      ]
    },
    {
      "cell_type": "code",
      "execution_count": null,
      "id": "kupjBcMCPxLq",
      "metadata": {
        "colab": {
          "base_uri": "https://localhost:8080/",
          "height": 106
        },
        "id": "kupjBcMCPxLq",
        "outputId": "0f1c6496-813d-4d38-c22c-7facc36f257a"
      },
      "outputs": [
        {
          "ename": "SyntaxError",
          "evalue": "invalid syntax (ipython-input-1787819150.py, line 1)",
          "output_type": "error",
          "traceback": [
            "\u001b[0;36m  File \u001b[0;32m\"/tmp/ipython-input-1787819150.py\"\u001b[0;36m, line \u001b[0;32m1\u001b[0m\n\u001b[0;31m    sns.countplot(reviews_df, x='length'. size=(20,15))\u001b[0m\n\u001b[0m                                              ^\u001b[0m\n\u001b[0;31mSyntaxError\u001b[0m\u001b[0;31m:\u001b[0m invalid syntax\n"
          ]
        }
      ],
      "source": [
        "sns.countplot(reviews_df, x='length')"
      ]
    },
    {
      "cell_type": "code",
      "execution_count": null,
      "id": "L2H-wP_OQNmn",
      "metadata": {
        "colab": {
          "base_uri": "https://localhost:8080/",
          "height": 209
        },
        "id": "L2H-wP_OQNmn",
        "outputId": "46ce8d41-9e61-4993-f2b2-1183af505f50"
      },
      "outputs": [
        {
          "data": {
            "text/html": [
              "<div>\n",
              "<style scoped>\n",
              "    .dataframe tbody tr th:only-of-type {\n",
              "        vertical-align: middle;\n",
              "    }\n",
              "\n",
              "    .dataframe tbody tr th {\n",
              "        vertical-align: top;\n",
              "    }\n",
              "\n",
              "    .dataframe thead th {\n",
              "        text-align: right;\n",
              "    }\n",
              "</style>\n",
              "<table border=\"1\" class=\"dataframe\">\n",
              "  <thead>\n",
              "    <tr style=\"text-align: right;\">\n",
              "      <th></th>\n",
              "      <th>voted_up</th>\n",
              "    </tr>\n",
              "  </thead>\n",
              "  <tbody>\n",
              "    <tr>\n",
              "      <th>count</th>\n",
              "      <td>73851</td>\n",
              "    </tr>\n",
              "    <tr>\n",
              "      <th>unique</th>\n",
              "      <td>2</td>\n",
              "    </tr>\n",
              "    <tr>\n",
              "      <th>top</th>\n",
              "      <td>True</td>\n",
              "    </tr>\n",
              "    <tr>\n",
              "      <th>freq</th>\n",
              "      <td>63631</td>\n",
              "    </tr>\n",
              "  </tbody>\n",
              "</table>\n",
              "</div><br><label><b>dtype:</b> object</label>"
            ],
            "text/plain": [
              "count     73851\n",
              "unique        2\n",
              "top        True\n",
              "freq      63631\n",
              "Name: voted_up, dtype: object"
            ]
          },
          "execution_count": 74,
          "metadata": {},
          "output_type": "execute_result"
        }
      ],
      "source": [
        "reviews_df['length'].describe()"
      ]
    },
    {
      "cell_type": "code",
      "execution_count": null,
      "id": "6e3d54d0-6c19-4948-b1a5-f000fdf1c4e1",
      "metadata": {
        "id": "6e3d54d0-6c19-4948-b1a5-f000fdf1c4e1"
      },
      "outputs": [],
      "source": [
        "reviews_df.dropna(inplace=True)"
      ]
    },
    {
      "cell_type": "code",
      "execution_count": null,
      "id": "d365e981-3284-487b-b105-f912847e904d",
      "metadata": {
        "id": "d365e981-3284-487b-b105-f912847e904d"
      },
      "outputs": [],
      "source": [
        "reviews_df.drop_duplicates(inplace=True)"
      ]
    },
    {
      "cell_type": "code",
      "execution_count": null,
      "id": "bf9e5f0a-d9e9-490e-862f-5a25b3beb68e",
      "metadata": {
        "colab": {
          "base_uri": "https://localhost:8080/"
        },
        "id": "bf9e5f0a-d9e9-490e-862f-5a25b3beb68e",
        "outputId": "8d271b71-6f86-4ce2-ea46-1442dc8de12d"
      },
      "outputs": [
        {
          "data": {
            "text/plain": [
              "(73800, 4)"
            ]
          },
          "execution_count": 12,
          "metadata": {},
          "output_type": "execute_result"
        }
      ],
      "source": [
        "reviews_df.shape"
      ]
    },
    {
      "cell_type": "code",
      "execution_count": null,
      "id": "57e5d0dd-6a67-4897-8932-536b298ed7bb",
      "metadata": {
        "id": "57e5d0dd-6a67-4897-8932-536b298ed7bb"
      },
      "outputs": [],
      "source": [
        "reviews_df['timestamp_created'] = pd.to_datetime(reviews_df['timestamp_created'], unit='s')"
      ]
    },
    {
      "cell_type": "code",
      "execution_count": null,
      "id": "27249949-a001-446a-b1df-4bdd56695830",
      "metadata": {
        "id": "27249949-a001-446a-b1df-4bdd56695830"
      },
      "outputs": [],
      "source": [
        "reviews_df['timestamp_updated'] = pd.to_datetime(reviews_df['timestamp_updated'], unit='s')"
      ]
    },
    {
      "cell_type": "code",
      "execution_count": null,
      "id": "b8f6d826-d028-4805-bf70-2b97e4f20002",
      "metadata": {
        "colab": {
          "base_uri": "https://localhost:8080/",
          "height": 562
        },
        "id": "b8f6d826-d028-4805-bf70-2b97e4f20002",
        "outputId": "6e363c21-f6ab-4f9a-f4a2-9e7483aeaf59"
      },
      "outputs": [
        {
          "data": {
            "application/vnd.google.colaboratory.intrinsic+json": {
              "summary": "{\n  \"name\": \"reviews_df\",\n  \"rows\": 73851,\n  \"fields\": [\n    {\n      \"column\": \"review\",\n      \"properties\": {\n        \"dtype\": \"string\",\n        \"num_unique_values\": 62412,\n        \"samples\": [\n          \"Peak friendslop\",\n          \"So If you have a ton of experience in Elden ring then this review might not be for you. I play a lot of games and souls like are one of my favorite categories. I generally never play a story multiple times or play with builds. In Elden ring I took Bloodhounds Fang all the way to the end of the game. Then in the DLC i took twin blades all the way to the end of the dlc. Never really bother touching other weapons, using magic or incantations or builds. Literally just roll, strike for the most part. This version of the game allows me to play with the different character types that I normally wouldn't play with. So right now I feel like I can play this game for a long time, learning different playstyles and playing with different builds. For the players that generally just play a game once, beat it and move on then this game might be more appealing to you. For you Elden ring fans that have played the hell out of Elden ring then I can see this getting stale fast. Your mileage may vary but I think I definitely will get my moneys worth.\",\n          \"Get friends stinky\"\n        ],\n        \"semantic_type\": \"\",\n        \"description\": \"\"\n      }\n    },\n    {\n      \"column\": \"voted_up\",\n      \"properties\": {\n        \"dtype\": \"boolean\",\n        \"num_unique_values\": 2,\n        \"samples\": [\n          false,\n          true\n        ],\n        \"semantic_type\": \"\",\n        \"description\": \"\"\n      }\n    },\n    {\n      \"column\": \"timestamp_created\",\n      \"properties\": {\n        \"dtype\": \"date\",\n        \"min\": \"2025-05-29 21:59:27\",\n        \"max\": \"2025-08-14 18:23:26\",\n        \"num_unique_values\": 71871,\n        \"samples\": [\n          \"2025-05-30 04:02:58\",\n          \"2025-06-26 22:38:22\"\n        ],\n        \"semantic_type\": \"\",\n        \"description\": \"\"\n      }\n    },\n    {\n      \"column\": \"timestamp_updated\",\n      \"properties\": {\n        \"dtype\": \"date\",\n        \"min\": \"2025-05-29 22:07:25\",\n        \"max\": \"2025-08-14 19:07:12\",\n        \"num_unique_values\": 72163,\n        \"samples\": [\n          \"2025-07-24 06:22:27\",\n          \"2025-06-20 20:49:57\"\n        ],\n        \"semantic_type\": \"\",\n        \"description\": \"\"\n      }\n    }\n  ]\n}",
              "type": "dataframe",
              "variable_name": "reviews_df"
            },
            "text/html": [
              "\n",
              "  <div id=\"df-bd5828a4-e28b-499d-9f18-acbf7295049d\" class=\"colab-df-container\">\n",
              "    <div>\n",
              "<style scoped>\n",
              "    .dataframe tbody tr th:only-of-type {\n",
              "        vertical-align: middle;\n",
              "    }\n",
              "\n",
              "    .dataframe tbody tr th {\n",
              "        vertical-align: top;\n",
              "    }\n",
              "\n",
              "    .dataframe thead th {\n",
              "        text-align: right;\n",
              "    }\n",
              "</style>\n",
              "<table border=\"1\" class=\"dataframe\">\n",
              "  <thead>\n",
              "    <tr style=\"text-align: right;\">\n",
              "      <th></th>\n",
              "      <th>review</th>\n",
              "      <th>voted_up</th>\n",
              "      <th>timestamp_created</th>\n",
              "      <th>timestamp_updated</th>\n",
              "    </tr>\n",
              "  </thead>\n",
              "  <tbody>\n",
              "    <tr>\n",
              "      <th>0</th>\n",
              "      <td>Game is good but please add more crossover bos...</td>\n",
              "      <td>True</td>\n",
              "      <td>2025-06-04 09:42:48</td>\n",
              "      <td>2025-06-04 09:42:48</td>\n",
              "    </tr>\n",
              "    <tr>\n",
              "      <th>1</th>\n",
              "      <td>So after playing this for two days straight si...</td>\n",
              "      <td>True</td>\n",
              "      <td>2025-06-01 00:48:35</td>\n",
              "      <td>2025-06-04 15:45:20</td>\n",
              "    </tr>\n",
              "    <tr>\n",
              "      <th>2</th>\n",
              "      <td>add duo/communication and cross play and it wi...</td>\n",
              "      <td>True</td>\n",
              "      <td>2025-05-31 08:39:14</td>\n",
              "      <td>2025-05-31 08:39:14</td>\n",
              "    </tr>\n",
              "    <tr>\n",
              "      <th>3</th>\n",
              "      <td>They did this. After defeating Radahn, Malenia...</td>\n",
              "      <td>True</td>\n",
              "      <td>2025-05-30 00:45:50</td>\n",
              "      <td>2025-05-30 00:45:50</td>\n",
              "    </tr>\n",
              "    <tr>\n",
              "      <th>4</th>\n",
              "      <td>It was fun experiencing this new style of play...</td>\n",
              "      <td>True</td>\n",
              "      <td>2025-06-13 06:44:08</td>\n",
              "      <td>2025-06-13 06:44:08</td>\n",
              "    </tr>\n",
              "    <tr>\n",
              "      <th>...</th>\n",
              "      <td>...</td>\n",
              "      <td>...</td>\n",
              "      <td>...</td>\n",
              "      <td>...</td>\n",
              "    </tr>\n",
              "    <tr>\n",
              "      <th>143727</th>\n",
              "      <td>[h1] CINEMA [/h1]</td>\n",
              "      <td>True</td>\n",
              "      <td>2025-06-01 10:42:57</td>\n",
              "      <td>2025-08-08 20:52:42</td>\n",
              "    </tr>\n",
              "    <tr>\n",
              "      <th>143784</th>\n",
              "      <td>peak</td>\n",
              "      <td>True</td>\n",
              "      <td>2025-06-09 15:17:52</td>\n",
              "      <td>2025-06-09 15:17:52</td>\n",
              "    </tr>\n",
              "    <tr>\n",
              "      <th>143823</th>\n",
              "      <td>Nightpain</td>\n",
              "      <td>True</td>\n",
              "      <td>2025-06-27 09:02:39</td>\n",
              "      <td>2025-06-27 09:02:39</td>\n",
              "    </tr>\n",
              "    <tr>\n",
              "      <th>144047</th>\n",
              "      <td>dumbahh augur</td>\n",
              "      <td>True</td>\n",
              "      <td>2025-06-05 14:13:24</td>\n",
              "      <td>2025-06-05 14:13:24</td>\n",
              "    </tr>\n",
              "    <tr>\n",
              "      <th>149273</th>\n",
              "      <td>Not an easy game at all. If you’re a noob like...</td>\n",
              "      <td>False</td>\n",
              "      <td>2025-08-14 18:23:26</td>\n",
              "      <td>2025-08-14 18:23:26</td>\n",
              "    </tr>\n",
              "  </tbody>\n",
              "</table>\n",
              "<p>73851 rows × 4 columns</p>\n",
              "</div>\n",
              "    <div class=\"colab-df-buttons\">\n",
              "\n",
              "  <div class=\"colab-df-container\">\n",
              "    <button class=\"colab-df-convert\" onclick=\"convertToInteractive('df-bd5828a4-e28b-499d-9f18-acbf7295049d')\"\n",
              "            title=\"Convert this dataframe to an interactive table.\"\n",
              "            style=\"display:none;\">\n",
              "\n",
              "  <svg xmlns=\"http://www.w3.org/2000/svg\" height=\"24px\" viewBox=\"0 -960 960 960\">\n",
              "    <path d=\"M120-120v-720h720v720H120Zm60-500h600v-160H180v160Zm220 220h160v-160H400v160Zm0 220h160v-160H400v160ZM180-400h160v-160H180v160Zm440 0h160v-160H620v160ZM180-180h160v-160H180v160Zm440 0h160v-160H620v160Z\"/>\n",
              "  </svg>\n",
              "    </button>\n",
              "\n",
              "  <style>\n",
              "    .colab-df-container {\n",
              "      display:flex;\n",
              "      gap: 12px;\n",
              "    }\n",
              "\n",
              "    .colab-df-convert {\n",
              "      background-color: #E8F0FE;\n",
              "      border: none;\n",
              "      border-radius: 50%;\n",
              "      cursor: pointer;\n",
              "      display: none;\n",
              "      fill: #1967D2;\n",
              "      height: 32px;\n",
              "      padding: 0 0 0 0;\n",
              "      width: 32px;\n",
              "    }\n",
              "\n",
              "    .colab-df-convert:hover {\n",
              "      background-color: #E2EBFA;\n",
              "      box-shadow: 0px 1px 2px rgba(60, 64, 67, 0.3), 0px 1px 3px 1px rgba(60, 64, 67, 0.15);\n",
              "      fill: #174EA6;\n",
              "    }\n",
              "\n",
              "    .colab-df-buttons div {\n",
              "      margin-bottom: 4px;\n",
              "    }\n",
              "\n",
              "    [theme=dark] .colab-df-convert {\n",
              "      background-color: #3B4455;\n",
              "      fill: #D2E3FC;\n",
              "    }\n",
              "\n",
              "    [theme=dark] .colab-df-convert:hover {\n",
              "      background-color: #434B5C;\n",
              "      box-shadow: 0px 1px 3px 1px rgba(0, 0, 0, 0.15);\n",
              "      filter: drop-shadow(0px 1px 2px rgba(0, 0, 0, 0.3));\n",
              "      fill: #FFFFFF;\n",
              "    }\n",
              "  </style>\n",
              "\n",
              "    <script>\n",
              "      const buttonEl =\n",
              "        document.querySelector('#df-bd5828a4-e28b-499d-9f18-acbf7295049d button.colab-df-convert');\n",
              "      buttonEl.style.display =\n",
              "        google.colab.kernel.accessAllowed ? 'block' : 'none';\n",
              "\n",
              "      async function convertToInteractive(key) {\n",
              "        const element = document.querySelector('#df-bd5828a4-e28b-499d-9f18-acbf7295049d');\n",
              "        const dataTable =\n",
              "          await google.colab.kernel.invokeFunction('convertToInteractive',\n",
              "                                                    [key], {});\n",
              "        if (!dataTable) return;\n",
              "\n",
              "        const docLinkHtml = 'Like what you see? Visit the ' +\n",
              "          '<a target=\"_blank\" href=https://colab.research.google.com/notebooks/data_table.ipynb>data table notebook</a>'\n",
              "          + ' to learn more about interactive tables.';\n",
              "        element.innerHTML = '';\n",
              "        dataTable['output_type'] = 'display_data';\n",
              "        await google.colab.output.renderOutput(dataTable, element);\n",
              "        const docLink = document.createElement('div');\n",
              "        docLink.innerHTML = docLinkHtml;\n",
              "        element.appendChild(docLink);\n",
              "      }\n",
              "    </script>\n",
              "  </div>\n",
              "\n",
              "\n",
              "    <div id=\"df-5cf0ce41-b890-4e80-aad9-c3398b8c8123\">\n",
              "      <button class=\"colab-df-quickchart\" onclick=\"quickchart('df-5cf0ce41-b890-4e80-aad9-c3398b8c8123')\"\n",
              "                title=\"Suggest charts\"\n",
              "                style=\"display:none;\">\n",
              "\n",
              "<svg xmlns=\"http://www.w3.org/2000/svg\" height=\"24px\"viewBox=\"0 0 24 24\"\n",
              "     width=\"24px\">\n",
              "    <g>\n",
              "        <path d=\"M19 3H5c-1.1 0-2 .9-2 2v14c0 1.1.9 2 2 2h14c1.1 0 2-.9 2-2V5c0-1.1-.9-2-2-2zM9 17H7v-7h2v7zm4 0h-2V7h2v10zm4 0h-2v-4h2v4z\"/>\n",
              "    </g>\n",
              "</svg>\n",
              "      </button>\n",
              "\n",
              "<style>\n",
              "  .colab-df-quickchart {\n",
              "      --bg-color: #E8F0FE;\n",
              "      --fill-color: #1967D2;\n",
              "      --hover-bg-color: #E2EBFA;\n",
              "      --hover-fill-color: #174EA6;\n",
              "      --disabled-fill-color: #AAA;\n",
              "      --disabled-bg-color: #DDD;\n",
              "  }\n",
              "\n",
              "  [theme=dark] .colab-df-quickchart {\n",
              "      --bg-color: #3B4455;\n",
              "      --fill-color: #D2E3FC;\n",
              "      --hover-bg-color: #434B5C;\n",
              "      --hover-fill-color: #FFFFFF;\n",
              "      --disabled-bg-color: #3B4455;\n",
              "      --disabled-fill-color: #666;\n",
              "  }\n",
              "\n",
              "  .colab-df-quickchart {\n",
              "    background-color: var(--bg-color);\n",
              "    border: none;\n",
              "    border-radius: 50%;\n",
              "    cursor: pointer;\n",
              "    display: none;\n",
              "    fill: var(--fill-color);\n",
              "    height: 32px;\n",
              "    padding: 0;\n",
              "    width: 32px;\n",
              "  }\n",
              "\n",
              "  .colab-df-quickchart:hover {\n",
              "    background-color: var(--hover-bg-color);\n",
              "    box-shadow: 0 1px 2px rgba(60, 64, 67, 0.3), 0 1px 3px 1px rgba(60, 64, 67, 0.15);\n",
              "    fill: var(--button-hover-fill-color);\n",
              "  }\n",
              "\n",
              "  .colab-df-quickchart-complete:disabled,\n",
              "  .colab-df-quickchart-complete:disabled:hover {\n",
              "    background-color: var(--disabled-bg-color);\n",
              "    fill: var(--disabled-fill-color);\n",
              "    box-shadow: none;\n",
              "  }\n",
              "\n",
              "  .colab-df-spinner {\n",
              "    border: 2px solid var(--fill-color);\n",
              "    border-color: transparent;\n",
              "    border-bottom-color: var(--fill-color);\n",
              "    animation:\n",
              "      spin 1s steps(1) infinite;\n",
              "  }\n",
              "\n",
              "  @keyframes spin {\n",
              "    0% {\n",
              "      border-color: transparent;\n",
              "      border-bottom-color: var(--fill-color);\n",
              "      border-left-color: var(--fill-color);\n",
              "    }\n",
              "    20% {\n",
              "      border-color: transparent;\n",
              "      border-left-color: var(--fill-color);\n",
              "      border-top-color: var(--fill-color);\n",
              "    }\n",
              "    30% {\n",
              "      border-color: transparent;\n",
              "      border-left-color: var(--fill-color);\n",
              "      border-top-color: var(--fill-color);\n",
              "      border-right-color: var(--fill-color);\n",
              "    }\n",
              "    40% {\n",
              "      border-color: transparent;\n",
              "      border-right-color: var(--fill-color);\n",
              "      border-top-color: var(--fill-color);\n",
              "    }\n",
              "    60% {\n",
              "      border-color: transparent;\n",
              "      border-right-color: var(--fill-color);\n",
              "    }\n",
              "    80% {\n",
              "      border-color: transparent;\n",
              "      border-right-color: var(--fill-color);\n",
              "      border-bottom-color: var(--fill-color);\n",
              "    }\n",
              "    90% {\n",
              "      border-color: transparent;\n",
              "      border-bottom-color: var(--fill-color);\n",
              "    }\n",
              "  }\n",
              "</style>\n",
              "\n",
              "      <script>\n",
              "        async function quickchart(key) {\n",
              "          const quickchartButtonEl =\n",
              "            document.querySelector('#' + key + ' button');\n",
              "          quickchartButtonEl.disabled = true;  // To prevent multiple clicks.\n",
              "          quickchartButtonEl.classList.add('colab-df-spinner');\n",
              "          try {\n",
              "            const charts = await google.colab.kernel.invokeFunction(\n",
              "                'suggestCharts', [key], {});\n",
              "          } catch (error) {\n",
              "            console.error('Error during call to suggestCharts:', error);\n",
              "          }\n",
              "          quickchartButtonEl.classList.remove('colab-df-spinner');\n",
              "          quickchartButtonEl.classList.add('colab-df-quickchart-complete');\n",
              "        }\n",
              "        (() => {\n",
              "          let quickchartButtonEl =\n",
              "            document.querySelector('#df-5cf0ce41-b890-4e80-aad9-c3398b8c8123 button');\n",
              "          quickchartButtonEl.style.display =\n",
              "            google.colab.kernel.accessAllowed ? 'block' : 'none';\n",
              "        })();\n",
              "      </script>\n",
              "    </div>\n",
              "    </div>\n",
              "  </div>\n"
            ],
            "text/plain": [
              "                                                   review  voted_up  \\\n",
              "0       Game is good but please add more crossover bos...      True   \n",
              "1       So after playing this for two days straight si...      True   \n",
              "2       add duo/communication and cross play and it wi...      True   \n",
              "3       They did this. After defeating Radahn, Malenia...      True   \n",
              "4       It was fun experiencing this new style of play...      True   \n",
              "...                                                   ...       ...   \n",
              "143727                                  [h1] CINEMA [/h1]      True   \n",
              "143784                                               peak      True   \n",
              "143823                                          Nightpain      True   \n",
              "144047                                      dumbahh augur      True   \n",
              "149273  Not an easy game at all. If you’re a noob like...     False   \n",
              "\n",
              "         timestamp_created   timestamp_updated  \n",
              "0      2025-06-04 09:42:48 2025-06-04 09:42:48  \n",
              "1      2025-06-01 00:48:35 2025-06-04 15:45:20  \n",
              "2      2025-05-31 08:39:14 2025-05-31 08:39:14  \n",
              "3      2025-05-30 00:45:50 2025-05-30 00:45:50  \n",
              "4      2025-06-13 06:44:08 2025-06-13 06:44:08  \n",
              "...                    ...                 ...  \n",
              "143727 2025-06-01 10:42:57 2025-08-08 20:52:42  \n",
              "143784 2025-06-09 15:17:52 2025-06-09 15:17:52  \n",
              "143823 2025-06-27 09:02:39 2025-06-27 09:02:39  \n",
              "144047 2025-06-05 14:13:24 2025-06-05 14:13:24  \n",
              "149273 2025-08-14 18:23:26 2025-08-14 18:23:26  \n",
              "\n",
              "[73851 rows x 4 columns]"
            ]
          },
          "execution_count": 14,
          "metadata": {},
          "output_type": "execute_result"
        }
      ],
      "source": [
        "reviews_df"
      ]
    },
    {
      "cell_type": "code",
      "execution_count": null,
      "id": "b50e24b3-50ca-4f7a-aada-4132649a5879",
      "metadata": {
        "colab": {
          "base_uri": "https://localhost:8080/",
          "height": 467
        },
        "id": "b50e24b3-50ca-4f7a-aada-4132649a5879",
        "outputId": "0ad425da-161c-4c65-c65e-af41991a3077"
      },
      "outputs": [
        {
          "data": {
            "text/plain": [
              "<Axes: xlabel='voted_up', ylabel='count'>"
            ]
          },
          "execution_count": 15,
          "metadata": {},
          "output_type": "execute_result"
        },
        {
          "data": {
            "image/png": "[encoded data removed]",
            "text/plain": [
              "<Figure size 640x480 with 1 Axes>"
            ]
          },
          "metadata": {},
          "output_type": "display_data"
        }
      ],
      "source": [
        "sns.countplot(data=reviews_df, x='voted_up')"
      ]
    },
    {
      "cell_type": "code",
      "execution_count": null,
      "id": "4b0b8523-5984-400c-bc4b-dad6a41a0648",
      "metadata": {
        "id": "4b0b8523-5984-400c-bc4b-dad6a41a0648"
      },
      "outputs": [],
      "source": [
        "url_pattern = re.compile(r'https?://\\S+')\n",
        "html_pattern = re.compile(r'\\[[/A-Za-z0-9\\*]+\\]')\n",
        "\n",
        "def remove_noise(text: str) -> str:\n",
        "    text_without_urls = url_pattern.sub('', text)\n",
        "    text_without_html = html_pattern.sub('', text_without_urls)\n",
        "    return text_without_html.replace('\\n', ' ').replace('\\t', ' ').replace('\\r', ' ')\n",
        "\n",
        "reviews_df['review'] = reviews_df['review'].apply(remove_noise)"
      ]
    },
    {
      "cell_type": "code",
      "execution_count": null,
      "id": "ae3ba7e6-21fe-42fe-b135-7a86a33da8b1",
      "metadata": {
        "id": "ae3ba7e6-21fe-42fe-b135-7a86a33da8b1"
      },
      "outputs": [],
      "source": [
        "def preprocess(text: str, stop_words: list[str], punctuation_marks: list[str], morph):\n",
        "    tokens = word_tokenize(text.lower())\n",
        "    preprocessed_text = []\n",
        "    for token in tokens:\n",
        "        if token not in punctuation_marks:\n",
        "            lemma = morph(token)[0].lemma_\n",
        "            if lemma not in stop_words and lemma not in punctuation_marks:\n",
        "                preprocessed_text.append(lemma)\n",
        "    return preprocessed_text"
      ]
    },
    {
      "cell_type": "code",
      "execution_count": null,
      "id": "35ccd57f-a0b3-4559-9498-d2a2d371215c",
      "metadata": {
        "id": "35ccd57f-a0b3-4559-9498-d2a2d371215c"
      },
      "outputs": [],
      "source": [
        "punctuation_marks = string.punctuation\n",
        "punctuation_marks_list = [char for char in punctuation_marks]\n",
        "punctuation_marks_list.extend(['...', '..'])\n",
        "\n",
        "nlp = spacy.load(\"en_core_web_sm\")\n",
        "\n",
        "stop_words = stopwords.words('english')"
      ]
    },
    {
      "cell_type": "code",
      "execution_count": null,
      "id": "f20b0f2e-d95c-44c2-b57e-aa8657285cee",
      "metadata": {
        "id": "f20b0f2e-d95c-44c2-b57e-aa8657285cee"
      },
      "outputs": [],
      "source": [
        "# reviews_df['preprocessed_reviews'] = reviews_df['review_no_ss'].apply(lambda row: preprocess(row,stop_words,punctuation_marks, nlp))"
      ]
    },
    {
      "cell_type": "code",
      "execution_count": null,
      "id": "bd4e1960-b3d1-4744-9c78-80043816dd2f",
      "metadata": {
        "colab": {
          "base_uri": "https://localhost:8080/",
          "height": 178
        },
        "id": "bd4e1960-b3d1-4744-9c78-80043816dd2f",
        "outputId": "2529e73d-d0f8-4dc8-fad4-f6c21c4195aa"
      },
      "outputs": [
        {
          "data": {
            "text/html": [
              "<div>\n",
              "<style scoped>\n",
              "    .dataframe tbody tr th:only-of-type {\n",
              "        vertical-align: middle;\n",
              "    }\n",
              "\n",
              "    .dataframe tbody tr th {\n",
              "        vertical-align: top;\n",
              "    }\n",
              "\n",
              "    .dataframe thead th {\n",
              "        text-align: right;\n",
              "    }\n",
              "</style>\n",
              "<table border=\"1\" class=\"dataframe\">\n",
              "  <thead>\n",
              "    <tr style=\"text-align: right;\">\n",
              "      <th></th>\n",
              "      <th>count</th>\n",
              "    </tr>\n",
              "    <tr>\n",
              "      <th>voted_up</th>\n",
              "      <th></th>\n",
              "    </tr>\n",
              "  </thead>\n",
              "  <tbody>\n",
              "    <tr>\n",
              "      <th>False</th>\n",
              "      <td>2500</td>\n",
              "    </tr>\n",
              "    <tr>\n",
              "      <th>True</th>\n",
              "      <td>2500</td>\n",
              "    </tr>\n",
              "  </tbody>\n",
              "</table>\n",
              "</div><br><label><b>dtype:</b> int64</label>"
            ],
            "text/plain": [
              "voted_up\n",
              "False    2500\n",
              "True     2500\n",
              "Name: count, dtype: int64"
            ]
          },
          "execution_count": 22,
          "metadata": {},
          "output_type": "execute_result"
        }
      ],
      "source": [
        "reviews_df['length'] = reviews_df['review'].apply(lambda x: len(x))\n",
        "\n",
        "mid_length_df = reviews_df[(reviews_df['length'] < 100) & (reviews_df['length'] > 10)].copy()\n",
        "\n",
        "sorted_by_voted_df = mid_length_df.sort_values(by='voted_up')\n",
        "\n",
        "balanced_df = pd.concat([sorted_by_voted_df.head(2500), sorted_by_voted_df.tail(2500)])\n",
        "balanced_df['voted_up'].value_counts()"
      ]
    },
    {
      "cell_type": "code",
      "execution_count": null,
      "id": "_Pcj8dC_F8SR",
      "metadata": {
        "colab": {
          "base_uri": "https://localhost:8080/"
        },
        "id": "_Pcj8dC_F8SR",
        "outputId": "028eb07f-1d39-4267-8070-3972f9def1a7"
      },
      "outputs": [
        {
          "data": {
            "text/plain": [
              "(32792, 5)"
            ]
          },
          "execution_count": 23,
          "metadata": {},
          "output_type": "execute_result"
        }
      ],
      "source": [
        "mid_length_df.shape"
      ]
    },
    {
      "cell_type": "code",
      "execution_count": null,
      "id": "46e9faa0-ac4a-4885-9ed5-a4239bdf50ab",
      "metadata": {
        "colab": {
          "base_uri": "https://localhost:8080/"
        },
        "id": "46e9faa0-ac4a-4885-9ed5-a4239bdf50ab",
        "outputId": "86b57c14-e806-412a-f295-3ff29c202bcf"
      },
      "outputs": [
        {
          "name": "stderr",
          "output_type": "stream",
          "text": [
            "100%|██████████| 5000/5000 [04:55<00:00, 16.95it/s]\n"
          ]
        }
      ],
      "source": [
        "from tqdm import tqdm\n",
        "tqdm.pandas()\n",
        "\n",
        "balanced_df['preprocessed_reviews'] = balanced_df['review'].progress_apply(lambda row: preprocess(row,stop_words,punctuation_marks, nlp))"
      ]
    },
    {
      "cell_type": "code",
      "execution_count": null,
      "id": "-I_OOn6ulMqJ",
      "metadata": {
        "id": "-I_OOn6ulMqJ"
      },
      "outputs": [],
      "source": [
        "words = Counter()"
      ]
    },
    {
      "cell_type": "code",
      "execution_count": null,
      "id": "TIZdI4M3lQx1",
      "metadata": {
        "id": "TIZdI4M3lQx1"
      },
      "outputs": [],
      "source": [
        "for txt in balanced_df['preprocessed_reviews']:\n",
        "  words.update(txt)"
      ]
    },
    {
      "cell_type": "code",
      "execution_count": null,
      "id": "piQBH1RAloYy",
      "metadata": {
        "id": "piQBH1RAloYy"
      },
      "outputs": [],
      "source": [
        "word_to_index = dict()\n",
        "index_to_word = dict()"
      ]
    },
    {
      "cell_type": "code",
      "execution_count": null,
      "id": "v36l2D4al1ji",
      "metadata": {
        "id": "v36l2D4al1ji"
      },
      "outputs": [],
      "source": [
        "for i, word in enumerate(words.most_common(10000-2)):\n",
        "  word_to_index[word[0]] = i+2\n",
        "  index_to_word[i+2] = word[0]\n"
      ]
    },
    {
      "cell_type": "code",
      "execution_count": null,
      "id": "8mZwwafhmS_J",
      "metadata": {
        "id": "8mZwwafhmS_J"
      },
      "outputs": [],
      "source": [
        "def text_to_sequence(txt, word_to_index):\n",
        "  seq = []\n",
        "  for word in txt:\n",
        "    index = word_to_index.get(word,1)\n",
        "\n",
        "    if index != 1:\n",
        "      seq.append(index)\n",
        "  return seq"
      ]
    },
    {
      "cell_type": "code",
      "execution_count": null,
      "id": "jTqT5daomuMC",
      "metadata": {
        "id": "jTqT5daomuMC"
      },
      "outputs": [],
      "source": [
        "balanced_df['Sequences'] = balanced_df['preprocessed_reviews'].apply(lambda x: text_to_sequence(x, word_to_index))"
      ]
    },
    {
      "cell_type": "code",
      "execution_count": null,
      "id": "dKieSCRdnELj",
      "metadata": {
        "colab": {
          "base_uri": "https://localhost:8080/",
          "height": 894
        },
        "id": "dKieSCRdnELj",
        "outputId": "a3f826ae-5ff1-40cc-df1c-51ecc56f67e9"
      },
      "outputs": [
        {
          "data": {
            "application/vnd.google.colaboratory.intrinsic+json": {
              "summary": "{\n  \"name\": \"balanced_df\",\n  \"rows\": 5000,\n  \"fields\": [\n    {\n      \"column\": \"review\",\n      \"properties\": {\n        \"dtype\": \"string\",\n        \"num_unique_values\": 4983,\n        \"samples\": [\n          \"ts so buns but kinda fun\",\n          \"would be real fun if half the time ppl didnt get disconnected\",\n          \"Fun with friends and online.\"\n        ],\n        \"semantic_type\": \"\",\n        \"description\": \"\"\n      }\n    },\n    {\n      \"column\": \"voted_up\",\n      \"properties\": {\n        \"dtype\": \"boolean\",\n        \"num_unique_values\": 2,\n        \"samples\": [\n          true,\n          false\n        ],\n        \"semantic_type\": \"\",\n        \"description\": \"\"\n      }\n    },\n    {\n      \"column\": \"timestamp_created\",\n      \"properties\": {\n        \"dtype\": \"date\",\n        \"min\": \"2025-05-29 22:21:19\",\n        \"max\": \"2025-08-14 17:05:38\",\n        \"num_unique_values\": 4983,\n        \"samples\": [\n          \"2025-06-26 22:16:57\",\n          \"2025-06-19 02:10:55\"\n        ],\n        \"semantic_type\": \"\",\n        \"description\": \"\"\n      }\n    },\n    {\n      \"column\": \"timestamp_updated\",\n      \"properties\": {\n        \"dtype\": \"date\",\n        \"min\": \"2025-05-29 22:21:19\",\n        \"max\": \"2025-08-14 18:44:01\",\n        \"num_unique_values\": 4984,\n        \"samples\": [\n          \"2025-06-02 04:38:48\",\n          \"2025-06-03 01:54:35\"\n        ],\n        \"semantic_type\": \"\",\n        \"description\": \"\"\n      }\n    },\n    {\n      \"column\": \"length\",\n      \"properties\": {\n        \"dtype\": \"number\",\n        \"std\": 20,\n        \"min\": 11,\n        \"max\": 99,\n        \"num_unique_values\": 89,\n        \"samples\": [\n          74,\n          24\n        ],\n        \"semantic_type\": \"\",\n        \"description\": \"\"\n      }\n    },\n    {\n      \"column\": \"preprocessed_reviews\",\n      \"properties\": {\n        \"dtype\": \"object\",\n        \"semantic_type\": \"\",\n        \"description\": \"\"\n      }\n    },\n    {\n      \"column\": \"Sequences\",\n      \"properties\": {\n        \"dtype\": \"object\",\n        \"semantic_type\": \"\",\n        \"description\": \"\"\n      }\n    }\n  ]\n}",
              "type": "dataframe",
              "variable_name": "balanced_df"
            },
            "text/html": [
              "\n",
              "  <div id=\"df-e0e2c2b6-a882-41bd-b0ee-fb4ea01131a3\" class=\"colab-df-container\">\n",
              "    <div>\n",
              "<style scoped>\n",
              "    .dataframe tbody tr th:only-of-type {\n",
              "        vertical-align: middle;\n",
              "    }\n",
              "\n",
              "    .dataframe tbody tr th {\n",
              "        vertical-align: top;\n",
              "    }\n",
              "\n",
              "    .dataframe thead th {\n",
              "        text-align: right;\n",
              "    }\n",
              "</style>\n",
              "<table border=\"1\" class=\"dataframe\">\n",
              "  <thead>\n",
              "    <tr style=\"text-align: right;\">\n",
              "      <th></th>\n",
              "      <th>review</th>\n",
              "      <th>voted_up</th>\n",
              "      <th>timestamp_created</th>\n",
              "      <th>timestamp_updated</th>\n",
              "      <th>length</th>\n",
              "      <th>preprocessed_reviews</th>\n",
              "      <th>Sequences</th>\n",
              "    </tr>\n",
              "  </thead>\n",
              "  <tbody>\n",
              "    <tr>\n",
              "      <th>43224</th>\n",
              "      <td>Biggest Flop of the entire company</td>\n",
              "      <td>False</td>\n",
              "      <td>2025-05-30 07:26:29</td>\n",
              "      <td>2025-05-30 07:26:29</td>\n",
              "      <td>34</td>\n",
              "      <td>[big, flop, entire, company]</td>\n",
              "      <td>[83, 1250, 426, 826]</td>\n",
              "    </tr>\n",
              "    <tr>\n",
              "      <th>30862</th>\n",
              "      <td>This game is soooo mid. I played a total of 9....</td>\n",
              "      <td>False</td>\n",
              "      <td>2025-05-30 16:31:21</td>\n",
              "      <td>2025-06-23 13:47:14</td>\n",
              "      <td>75</td>\n",
              "      <td>[game, soooo, mid, I, play, total, 9.4, hrs, s...</td>\n",
              "      <td>[2, 1751, 191, 3, 5, 1251, 1752, 975, 366, 148...</td>\n",
              "    </tr>\n",
              "    <tr>\n",
              "      <th>58231</th>\n",
              "      <td>we dont like fortnite!</td>\n",
              "      <td>False</td>\n",
              "      <td>2025-06-13 08:38:15</td>\n",
              "      <td>2025-06-13 08:38:15</td>\n",
              "      <td>22</td>\n",
              "      <td>[like, fortnite]</td>\n",
              "      <td>[10, 42]</td>\n",
              "    </tr>\n",
              "    <tr>\n",
              "      <th>30856</th>\n",
              "      <td>Matchmaking straight up doesn't work if you ha...</td>\n",
              "      <td>False</td>\n",
              "      <td>2025-05-30 21:09:51</td>\n",
              "      <td>2025-05-30 21:09:51</td>\n",
              "      <td>85</td>\n",
              "      <td>[matchmaking, straight, work, two, people, mat...</td>\n",
              "      <td>[101, 318, 90, 167, 66, 1754, 456]</td>\n",
              "    </tr>\n",
              "    <tr>\n",
              "      <th>30855</th>\n",
              "      <td>shıt game shıt op shıt servers shıt ac shıt bo...</td>\n",
              "      <td>False</td>\n",
              "      <td>2025-05-30 21:43:02</td>\n",
              "      <td>2025-05-30 21:43:02</td>\n",
              "      <td>50</td>\n",
              "      <td>[shıt, game, shıt, op, shıt, server, shıt, ac,...</td>\n",
              "      <td>[726, 2, 726, 427, 726, 43, 726, 1755, 726, 15]</td>\n",
              "    </tr>\n",
              "    <tr>\n",
              "      <th>...</th>\n",
              "      <td>...</td>\n",
              "      <td>...</td>\n",
              "      <td>...</td>\n",
              "      <td>...</td>\n",
              "      <td>...</td>\n",
              "      <td>...</td>\n",
              "      <td>...</td>\n",
              "    </tr>\n",
              "    <tr>\n",
              "      <th>38337</th>\n",
              "      <td>did we kill the nightlord    no that was just ...</td>\n",
              "      <td>True</td>\n",
              "      <td>2025-05-30 06:37:08</td>\n",
              "      <td>2025-05-30 06:37:08</td>\n",
              "      <td>58</td>\n",
              "      <td>[kill, nightlord, albinauric]</td>\n",
              "      <td>[130, 223, 4059]</td>\n",
              "    </tr>\n",
              "    <tr>\n",
              "      <th>38336</th>\n",
              "      <td>Very fun to play with friends</td>\n",
              "      <td>True</td>\n",
              "      <td>2025-05-30 06:47:58</td>\n",
              "      <td>2025-05-30 06:47:58</td>\n",
              "      <td>29</td>\n",
              "      <td>[fun, play, friend]</td>\n",
              "      <td>[4, 5, 9]</td>\n",
              "    </tr>\n",
              "    <tr>\n",
              "      <th>38335</th>\n",
              "      <td>Really fun! Better with friends though.</td>\n",
              "      <td>True</td>\n",
              "      <td>2025-05-30 07:21:44</td>\n",
              "      <td>2025-05-30 07:21:44</td>\n",
              "      <td>39</td>\n",
              "      <td>[really, fun, well, friend, though]</td>\n",
              "      <td>[29, 4, 19, 9, 152]</td>\n",
              "    </tr>\n",
              "    <tr>\n",
              "      <th>38299</th>\n",
              "      <td>40€ and Lots of pain  10/10 Worth every cent</td>\n",
              "      <td>True</td>\n",
              "      <td>2025-05-30 19:37:33</td>\n",
              "      <td>2025-05-30 19:37:33</td>\n",
              "      <td>44</td>\n",
              "      <td>[40, lot, pain, 10/10, worth, every, cent]</td>\n",
              "      <td>[73, 87, 745, 23, 50, 72, 4060]</td>\n",
              "    </tr>\n",
              "    <tr>\n",
              "      <th>144047</th>\n",
              "      <td>dumbahh augur</td>\n",
              "      <td>True</td>\n",
              "      <td>2025-06-05 14:13:24</td>\n",
              "      <td>2025-06-05 14:13:24</td>\n",
              "      <td>13</td>\n",
              "      <td>[dumbahh, augur]</td>\n",
              "      <td>[4061, 379]</td>\n",
              "    </tr>\n",
              "  </tbody>\n",
              "</table>\n",
              "<p>5000 rows × 7 columns</p>\n",
              "</div>\n",
              "    <div class=\"colab-df-buttons\">\n",
              "\n",
              "  <div class=\"colab-df-container\">\n",
              "    <button class=\"colab-df-convert\" onclick=\"convertToInteractive('df-e0e2c2b6-a882-41bd-b0ee-fb4ea01131a3')\"\n",
              "            title=\"Convert this dataframe to an interactive table.\"\n",
              "            style=\"display:none;\">\n",
              "\n",
              "  <svg xmlns=\"http://www.w3.org/2000/svg\" height=\"24px\" viewBox=\"0 -960 960 960\">\n",
              "    <path d=\"M120-120v-720h720v720H120Zm60-500h600v-160H180v160Zm220 220h160v-160H400v160Zm0 220h160v-160H400v160ZM180-400h160v-160H180v160Zm440 0h160v-160H620v160ZM180-180h160v-160H180v160Zm440 0h160v-160H620v160Z\"/>\n",
              "  </svg>\n",
              "    </button>\n",
              "\n",
              "  <style>\n",
              "    .colab-df-container {\n",
              "      display:flex;\n",
              "      gap: 12px;\n",
              "    }\n",
              "\n",
              "    .colab-df-convert {\n",
              "      background-color: #E8F0FE;\n",
              "      border: none;\n",
              "      border-radius: 50%;\n",
              "      cursor: pointer;\n",
              "      display: none;\n",
              "      fill: #1967D2;\n",
              "      height: 32px;\n",
              "      padding: 0 0 0 0;\n",
              "      width: 32px;\n",
              "    }\n",
              "\n",
              "    .colab-df-convert:hover {\n",
              "      background-color: #E2EBFA;\n",
              "      box-shadow: 0px 1px 2px rgba(60, 64, 67, 0.3), 0px 1px 3px 1px rgba(60, 64, 67, 0.15);\n",
              "      fill: #174EA6;\n",
              "    }\n",
              "\n",
              "    .colab-df-buttons div {\n",
              "      margin-bottom: 4px;\n",
              "    }\n",
              "\n",
              "    [theme=dark] .colab-df-convert {\n",
              "      background-color: #3B4455;\n",
              "      fill: #D2E3FC;\n",
              "    }\n",
              "\n",
              "    [theme=dark] .colab-df-convert:hover {\n",
              "      background-color: #434B5C;\n",
              "      box-shadow: 0px 1px 3px 1px rgba(0, 0, 0, 0.15);\n",
              "      filter: drop-shadow(0px 1px 2px rgba(0, 0, 0, 0.3));\n",
              "      fill: #FFFFFF;\n",
              "    }\n",
              "  </style>\n",
              "\n",
              "    <script>\n",
              "      const buttonEl =\n",
              "        document.querySelector('#df-e0e2c2b6-a882-41bd-b0ee-fb4ea01131a3 button.colab-df-convert');\n",
              "      buttonEl.style.display =\n",
              "        google.colab.kernel.accessAllowed ? 'block' : 'none';\n",
              "\n",
              "      async function convertToInteractive(key) {\n",
              "        const element = document.querySelector('#df-e0e2c2b6-a882-41bd-b0ee-fb4ea01131a3');\n",
              "        const dataTable =\n",
              "          await google.colab.kernel.invokeFunction('convertToInteractive',\n",
              "                                                    [key], {});\n",
              "        if (!dataTable) return;\n",
              "\n",
              "        const docLinkHtml = 'Like what you see? Visit the ' +\n",
              "          '<a target=\"_blank\" href=https://colab.research.google.com/notebooks/data_table.ipynb>data table notebook</a>'\n",
              "          + ' to learn more about interactive tables.';\n",
              "        element.innerHTML = '';\n",
              "        dataTable['output_type'] = 'display_data';\n",
              "        await google.colab.output.renderOutput(dataTable, element);\n",
              "        const docLink = document.createElement('div');\n",
              "        docLink.innerHTML = docLinkHtml;\n",
              "        element.appendChild(docLink);\n",
              "      }\n",
              "    </script>\n",
              "  </div>\n",
              "\n",
              "\n",
              "    <div id=\"df-0dbf0897-bcac-4b77-98c8-39eb194640a3\">\n",
              "      <button class=\"colab-df-quickchart\" onclick=\"quickchart('df-0dbf0897-bcac-4b77-98c8-39eb194640a3')\"\n",
              "                title=\"Suggest charts\"\n",
              "                style=\"display:none;\">\n",
              "\n",
              "<svg xmlns=\"http://www.w3.org/2000/svg\" height=\"24px\"viewBox=\"0 0 24 24\"\n",
              "     width=\"24px\">\n",
              "    <g>\n",
              "        <path d=\"M19 3H5c-1.1 0-2 .9-2 2v14c0 1.1.9 2 2 2h14c1.1 0 2-.9 2-2V5c0-1.1-.9-2-2-2zM9 17H7v-7h2v7zm4 0h-2V7h2v10zm4 0h-2v-4h2v4z\"/>\n",
              "    </g>\n",
              "</svg>\n",
              "      </button>\n",
              "\n",
              "<style>\n",
              "  .colab-df-quickchart {\n",
              "      --bg-color: #E8F0FE;\n",
              "      --fill-color: #1967D2;\n",
              "      --hover-bg-color: #E2EBFA;\n",
              "      --hover-fill-color: #174EA6;\n",
              "      --disabled-fill-color: #AAA;\n",
              "      --disabled-bg-color: #DDD;\n",
              "  }\n",
              "\n",
              "  [theme=dark] .colab-df-quickchart {\n",
              "      --bg-color: #3B4455;\n",
              "      --fill-color: #D2E3FC;\n",
              "      --hover-bg-color: #434B5C;\n",
              "      --hover-fill-color: #FFFFFF;\n",
              "      --disabled-bg-color: #3B4455;\n",
              "      --disabled-fill-color: #666;\n",
              "  }\n",
              "\n",
              "  .colab-df-quickchart {\n",
              "    background-color: var(--bg-color);\n",
              "    border: none;\n",
              "    border-radius: 50%;\n",
              "    cursor: pointer;\n",
              "    display: none;\n",
              "    fill: var(--fill-color);\n",
              "    height: 32px;\n",
              "    padding: 0;\n",
              "    width: 32px;\n",
              "  }\n",
              "\n",
              "  .colab-df-quickchart:hover {\n",
              "    background-color: var(--hover-bg-color);\n",
              "    box-shadow: 0 1px 2px rgba(60, 64, 67, 0.3), 0 1px 3px 1px rgba(60, 64, 67, 0.15);\n",
              "    fill: var(--button-hover-fill-color);\n",
              "  }\n",
              "\n",
              "  .colab-df-quickchart-complete:disabled,\n",
              "  .colab-df-quickchart-complete:disabled:hover {\n",
              "    background-color: var(--disabled-bg-color);\n",
              "    fill: var(--disabled-fill-color);\n",
              "    box-shadow: none;\n",
              "  }\n",
              "\n",
              "  .colab-df-spinner {\n",
              "    border: 2px solid var(--fill-color);\n",
              "    border-color: transparent;\n",
              "    border-bottom-color: var(--fill-color);\n",
              "    animation:\n",
              "      spin 1s steps(1) infinite;\n",
              "  }\n",
              "\n",
              "  @keyframes spin {\n",
              "    0% {\n",
              "      border-color: transparent;\n",
              "      border-bottom-color: var(--fill-color);\n",
              "      border-left-color: var(--fill-color);\n",
              "    }\n",
              "    20% {\n",
              "      border-color: transparent;\n",
              "      border-left-color: var(--fill-color);\n",
              "      border-top-color: var(--fill-color);\n",
              "    }\n",
              "    30% {\n",
              "      border-color: transparent;\n",
              "      border-left-color: var(--fill-color);\n",
              "      border-top-color: var(--fill-color);\n",
              "      border-right-color: var(--fill-color);\n",
              "    }\n",
              "    40% {\n",
              "      border-color: transparent;\n",
              "      border-right-color: var(--fill-color);\n",
              "      border-top-color: var(--fill-color);\n",
              "    }\n",
              "    60% {\n",
              "      border-color: transparent;\n",
              "      border-right-color: var(--fill-color);\n",
              "    }\n",
              "    80% {\n",
              "      border-color: transparent;\n",
              "      border-right-color: var(--fill-color);\n",
              "      border-bottom-color: var(--fill-color);\n",
              "    }\n",
              "    90% {\n",
              "      border-color: transparent;\n",
              "      border-bottom-color: var(--fill-color);\n",
              "    }\n",
              "  }\n",
              "</style>\n",
              "\n",
              "      <script>\n",
              "        async function quickchart(key) {\n",
              "          const quickchartButtonEl =\n",
              "            document.querySelector('#' + key + ' button');\n",
              "          quickchartButtonEl.disabled = true;  // To prevent multiple clicks.\n",
              "          quickchartButtonEl.classList.add('colab-df-spinner');\n",
              "          try {\n",
              "            const charts = await google.colab.kernel.invokeFunction(\n",
              "                'suggestCharts', [key], {});\n",
              "          } catch (error) {\n",
              "            console.error('Error during call to suggestCharts:', error);\n",
              "          }\n",
              "          quickchartButtonEl.classList.remove('colab-df-spinner');\n",
              "          quickchartButtonEl.classList.add('colab-df-quickchart-complete');\n",
              "        }\n",
              "        (() => {\n",
              "          let quickchartButtonEl =\n",
              "            document.querySelector('#df-0dbf0897-bcac-4b77-98c8-39eb194640a3 button');\n",
              "          quickchartButtonEl.style.display =\n",
              "            google.colab.kernel.accessAllowed ? 'block' : 'none';\n",
              "        })();\n",
              "      </script>\n",
              "    </div>\n",
              "    </div>\n",
              "  </div>\n"
            ],
            "text/plain": [
              "                                                   review  voted_up  \\\n",
              "43224                  Biggest Flop of the entire company     False   \n",
              "30862   This game is soooo mid. I played a total of 9....     False   \n",
              "58231                              we dont like fortnite!     False   \n",
              "30856   Matchmaking straight up doesn't work if you ha...     False   \n",
              "30855   shıt game shıt op shıt servers shıt ac shıt bo...     False   \n",
              "...                                                   ...       ...   \n",
              "38337   did we kill the nightlord    no that was just ...      True   \n",
              "38336                       Very fun to play with friends      True   \n",
              "38335             Really fun! Better with friends though.      True   \n",
              "38299        40€ and Lots of pain  10/10 Worth every cent      True   \n",
              "144047                                      dumbahh augur      True   \n",
              "\n",
              "         timestamp_created   timestamp_updated  length  \\\n",
              "43224  2025-05-30 07:26:29 2025-05-30 07:26:29      34   \n",
              "30862  2025-05-30 16:31:21 2025-06-23 13:47:14      75   \n",
              "58231  2025-06-13 08:38:15 2025-06-13 08:38:15      22   \n",
              "30856  2025-05-30 21:09:51 2025-05-30 21:09:51      85   \n",
              "30855  2025-05-30 21:43:02 2025-05-30 21:43:02      50   \n",
              "...                    ...                 ...     ...   \n",
              "38337  2025-05-30 06:37:08 2025-05-30 06:37:08      58   \n",
              "38336  2025-05-30 06:47:58 2025-05-30 06:47:58      29   \n",
              "38335  2025-05-30 07:21:44 2025-05-30 07:21:44      39   \n",
              "38299  2025-05-30 19:37:33 2025-05-30 19:37:33      44   \n",
              "144047 2025-06-05 14:13:24 2025-06-05 14:13:24      13   \n",
              "\n",
              "                                     preprocessed_reviews  \\\n",
              "43224                        [big, flop, entire, company]   \n",
              "30862   [game, soooo, mid, I, play, total, 9.4, hrs, s...   \n",
              "58231                                    [like, fortnite]   \n",
              "30856   [matchmaking, straight, work, two, people, mat...   \n",
              "30855   [shıt, game, shıt, op, shıt, server, shıt, ac,...   \n",
              "...                                                   ...   \n",
              "38337                       [kill, nightlord, albinauric]   \n",
              "38336                                 [fun, play, friend]   \n",
              "38335                 [really, fun, well, friend, though]   \n",
              "38299          [40, lot, pain, 10/10, worth, every, cent]   \n",
              "144047                                   [dumbahh, augur]   \n",
              "\n",
              "                                                Sequences  \n",
              "43224                                [83, 1250, 426, 826]  \n",
              "30862   [2, 1751, 191, 3, 5, 1251, 1752, 975, 366, 148...  \n",
              "58231                                            [10, 42]  \n",
              "30856                  [101, 318, 90, 167, 66, 1754, 456]  \n",
              "30855     [726, 2, 726, 427, 726, 43, 726, 1755, 726, 15]  \n",
              "...                                                   ...  \n",
              "38337                                    [130, 223, 4059]  \n",
              "38336                                           [4, 5, 9]  \n",
              "38335                                 [29, 4, 19, 9, 152]  \n",
              "38299                     [73, 87, 745, 23, 50, 72, 4060]  \n",
              "144047                                        [4061, 379]  \n",
              "\n",
              "[5000 rows x 7 columns]"
            ]
          },
          "execution_count": 31,
          "metadata": {},
          "output_type": "execute_result"
        }
      ],
      "source": [
        "balanced_df"
      ]
    },
    {
      "cell_type": "code",
      "execution_count": null,
      "id": "rzliRx_1oGt3",
      "metadata": {
        "id": "rzliRx_1oGt3"
      },
      "outputs": [],
      "source": [
        "balanced_df['voted_up'] = balanced_df['voted_up'].astype(int)"
      ]
    },
    {
      "cell_type": "code",
      "execution_count": null,
      "id": "TJmKc9wyoZHp",
      "metadata": {
        "id": "TJmKc9wyoZHp"
      },
      "outputs": [],
      "source": [
        "train, test = train_test_split(balanced_df, test_size=0.2)"
      ]
    },
    {
      "cell_type": "code",
      "execution_count": null,
      "id": "PQjwOCiOoliy",
      "metadata": {
        "id": "PQjwOCiOoliy"
      },
      "outputs": [],
      "source": [
        "x_train_seq = train['Sequences']\n",
        "y_train = train['voted_up']\n",
        "\n",
        "x_test_seq = test['Sequences']\n",
        "y_test = test['voted_up']"
      ]
    },
    {
      "cell_type": "code",
      "execution_count": null,
      "id": "YJtak_ZYpJyj",
      "metadata": {
        "id": "YJtak_ZYpJyj"
      },
      "outputs": [],
      "source": [
        "def vectorize_sequences(sequences, dimension=10000):\n",
        "  result = np.zeros((len(sequences),dimension))\n",
        "  for i, sequence in enumerate(sequences):\n",
        "    for index in sequence:\n",
        "      result[i,index] += 1\n",
        "  return result"
      ]
    },
    {
      "cell_type": "code",
      "execution_count": null,
      "id": "hQX0TelLpxbJ",
      "metadata": {
        "id": "hQX0TelLpxbJ"
      },
      "outputs": [],
      "source": [
        "x_train = vectorize_sequences(x_train_seq)"
      ]
    },
    {
      "cell_type": "code",
      "execution_count": null,
      "id": "m7zY4EIcp3_p",
      "metadata": {
        "id": "m7zY4EIcp3_p"
      },
      "outputs": [],
      "source": [
        "x_test = vectorize_sequences(x_test_seq)"
      ]
    },
    {
      "cell_type": "code",
      "execution_count": null,
      "id": "NsJ0NfR2qamq",
      "metadata": {
        "id": "NsJ0NfR2qamq"
      },
      "outputs": [],
      "source": [
        "lr = LogisticRegression(random_state=42,max_iter=500)"
      ]
    },
    {
      "cell_type": "code",
      "execution_count": null,
      "id": "v0_iOVuUV-zx",
      "metadata": {
        "id": "v0_iOVuUV-zx"
      },
      "outputs": [],
      "source": [
        "from sklearn.naive_bayes import GaussianNB, BernoulliNB\n",
        "\n",
        "gnb = GaussianNB()\n",
        "bnb = BernoulliNB()"
      ]
    },
    {
      "cell_type": "code",
      "execution_count": null,
      "id": "xrGNsaS1WveO",
      "metadata": {
        "id": "xrGNsaS1WveO"
      },
      "outputs": [],
      "source": [
        "from sklearn import svm\n",
        "\n",
        "clf = svm.SVC()"
      ]
    },
    {
      "cell_type": "code",
      "execution_count": null,
      "id": "MZYWZd_PRpxV",
      "metadata": {
        "colab": {
          "base_uri": "https://localhost:8080/"
        },
        "id": "MZYWZd_PRpxV",
        "outputId": "dbb8a800-3b6c-46ab-a730-330d218bc6bf"
      },
      "outputs": [
        {
          "data": {
            "text/plain": [
              "(5000, 10000)"
            ]
          },
          "execution_count": 81,
          "metadata": {},
          "output_type": "execute_result"
        }
      ],
      "source": [
        "X  = np.vstack([x_train, x_test])\n",
        "# y = np.vstack([y_train, y_test])\n",
        "X.shape"
      ]
    },
    {
      "cell_type": "code",
      "execution_count": null,
      "id": "4iqZHKaCSTHY",
      "metadata": {
        "id": "4iqZHKaCSTHY"
      },
      "outputs": [],
      "source": [
        "y_train_1 = np.reshape(y_train,(4000, 1))\n",
        "y_test_1 = np.reshape(y_test, (1000,1))\n",
        "y = np.vstack([y_train_1, y_test_1])"
      ]
    },
    {
      "cell_type": "code",
      "execution_count": null,
      "id": "5M97VIfFSWJb",
      "metadata": {
        "id": "5M97VIfFSWJb"
      },
      "outputs": [],
      "source": [
        "y = np.reshape(y, (5000))"
      ]
    },
    {
      "cell_type": "code",
      "execution_count": null,
      "id": "hmJNJi0URhgI",
      "metadata": {
        "colab": {
          "base_uri": "https://localhost:8080/"
        },
        "id": "hmJNJi0URhgI",
        "outputId": "84240528-ccb3-4dcb-fdbc-3c9805d221a2"
      },
      "outputs": [
        {
          "data": {
            "text/plain": [
              "['fit_time', 'score_time', 'test_score']"
            ]
          },
          "execution_count": 116,
          "metadata": {},
          "output_type": "execute_result"
        }
      ],
      "source": [
        "cv_results = cross_validate(clf, X, y)\n",
        "sorted(cv_results.keys())"
      ]
    },
    {
      "cell_type": "code",
      "execution_count": null,
      "id": "F0wnBbs9Rod1",
      "metadata": {
        "colab": {
          "base_uri": "https://localhost:8080/"
        },
        "id": "F0wnBbs9Rod1",
        "outputId": "4c1bbb01-b6e2-4566-f7c4-91221912ed03"
      },
      "outputs": [
        {
          "data": {
            "text/plain": [
              "array([0.78 , 0.799, 0.783, 0.807, 0.787])"
            ]
          },
          "execution_count": 117,
          "metadata": {},
          "output_type": "execute_result"
        }
      ],
      "source": [
        "cv_results['test_score']"
      ]
    },
    {
      "cell_type": "code",
      "execution_count": null,
      "id": "_WlKCcOEqhMA",
      "metadata": {
        "colab": {
          "base_uri": "https://localhost:8080/",
          "height": 80
        },
        "id": "_WlKCcOEqhMA",
        "outputId": "8f3bbb01-48c9-44c4-b6e2-1882c3db6bdf"
      },
      "outputs": [
        {
          "data": {
            "text/html": [
              "<style>#sk-container-id-1 {\n",
              "  /* Definition of color scheme common for light and dark mode */\n",
              "  --sklearn-color-text: #000;\n",
              "  --sklearn-color-text-muted: #666;\n",
              "  --sklearn-color-line: gray;\n",
              "  /* Definition of color scheme for unfitted estimators */\n",
              "  --sklearn-color-unfitted-level-0: #fff5e6;\n",
              "  --sklearn-color-unfitted-level-1: #f6e4d2;\n",
              "  --sklearn-color-unfitted-level-2: #ffe0b3;\n",
              "  --sklearn-color-unfitted-level-3: chocolate;\n",
              "  /* Definition of color scheme for fitted estimators */\n",
              "  --sklearn-color-fitted-level-0: #f0f8ff;\n",
              "  --sklearn-color-fitted-level-1: #d4ebff;\n",
              "  --sklearn-color-fitted-level-2: #b3dbfd;\n",
              "  --sklearn-color-fitted-level-3: cornflowerblue;\n",
              "\n",
              "  /* Specific color for light theme */\n",
              "  --sklearn-color-text-on-default-background: var(--sg-text-color, var(--theme-code-foreground, var(--jp-content-font-color1, black)));\n",
              "  --sklearn-color-background: var(--sg-background-color, var(--theme-background, var(--jp-layout-color0, white)));\n",
              "  --sklearn-color-border-box: var(--sg-text-color, var(--theme-code-foreground, var(--jp-content-font-color1, black)));\n",
              "  --sklearn-color-icon: #696969;\n",
              "\n",
              "  @media (prefers-color-scheme: dark) {\n",
              "    /* Redefinition of color scheme for dark theme */\n",
              "    --sklearn-color-text-on-default-background: var(--sg-text-color, var(--theme-code-foreground, var(--jp-content-font-color1, white)));\n",
              "    --sklearn-color-background: var(--sg-background-color, var(--theme-background, var(--jp-layout-color0, #111)));\n",
              "    --sklearn-color-border-box: var(--sg-text-color, var(--theme-code-foreground, var(--jp-content-font-color1, white)));\n",
              "    --sklearn-color-icon: #878787;\n",
              "  }\n",
              "}\n",
              "\n",
              "#sk-container-id-1 {\n",
              "  color: var(--sklearn-color-text);\n",
              "}\n",
              "\n",
              "#sk-container-id-1 pre {\n",
              "  padding: 0;\n",
              "}\n",
              "\n",
              "#sk-container-id-1 input.sk-hidden--visually {\n",
              "  border: 0;\n",
              "  clip: rect(1px 1px 1px 1px);\n",
              "  clip: rect(1px, 1px, 1px, 1px);\n",
              "  height: 1px;\n",
              "  margin: -1px;\n",
              "  overflow: hidden;\n",
              "  padding: 0;\n",
              "  position: absolute;\n",
              "  width: 1px;\n",
              "}\n",
              "\n",
              "#sk-container-id-1 div.sk-dashed-wrapped {\n",
              "  border: 1px dashed var(--sklearn-color-line);\n",
              "  margin: 0 0.4em 0.5em 0.4em;\n",
              "  box-sizing: border-box;\n",
              "  padding-bottom: 0.4em;\n",
              "  background-color: var(--sklearn-color-background);\n",
              "}\n",
              "\n",
              "#sk-container-id-1 div.sk-container {\n",
              "  /* jupyter's `normalize.less` sets `[hidden] { display: none; }`\n",
              "     but bootstrap.min.css set `[hidden] { display: none !important; }`\n",
              "     so we also need the `!important` here to be able to override the\n",
              "     default hidden behavior on the sphinx rendered scikit-learn.org.\n",
              "     See: https://github.com/scikit-learn/scikit-learn/issues/21755 */\n",
              "  display: inline-block !important;\n",
              "  position: relative;\n",
              "}\n",
              "\n",
              "#sk-container-id-1 div.sk-text-repr-fallback {\n",
              "  display: none;\n",
              "}\n",
              "\n",
              "div.sk-parallel-item,\n",
              "div.sk-serial,\n",
              "div.sk-item {\n",
              "  /* draw centered vertical line to link estimators */\n",
              "  background-image: linear-gradient(var(--sklearn-color-text-on-default-background), var(--sklearn-color-text-on-default-background));\n",
              "  background-size: 2px 100%;\n",
              "  background-repeat: no-repeat;\n",
              "  background-position: center center;\n",
              "}\n",
              "\n",
              "/* Parallel-specific style estimator block */\n",
              "\n",
              "#sk-container-id-1 div.sk-parallel-item::after {\n",
              "  content: \"\";\n",
              "  width: 100%;\n",
              "  border-bottom: 2px solid var(--sklearn-color-text-on-default-background);\n",
              "  flex-grow: 1;\n",
              "}\n",
              "\n",
              "#sk-container-id-1 div.sk-parallel {\n",
              "  display: flex;\n",
              "  align-items: stretch;\n",
              "  justify-content: center;\n",
              "  background-color: var(--sklearn-color-background);\n",
              "  position: relative;\n",
              "}\n",
              "\n",
              "#sk-container-id-1 div.sk-parallel-item {\n",
              "  display: flex;\n",
              "  flex-direction: column;\n",
              "}\n",
              "\n",
              "#sk-container-id-1 div.sk-parallel-item:first-child::after {\n",
              "  align-self: flex-end;\n",
              "  width: 50%;\n",
              "}\n",
              "\n",
              "#sk-container-id-1 div.sk-parallel-item:last-child::after {\n",
              "  align-self: flex-start;\n",
              "  width: 50%;\n",
              "}\n",
              "\n",
              "#sk-container-id-1 div.sk-parallel-item:only-child::after {\n",
              "  width: 0;\n",
              "}\n",
              "\n",
              "/* Serial-specific style estimator block */\n",
              "\n",
              "#sk-container-id-1 div.sk-serial {\n",
              "  display: flex;\n",
              "  flex-direction: column;\n",
              "  align-items: center;\n",
              "  background-color: var(--sklearn-color-background);\n",
              "  padding-right: 1em;\n",
              "  padding-left: 1em;\n",
              "}\n",
              "\n",
              "\n",
              "/* Toggleable style: style used for estimator/Pipeline/ColumnTransformer box that is\n",
              "clickable and can be expanded/collapsed.\n",
              "- Pipeline and ColumnTransformer use this feature and define the default style\n",
              "- Estimators will overwrite some part of the style using the `sk-estimator` class\n",
              "*/\n",
              "\n",
              "/* Pipeline and ColumnTransformer style (default) */\n",
              "\n",
              "#sk-container-id-1 div.sk-toggleable {\n",
              "  /* Default theme specific background. It is overwritten whether we have a\n",
              "  specific estimator or a Pipeline/ColumnTransformer */\n",
              "  background-color: var(--sklearn-color-background);\n",
              "}\n",
              "\n",
              "/* Toggleable label */\n",
              "#sk-container-id-1 label.sk-toggleable__label {\n",
              "  cursor: pointer;\n",
              "  display: flex;\n",
              "  width: 100%;\n",
              "  margin-bottom: 0;\n",
              "  padding: 0.5em;\n",
              "  box-sizing: border-box;\n",
              "  text-align: center;\n",
              "  align-items: start;\n",
              "  justify-content: space-between;\n",
              "  gap: 0.5em;\n",
              "}\n",
              "\n",
              "#sk-container-id-1 label.sk-toggleable__label .caption {\n",
              "  font-size: 0.6rem;\n",
              "  font-weight: lighter;\n",
              "  color: var(--sklearn-color-text-muted);\n",
              "}\n",
              "\n",
              "#sk-container-id-1 label.sk-toggleable__label-arrow:before {\n",
              "  /* Arrow on the left of the label */\n",
              "  content: \"▸\";\n",
              "  float: left;\n",
              "  margin-right: 0.25em;\n",
              "  color: var(--sklearn-color-icon);\n",
              "}\n",
              "\n",
              "#sk-container-id-1 label.sk-toggleable__label-arrow:hover:before {\n",
              "  color: var(--sklearn-color-text);\n",
              "}\n",
              "\n",
              "/* Toggleable content - dropdown */\n",
              "\n",
              "#sk-container-id-1 div.sk-toggleable__content {\n",
              "  max-height: 0;\n",
              "  max-width: 0;\n",
              "  overflow: hidden;\n",
              "  text-align: left;\n",
              "  /* unfitted */\n",
              "  background-color: var(--sklearn-color-unfitted-level-0);\n",
              "}\n",
              "\n",
              "#sk-container-id-1 div.sk-toggleable__content.fitted {\n",
              "  /* fitted */\n",
              "  background-color: var(--sklearn-color-fitted-level-0);\n",
              "}\n",
              "\n",
              "#sk-container-id-1 div.sk-toggleable__content pre {\n",
              "  margin: 0.2em;\n",
              "  border-radius: 0.25em;\n",
              "  color: var(--sklearn-color-text);\n",
              "  /* unfitted */\n",
              "  background-color: var(--sklearn-color-unfitted-level-0);\n",
              "}\n",
              "\n",
              "#sk-container-id-1 div.sk-toggleable__content.fitted pre {\n",
              "  /* unfitted */\n",
              "  background-color: var(--sklearn-color-fitted-level-0);\n",
              "}\n",
              "\n",
              "#sk-container-id-1 input.sk-toggleable__control:checked~div.sk-toggleable__content {\n",
              "  /* Expand drop-down */\n",
              "  max-height: 200px;\n",
              "  max-width: 100%;\n",
              "  overflow: auto;\n",
              "}\n",
              "\n",
              "#sk-container-id-1 input.sk-toggleable__control:checked~label.sk-toggleable__label-arrow:before {\n",
              "  content: \"▾\";\n",
              "}\n",
              "\n",
              "/* Pipeline/ColumnTransformer-specific style */\n",
              "\n",
              "#sk-container-id-1 div.sk-label input.sk-toggleable__control:checked~label.sk-toggleable__label {\n",
              "  color: var(--sklearn-color-text);\n",
              "  background-color: var(--sklearn-color-unfitted-level-2);\n",
              "}\n",
              "\n",
              "#sk-container-id-1 div.sk-label.fitted input.sk-toggleable__control:checked~label.sk-toggleable__label {\n",
              "  background-color: var(--sklearn-color-fitted-level-2);\n",
              "}\n",
              "\n",
              "/* Estimator-specific style */\n",
              "\n",
              "/* Colorize estimator box */\n",
              "#sk-container-id-1 div.sk-estimator input.sk-toggleable__control:checked~label.sk-toggleable__label {\n",
              "  /* unfitted */\n",
              "  background-color: var(--sklearn-color-unfitted-level-2);\n",
              "}\n",
              "\n",
              "#sk-container-id-1 div.sk-estimator.fitted input.sk-toggleable__control:checked~label.sk-toggleable__label {\n",
              "  /* fitted */\n",
              "  background-color: var(--sklearn-color-fitted-level-2);\n",
              "}\n",
              "\n",
              "#sk-container-id-1 div.sk-label label.sk-toggleable__label,\n",
              "#sk-container-id-1 div.sk-label label {\n",
              "  /* The background is the default theme color */\n",
              "  color: var(--sklearn-color-text-on-default-background);\n",
              "}\n",
              "\n",
              "/* On hover, darken the color of the background */\n",
              "#sk-container-id-1 div.sk-label:hover label.sk-toggleable__label {\n",
              "  color: var(--sklearn-color-text);\n",
              "  background-color: var(--sklearn-color-unfitted-level-2);\n",
              "}\n",
              "\n",
              "/* Label box, darken color on hover, fitted */\n",
              "#sk-container-id-1 div.sk-label.fitted:hover label.sk-toggleable__label.fitted {\n",
              "  color: var(--sklearn-color-text);\n",
              "  background-color: var(--sklearn-color-fitted-level-2);\n",
              "}\n",
              "\n",
              "/* Estimator label */\n",
              "\n",
              "#sk-container-id-1 div.sk-label label {\n",
              "  font-family: monospace;\n",
              "  font-weight: bold;\n",
              "  display: inline-block;\n",
              "  line-height: 1.2em;\n",
              "}\n",
              "\n",
              "#sk-container-id-1 div.sk-label-container {\n",
              "  text-align: center;\n",
              "}\n",
              "\n",
              "/* Estimator-specific */\n",
              "#sk-container-id-1 div.sk-estimator {\n",
              "  font-family: monospace;\n",
              "  border: 1px dotted var(--sklearn-color-border-box);\n",
              "  border-radius: 0.25em;\n",
              "  box-sizing: border-box;\n",
              "  margin-bottom: 0.5em;\n",
              "  /* unfitted */\n",
              "  background-color: var(--sklearn-color-unfitted-level-0);\n",
              "}\n",
              "\n",
              "#sk-container-id-1 div.sk-estimator.fitted {\n",
              "  /* fitted */\n",
              "  background-color: var(--sklearn-color-fitted-level-0);\n",
              "}\n",
              "\n",
              "/* on hover */\n",
              "#sk-container-id-1 div.sk-estimator:hover {\n",
              "  /* unfitted */\n",
              "  background-color: var(--sklearn-color-unfitted-level-2);\n",
              "}\n",
              "\n",
              "#sk-container-id-1 div.sk-estimator.fitted:hover {\n",
              "  /* fitted */\n",
              "  background-color: var(--sklearn-color-fitted-level-2);\n",
              "}\n",
              "\n",
              "/* Specification for estimator info (e.g. \"i\" and \"?\") */\n",
              "\n",
              "/* Common style for \"i\" and \"?\" */\n",
              "\n",
              ".sk-estimator-doc-link,\n",
              "a:link.sk-estimator-doc-link,\n",
              "a:visited.sk-estimator-doc-link {\n",
              "  float: right;\n",
              "  font-size: smaller;\n",
              "  line-height: 1em;\n",
              "  font-family: monospace;\n",
              "  background-color: var(--sklearn-color-background);\n",
              "  border-radius: 1em;\n",
              "  height: 1em;\n",
              "  width: 1em;\n",
              "  text-decoration: none !important;\n",
              "  margin-left: 0.5em;\n",
              "  text-align: center;\n",
              "  /* unfitted */\n",
              "  border: var(--sklearn-color-unfitted-level-1) 1pt solid;\n",
              "  color: var(--sklearn-color-unfitted-level-1);\n",
              "}\n",
              "\n",
              ".sk-estimator-doc-link.fitted,\n",
              "a:link.sk-estimator-doc-link.fitted,\n",
              "a:visited.sk-estimator-doc-link.fitted {\n",
              "  /* fitted */\n",
              "  border: var(--sklearn-color-fitted-level-1) 1pt solid;\n",
              "  color: var(--sklearn-color-fitted-level-1);\n",
              "}\n",
              "\n",
              "/* On hover */\n",
              "div.sk-estimator:hover .sk-estimator-doc-link:hover,\n",
              ".sk-estimator-doc-link:hover,\n",
              "div.sk-label-container:hover .sk-estimator-doc-link:hover,\n",
              ".sk-estimator-doc-link:hover {\n",
              "  /* unfitted */\n",
              "  background-color: var(--sklearn-color-unfitted-level-3);\n",
              "  color: var(--sklearn-color-background);\n",
              "  text-decoration: none;\n",
              "}\n",
              "\n",
              "div.sk-estimator.fitted:hover .sk-estimator-doc-link.fitted:hover,\n",
              ".sk-estimator-doc-link.fitted:hover,\n",
              "div.sk-label-container:hover .sk-estimator-doc-link.fitted:hover,\n",
              ".sk-estimator-doc-link.fitted:hover {\n",
              "  /* fitted */\n",
              "  background-color: var(--sklearn-color-fitted-level-3);\n",
              "  color: var(--sklearn-color-background);\n",
              "  text-decoration: none;\n",
              "}\n",
              "\n",
              "/* Span, style for the box shown on hovering the info icon */\n",
              ".sk-estimator-doc-link span {\n",
              "  display: none;\n",
              "  z-index: 9999;\n",
              "  position: relative;\n",
              "  font-weight: normal;\n",
              "  right: .2ex;\n",
              "  padding: .5ex;\n",
              "  margin: .5ex;\n",
              "  width: min-content;\n",
              "  min-width: 20ex;\n",
              "  max-width: 50ex;\n",
              "  color: var(--sklearn-color-text);\n",
              "  box-shadow: 2pt 2pt 4pt #999;\n",
              "  /* unfitted */\n",
              "  background: var(--sklearn-color-unfitted-level-0);\n",
              "  border: .5pt solid var(--sklearn-color-unfitted-level-3);\n",
              "}\n",
              "\n",
              ".sk-estimator-doc-link.fitted span {\n",
              "  /* fitted */\n",
              "  background: var(--sklearn-color-fitted-level-0);\n",
              "  border: var(--sklearn-color-fitted-level-3);\n",
              "}\n",
              "\n",
              ".sk-estimator-doc-link:hover span {\n",
              "  display: block;\n",
              "}\n",
              "\n",
              "/* \"?\"-specific style due to the `<a>` HTML tag */\n",
              "\n",
              "#sk-container-id-1 a.estimator_doc_link {\n",
              "  float: right;\n",
              "  font-size: 1rem;\n",
              "  line-height: 1em;\n",
              "  font-family: monospace;\n",
              "  background-color: var(--sklearn-color-background);\n",
              "  border-radius: 1rem;\n",
              "  height: 1rem;\n",
              "  width: 1rem;\n",
              "  text-decoration: none;\n",
              "  /* unfitted */\n",
              "  color: var(--sklearn-color-unfitted-level-1);\n",
              "  border: var(--sklearn-color-unfitted-level-1) 1pt solid;\n",
              "}\n",
              "\n",
              "#sk-container-id-1 a.estimator_doc_link.fitted {\n",
              "  /* fitted */\n",
              "  border: var(--sklearn-color-fitted-level-1) 1pt solid;\n",
              "  color: var(--sklearn-color-fitted-level-1);\n",
              "}\n",
              "\n",
              "/* On hover */\n",
              "#sk-container-id-1 a.estimator_doc_link:hover {\n",
              "  /* unfitted */\n",
              "  background-color: var(--sklearn-color-unfitted-level-3);\n",
              "  color: var(--sklearn-color-background);\n",
              "  text-decoration: none;\n",
              "}\n",
              "\n",
              "#sk-container-id-1 a.estimator_doc_link.fitted:hover {\n",
              "  /* fitted */\n",
              "  background-color: var(--sklearn-color-fitted-level-3);\n",
              "}\n",
              "</style><div id=\"sk-container-id-1\" class=\"sk-top-container\"><div class=\"sk-text-repr-fallback\"><pre>LogisticRegression(max_iter=1000, random_state=48)</pre><b>In a Jupyter environment, please rerun this cell to show the HTML representation or trust the notebook. <br />On GitHub, the HTML representation is unable to render, please try loading this page with nbviewer.org.</b></div><div class=\"sk-container\" hidden><div class=\"sk-item\"><div class=\"sk-estimator fitted sk-toggleable\"><input class=\"sk-toggleable__control sk-hidden--visually\" id=\"sk-estimator-id-1\" type=\"checkbox\" checked><label for=\"sk-estimator-id-1\" class=\"sk-toggleable__label fitted sk-toggleable__label-arrow\"><div><div>LogisticRegression</div></div><div><a class=\"sk-estimator-doc-link fitted\" rel=\"noreferrer\" target=\"_blank\" href=\"https://scikit-learn.org/1.6/modules/generated/sklearn.linear_model.LogisticRegression.html\">?<span>Documentation for LogisticRegression</span></a><span class=\"sk-estimator-doc-link fitted\">i<span>Fitted</span></span></div></label><div class=\"sk-toggleable__content fitted\"><pre>LogisticRegression(max_iter=1000, random_state=48)</pre></div> </div></div></div></div>"
            ],
            "text/plain": [
              "LogisticRegression(max_iter=1000, random_state=48)"
            ]
          },
          "execution_count": 39,
          "metadata": {},
          "output_type": "execute_result"
        }
      ],
      "source": [
        "lr.fit(x_train,y_train)"
      ]
    },
    {
      "cell_type": "code",
      "execution_count": null,
      "id": "a-J1fG0mqtuk",
      "metadata": {
        "colab": {
          "base_uri": "https://localhost:8080/"
        },
        "id": "a-J1fG0mqtuk",
        "outputId": "22581dfc-9bad-45c8-c633-0fb5f5d9bec2"
      },
      "outputs": [
        {
          "data": {
            "text/plain": [
              "0.799"
            ]
          },
          "execution_count": 40,
          "metadata": {},
          "output_type": "execute_result"
        }
      ],
      "source": [
        "lr.score(x_test,y_test)"
      ]
    },
    {
      "cell_type": "code",
      "execution_count": null,
      "id": "2jPi6bfn2w-S",
      "metadata": {
        "colab": {
          "base_uri": "https://localhost:8080/"
        },
        "id": "2jPi6bfn2w-S",
        "outputId": "8c7da67d-a878-43e5-857c-d6c5cc807e17"
      },
      "outputs": [
        {
          "data": {
            "text/plain": [
              "['LogisticRegression.joblib']"
            ]
          },
          "execution_count": 40,
          "metadata": {},
          "output_type": "execute_result"
        }
      ],
      "source": [
        "# dump(lr, 'LogisticRegression.joblib')"
      ]
    },
    {
      "cell_type": "code",
      "execution_count": null,
      "id": "ralst53p3eQX",
      "metadata": {
        "id": "ralst53p3eQX"
      },
      "outputs": [],
      "source": [
        "new_lr = load('/content/LogisticRegression.joblib')"
      ]
    },
    {
      "cell_type": "code",
      "execution_count": null,
      "id": "N4axqmeU3pw6",
      "metadata": {
        "colab": {
          "base_uri": "https://localhost:8080/"
        },
        "id": "N4axqmeU3pw6",
        "outputId": "79a7efcd-e761-460d-d10d-01427aae67c8"
      },
      "outputs": [
        {
          "data": {
            "text/plain": [
              "0.818"
            ]
          },
          "execution_count": 42,
          "metadata": {},
          "output_type": "execute_result"
        }
      ],
      "source": [
        "new_lr.score(x_test,y_test)"
      ]
    },
    {
      "cell_type": "code",
      "execution_count": null,
      "id": "3Uj6-5tR5V_M",
      "metadata": {
        "id": "3Uj6-5tR5V_M"
      },
      "outputs": [],
      "source": [
        "def predict(texts):\n",
        "  result = []\n",
        "  for text in texts:\n",
        "    text_preprocessed = preprocess(text,punctuation_marks_list,stop_words,nlp)\n",
        "    sequenced_text = text_to_sequence(text_preprocessed,word_to_index)\n",
        "    text_bow = vectorize_sequences([sequenced_text])\n",
        "    result.append(lr.predict(text_bow)[0])\n",
        "  return result"
      ]
    },
    {
      "cell_type": "code",
      "execution_count": null,
      "id": "k1x_OLGP6Hex",
      "metadata": {
        "colab": {
          "base_uri": "https://localhost:8080/"
        },
        "id": "k1x_OLGP6Hex",
        "outputId": "f5a9da7b-b330-44ba-fb9e-e0b4e7ae3bc5"
      },
      "outputs": [
        {
          "data": {
            "text/plain": [
              "(array(['pink hole', True, Timestamp('2025-06-06 07:55:45'),\n",
              "        Timestamp('2025-06-06 07:55:45'), 9], dtype=object),\n",
              " array([\"Kernel level anti-cheat IN A PVE ONLY game 60fps cap no ultrawide huge controller deadzones that cannot be adjusted no map legend extreme lack of random elements in a ROUGELIKE  There is a lot of problems with this game, but buying a game that was CLEARLY ADVERTISED to you and complaining it's not the game you WANTED it to be is not one of them.\",\n",
              "        False, Timestamp('2025-05-30 16:11:11'),\n",
              "        Timestamp('2025-05-30 16:11:11'), 347], dtype=object))"
            ]
          },
          "execution_count": 42,
          "metadata": {},
          "output_type": "execute_result"
        }
      ],
      "source": [
        "task1 = reviews_df.sort_values(by='voted_up').values[25000]\n",
        "task2 = reviews_df.sort_values(by='voted_up').values[1000]\n",
        "(task1, task2)"
      ]
    },
    {
      "cell_type": "code",
      "execution_count": null,
      "id": "IVWUCP286qiU",
      "metadata": {
        "colab": {
          "base_uri": "https://localhost:8080/",
          "height": 105
        },
        "id": "IVWUCP286qiU",
        "outputId": "61da2032-0317-4b92-b67a-5a3665b79a63"
      },
      "outputs": [
        {
          "data": {
            "application/vnd.google.colaboratory.intrinsic+json": {
              "type": "string"
            },
            "text/plain": [
              "\"Kernel level anti-cheat IN A PVE ONLY game 60fps cap no ultrawide huge controller deadzones that cannot be adjusted no map legend extreme lack of random elements in a ROUGELIKE  There is a lot of problems with this game, but buying a game that was CLEARLY ADVERTISED to you and complaining it's not the game you WANTED it to be is not one of them.\""
            ]
          },
          "execution_count": 43,
          "metadata": {},
          "output_type": "execute_result"
        }
      ],
      "source": [
        "sentence1 = task1[0]\n",
        "sentence2 = task2[0]\n",
        "sentence2"
      ]
    },
    {
      "cell_type": "code",
      "execution_count": null,
      "id": "kh3-seVS63Ry",
      "metadata": {
        "id": "kh3-seVS63Ry"
      },
      "outputs": [],
      "source": [
        "y_pred = predict(mid_length_df['review'])"
      ]
    },
    {
      "cell_type": "code",
      "execution_count": null,
      "id": "zkC1qjDPMSOJ",
      "metadata": {
        "id": "zkC1qjDPMSOJ"
      },
      "outputs": [],
      "source": [
        "mid_length_df['y_pred'] = y_pred"
      ]
    },
    {
      "cell_type": "code",
      "execution_count": null,
      "id": "zHs4yIG1MfGb",
      "metadata": {
        "id": "zHs4yIG1MfGb"
      },
      "outputs": [],
      "source": [
        "mid_length_df['voted_up'] = mid_length_df['voted_up'].astype(int)"
      ]
    },
    {
      "cell_type": "code",
      "execution_count": null,
      "id": "xPpUit4dMbBF",
      "metadata": {
        "id": "xPpUit4dMbBF"
      },
      "outputs": [],
      "source": [
        "mid_length_df['is_correct'] = mid_length_df['voted_up'] == mid_length_df['y_pred']"
      ]
    },
    {
      "cell_type": "code",
      "execution_count": null,
      "id": "lrndbEPUMxgc",
      "metadata": {
        "colab": {
          "base_uri": "https://localhost:8080/",
          "height": 178
        },
        "id": "lrndbEPUMxgc",
        "outputId": "479f54fc-60a9-4778-9c90-8606a75f6bd8"
      },
      "outputs": [
        {
          "data": {
            "text/html": [
              "<div>\n",
              "<style scoped>\n",
              "    .dataframe tbody tr th:only-of-type {\n",
              "        vertical-align: middle;\n",
              "    }\n",
              "\n",
              "    .dataframe tbody tr th {\n",
              "        vertical-align: top;\n",
              "    }\n",
              "\n",
              "    .dataframe thead th {\n",
              "        text-align: right;\n",
              "    }\n",
              "</style>\n",
              "<table border=\"1\" class=\"dataframe\">\n",
              "  <thead>\n",
              "    <tr style=\"text-align: right;\">\n",
              "      <th></th>\n",
              "      <th>count</th>\n",
              "    </tr>\n",
              "    <tr>\n",
              "      <th>is_correct</th>\n",
              "      <th></th>\n",
              "    </tr>\n",
              "  </thead>\n",
              "  <tbody>\n",
              "    <tr>\n",
              "      <th>True</th>\n",
              "      <td>24222</td>\n",
              "    </tr>\n",
              "    <tr>\n",
              "      <th>False</th>\n",
              "      <td>8570</td>\n",
              "    </tr>\n",
              "  </tbody>\n",
              "</table>\n",
              "</div><br><label><b>dtype:</b> int64</label>"
            ],
            "text/plain": [
              "is_correct\n",
              "True     24222\n",
              "False     8570\n",
              "Name: count, dtype: int64"
            ]
          },
          "execution_count": 50,
          "metadata": {},
          "output_type": "execute_result"
        }
      ],
      "source": [
        "mid_length_df['is_correct'].value_counts()"
      ]
    },
    {
      "cell_type": "code",
      "execution_count": null,
      "id": "-W4OGs4XNHtb",
      "metadata": {
        "colab": {
          "base_uri": "https://localhost:8080/",
          "height": 423
        },
        "id": "-W4OGs4XNHtb",
        "outputId": "7ff10840-9b01-4e7a-c6a7-c781c0f8cc68"
      },
      "outputs": [
        {
          "data": {
            "application/vnd.google.colaboratory.intrinsic+json": {
              "summary": "{\n  \"name\": \"mid_length_df\",\n  \"rows\": 32759,\n  \"fields\": [\n    {\n      \"column\": \"review\",\n      \"properties\": {\n        \"dtype\": \"string\",\n        \"num_unique_values\": 30881,\n        \"samples\": [\n          \"Crabs live inside this game, what is not to love\",\n          \"lhkgvhjllvjhklvhjbk\",\n          \"PinHeadLarry has risen baby girl!!!! these bosses dont stand a chance :3\"\n        ],\n        \"semantic_type\": \"\",\n        \"description\": \"\"\n      }\n    },\n    {\n      \"column\": \"voted_up\",\n      \"properties\": {\n        \"dtype\": \"number\",\n        \"std\": 0,\n        \"min\": 0,\n        \"max\": 1,\n        \"num_unique_values\": 2,\n        \"samples\": [\n          0,\n          1\n        ],\n        \"semantic_type\": \"\",\n        \"description\": \"\"\n      }\n    },\n    {\n      \"column\": \"timestamp_created\",\n      \"properties\": {\n        \"dtype\": \"date\",\n        \"min\": \"2025-05-29 22:07:25\",\n        \"max\": \"2025-08-14 18:18:50\",\n        \"num_unique_values\": 32359,\n        \"samples\": [\n          \"2025-07-04 10:48:05\",\n          \"2025-06-04 20:32:31\"\n        ],\n        \"semantic_type\": \"\",\n        \"description\": \"\"\n      }\n    },\n    {\n      \"column\": \"timestamp_updated\",\n      \"properties\": {\n        \"dtype\": \"date\",\n        \"min\": \"2025-05-29 22:07:25\",\n        \"max\": \"2025-08-14 18:55:51\",\n        \"num_unique_values\": 32409,\n        \"samples\": [\n          \"2025-07-04 20:20:53\",\n          \"2025-06-10 18:02:01\"\n        ],\n        \"semantic_type\": \"\",\n        \"description\": \"\"\n      }\n    },\n    {\n      \"column\": \"length\",\n      \"properties\": {\n        \"dtype\": \"number\",\n        \"std\": 24,\n        \"min\": 11,\n        \"max\": 99,\n        \"num_unique_values\": 89,\n        \"samples\": [\n          54,\n          62\n        ],\n        \"semantic_type\": \"\",\n        \"description\": \"\"\n      }\n    },\n    {\n      \"column\": \"y_pred\",\n      \"properties\": {\n        \"dtype\": \"number\",\n        \"std\": 0,\n        \"min\": 0,\n        \"max\": 1,\n        \"num_unique_values\": 2,\n        \"samples\": [\n          1,\n          0\n        ],\n        \"semantic_type\": \"\",\n        \"description\": \"\"\n      }\n    },\n    {\n      \"column\": \"is_correct\",\n      \"properties\": {\n        \"dtype\": \"boolean\",\n        \"num_unique_values\": 2,\n        \"samples\": [\n          true,\n          false\n        ],\n        \"semantic_type\": \"\",\n        \"description\": \"\"\n      }\n    }\n  ]\n}",
              "type": "dataframe",
              "variable_name": "mid_length_df"
            },
            "text/html": [
              "\n",
              "  <div id=\"df-8dac42ac-240d-4b91-99e3-d0de033573ec\" class=\"colab-df-container\">\n",
              "    <div>\n",
              "<style scoped>\n",
              "    .dataframe tbody tr th:only-of-type {\n",
              "        vertical-align: middle;\n",
              "    }\n",
              "\n",
              "    .dataframe tbody tr th {\n",
              "        vertical-align: top;\n",
              "    }\n",
              "\n",
              "    .dataframe thead th {\n",
              "        text-align: right;\n",
              "    }\n",
              "</style>\n",
              "<table border=\"1\" class=\"dataframe\">\n",
              "  <thead>\n",
              "    <tr style=\"text-align: right;\">\n",
              "      <th></th>\n",
              "      <th>review</th>\n",
              "      <th>voted_up</th>\n",
              "      <th>timestamp_created</th>\n",
              "      <th>timestamp_updated</th>\n",
              "      <th>length</th>\n",
              "      <th>y_pred</th>\n",
              "      <th>is_correct</th>\n",
              "    </tr>\n",
              "  </thead>\n",
              "  <tbody>\n",
              "    <tr>\n",
              "      <th>2</th>\n",
              "      <td>add duo/communication and cross play and it wi...</td>\n",
              "      <td>1</td>\n",
              "      <td>2025-05-31 08:39:14</td>\n",
              "      <td>2025-05-31 08:39:14</td>\n",
              "      <td>59</td>\n",
              "      <td>0</td>\n",
              "      <td>False</td>\n",
              "    </tr>\n",
              "    <tr>\n",
              "      <th>6</th>\n",
              "      <td>Very fun game just wish there was a better sea...</td>\n",
              "      <td>1</td>\n",
              "      <td>2025-07-20 03:48:51</td>\n",
              "      <td>2025-07-20 03:48:51</td>\n",
              "      <td>69</td>\n",
              "      <td>1</td>\n",
              "      <td>True</td>\n",
              "    </tr>\n",
              "    <tr>\n",
              "      <th>15</th>\n",
              "      <td>i like this game but they should add kissing o...</td>\n",
              "      <td>1</td>\n",
              "      <td>2025-07-08 15:19:44</td>\n",
              "      <td>2025-07-08 15:19:44</td>\n",
              "      <td>91</td>\n",
              "      <td>0</td>\n",
              "      <td>False</td>\n",
              "    </tr>\n",
              "    <tr>\n",
              "      <th>16</th>\n",
              "      <td>amazing game but add more maps or something li...</td>\n",
              "      <td>1</td>\n",
              "      <td>2025-06-01 19:41:58</td>\n",
              "      <td>2025-06-01 19:41:58</td>\n",
              "      <td>76</td>\n",
              "      <td>1</td>\n",
              "      <td>True</td>\n",
              "    </tr>\n",
              "    <tr>\n",
              "      <th>21</th>\n",
              "      <td>After playing it for a bit and getting a bette...</td>\n",
              "      <td>1</td>\n",
              "      <td>2025-06-03 00:37:24</td>\n",
              "      <td>2025-06-03 00:37:24</td>\n",
              "      <td>80</td>\n",
              "      <td>1</td>\n",
              "      <td>True</td>\n",
              "    </tr>\n",
              "    <tr>\n",
              "      <th>...</th>\n",
              "      <td>...</td>\n",
              "      <td>...</td>\n",
              "      <td>...</td>\n",
              "      <td>...</td>\n",
              "      <td>...</td>\n",
              "      <td>...</td>\n",
              "      <td>...</td>\n",
              "    </tr>\n",
              "    <tr>\n",
              "      <th>113761</th>\n",
              "      <td>Seamless Coop: Prepare to Pay Edition</td>\n",
              "      <td>1</td>\n",
              "      <td>2025-05-29 22:24:57</td>\n",
              "      <td>2025-05-29 22:24:57</td>\n",
              "      <td>37</td>\n",
              "      <td>0</td>\n",
              "      <td>False</td>\n",
              "    </tr>\n",
              "    <tr>\n",
              "      <th>113768</th>\n",
              "      <td>ez ahh game on jah frfr i be playin an gamin t...</td>\n",
              "      <td>1</td>\n",
              "      <td>2025-08-09 02:45:34</td>\n",
              "      <td>2025-08-09 02:45:34</td>\n",
              "      <td>66</td>\n",
              "      <td>0</td>\n",
              "      <td>False</td>\n",
              "    </tr>\n",
              "    <tr>\n",
              "      <th>113785</th>\n",
              "      <td>Try finger but no hole :( Only Night but rain</td>\n",
              "      <td>1</td>\n",
              "      <td>2025-08-12 08:14:14</td>\n",
              "      <td>2025-08-12 08:14:14</td>\n",
              "      <td>45</td>\n",
              "      <td>1</td>\n",
              "      <td>True</td>\n",
              "    </tr>\n",
              "    <tr>\n",
              "      <th>113801</th>\n",
              "      <td>It's no Elden Ring but it's still Elden Ring.</td>\n",
              "      <td>1</td>\n",
              "      <td>2025-06-11 04:33:47</td>\n",
              "      <td>2025-06-11 04:33:47</td>\n",
              "      <td>45</td>\n",
              "      <td>1</td>\n",
              "      <td>True</td>\n",
              "    </tr>\n",
              "    <tr>\n",
              "      <th>116619</th>\n",
              "      <td>good game crashes alot tho</td>\n",
              "      <td>1</td>\n",
              "      <td>2025-06-19 20:03:24</td>\n",
              "      <td>2025-06-19 20:03:24</td>\n",
              "      <td>26</td>\n",
              "      <td>1</td>\n",
              "      <td>True</td>\n",
              "    </tr>\n",
              "  </tbody>\n",
              "</table>\n",
              "<p>32759 rows × 7 columns</p>\n",
              "</div>\n",
              "    <div class=\"colab-df-buttons\">\n",
              "\n",
              "  <div class=\"colab-df-container\">\n",
              "    <button class=\"colab-df-convert\" onclick=\"convertToInteractive('df-8dac42ac-240d-4b91-99e3-d0de033573ec')\"\n",
              "            title=\"Convert this dataframe to an interactive table.\"\n",
              "            style=\"display:none;\">\n",
              "\n",
              "  <svg xmlns=\"http://www.w3.org/2000/svg\" height=\"24px\" viewBox=\"0 -960 960 960\">\n",
              "    <path d=\"M120-120v-720h720v720H120Zm60-500h600v-160H180v160Zm220 220h160v-160H400v160Zm0 220h160v-160H400v160ZM180-400h160v-160H180v160Zm440 0h160v-160H620v160ZM180-180h160v-160H180v160Zm440 0h160v-160H620v160Z\"/>\n",
              "  </svg>\n",
              "    </button>\n",
              "\n",
              "  <style>\n",
              "    .colab-df-container {\n",
              "      display:flex;\n",
              "      gap: 12px;\n",
              "    }\n",
              "\n",
              "    .colab-df-convert {\n",
              "      background-color: #E8F0FE;\n",
              "      border: none;\n",
              "      border-radius: 50%;\n",
              "      cursor: pointer;\n",
              "      display: none;\n",
              "      fill: #1967D2;\n",
              "      height: 32px;\n",
              "      padding: 0 0 0 0;\n",
              "      width: 32px;\n",
              "    }\n",
              "\n",
              "    .colab-df-convert:hover {\n",
              "      background-color: #E2EBFA;\n",
              "      box-shadow: 0px 1px 2px rgba(60, 64, 67, 0.3), 0px 1px 3px 1px rgba(60, 64, 67, 0.15);\n",
              "      fill: #174EA6;\n",
              "    }\n",
              "\n",
              "    .colab-df-buttons div {\n",
              "      margin-bottom: 4px;\n",
              "    }\n",
              "\n",
              "    [theme=dark] .colab-df-convert {\n",
              "      background-color: #3B4455;\n",
              "      fill: #D2E3FC;\n",
              "    }\n",
              "\n",
              "    [theme=dark] .colab-df-convert:hover {\n",
              "      background-color: #434B5C;\n",
              "      box-shadow: 0px 1px 3px 1px rgba(0, 0, 0, 0.15);\n",
              "      filter: drop-shadow(0px 1px 2px rgba(0, 0, 0, 0.3));\n",
              "      fill: #FFFFFF;\n",
              "    }\n",
              "  </style>\n",
              "\n",
              "    <script>\n",
              "      const buttonEl =\n",
              "        document.querySelector('#df-8dac42ac-240d-4b91-99e3-d0de033573ec button.colab-df-convert');\n",
              "      buttonEl.style.display =\n",
              "        google.colab.kernel.accessAllowed ? 'block' : 'none';\n",
              "\n",
              "      async function convertToInteractive(key) {\n",
              "        const element = document.querySelector('#df-8dac42ac-240d-4b91-99e3-d0de033573ec');\n",
              "        const dataTable =\n",
              "          await google.colab.kernel.invokeFunction('convertToInteractive',\n",
              "                                                    [key], {});\n",
              "        if (!dataTable) return;\n",
              "\n",
              "        const docLinkHtml = 'Like what you see? Visit the ' +\n",
              "          '<a target=\"_blank\" href=https://colab.research.google.com/notebooks/data_table.ipynb>data table notebook</a>'\n",
              "          + ' to learn more about interactive tables.';\n",
              "        element.innerHTML = '';\n",
              "        dataTable['output_type'] = 'display_data';\n",
              "        await google.colab.output.renderOutput(dataTable, element);\n",
              "        const docLink = document.createElement('div');\n",
              "        docLink.innerHTML = docLinkHtml;\n",
              "        element.appendChild(docLink);\n",
              "      }\n",
              "    </script>\n",
              "  </div>\n",
              "\n",
              "\n",
              "    <div id=\"df-a8406f71-9432-4301-b73b-ab1fbff4229d\">\n",
              "      <button class=\"colab-df-quickchart\" onclick=\"quickchart('df-a8406f71-9432-4301-b73b-ab1fbff4229d')\"\n",
              "                title=\"Suggest charts\"\n",
              "                style=\"display:none;\">\n",
              "\n",
              "<svg xmlns=\"http://www.w3.org/2000/svg\" height=\"24px\"viewBox=\"0 0 24 24\"\n",
              "     width=\"24px\">\n",
              "    <g>\n",
              "        <path d=\"M19 3H5c-1.1 0-2 .9-2 2v14c0 1.1.9 2 2 2h14c1.1 0 2-.9 2-2V5c0-1.1-.9-2-2-2zM9 17H7v-7h2v7zm4 0h-2V7h2v10zm4 0h-2v-4h2v4z\"/>\n",
              "    </g>\n",
              "</svg>\n",
              "      </button>\n",
              "\n",
              "<style>\n",
              "  .colab-df-quickchart {\n",
              "      --bg-color: #E8F0FE;\n",
              "      --fill-color: #1967D2;\n",
              "      --hover-bg-color: #E2EBFA;\n",
              "      --hover-fill-color: #174EA6;\n",
              "      --disabled-fill-color: #AAA;\n",
              "      --disabled-bg-color: #DDD;\n",
              "  }\n",
              "\n",
              "  [theme=dark] .colab-df-quickchart {\n",
              "      --bg-color: #3B4455;\n",
              "      --fill-color: #D2E3FC;\n",
              "      --hover-bg-color: #434B5C;\n",
              "      --hover-fill-color: #FFFFFF;\n",
              "      --disabled-bg-color: #3B4455;\n",
              "      --disabled-fill-color: #666;\n",
              "  }\n",
              "\n",
              "  .colab-df-quickchart {\n",
              "    background-color: var(--bg-color);\n",
              "    border: none;\n",
              "    border-radius: 50%;\n",
              "    cursor: pointer;\n",
              "    display: none;\n",
              "    fill: var(--fill-color);\n",
              "    height: 32px;\n",
              "    padding: 0;\n",
              "    width: 32px;\n",
              "  }\n",
              "\n",
              "  .colab-df-quickchart:hover {\n",
              "    background-color: var(--hover-bg-color);\n",
              "    box-shadow: 0 1px 2px rgba(60, 64, 67, 0.3), 0 1px 3px 1px rgba(60, 64, 67, 0.15);\n",
              "    fill: var(--button-hover-fill-color);\n",
              "  }\n",
              "\n",
              "  .colab-df-quickchart-complete:disabled,\n",
              "  .colab-df-quickchart-complete:disabled:hover {\n",
              "    background-color: var(--disabled-bg-color);\n",
              "    fill: var(--disabled-fill-color);\n",
              "    box-shadow: none;\n",
              "  }\n",
              "\n",
              "  .colab-df-spinner {\n",
              "    border: 2px solid var(--fill-color);\n",
              "    border-color: transparent;\n",
              "    border-bottom-color: var(--fill-color);\n",
              "    animation:\n",
              "      spin 1s steps(1) infinite;\n",
              "  }\n",
              "\n",
              "  @keyframes spin {\n",
              "    0% {\n",
              "      border-color: transparent;\n",
              "      border-bottom-color: var(--fill-color);\n",
              "      border-left-color: var(--fill-color);\n",
              "    }\n",
              "    20% {\n",
              "      border-color: transparent;\n",
              "      border-left-color: var(--fill-color);\n",
              "      border-top-color: var(--fill-color);\n",
              "    }\n",
              "    30% {\n",
              "      border-color: transparent;\n",
              "      border-left-color: var(--fill-color);\n",
              "      border-top-color: var(--fill-color);\n",
              "      border-right-color: var(--fill-color);\n",
              "    }\n",
              "    40% {\n",
              "      border-color: transparent;\n",
              "      border-right-color: var(--fill-color);\n",
              "      border-top-color: var(--fill-color);\n",
              "    }\n",
              "    60% {\n",
              "      border-color: transparent;\n",
              "      border-right-color: var(--fill-color);\n",
              "    }\n",
              "    80% {\n",
              "      border-color: transparent;\n",
              "      border-right-color: var(--fill-color);\n",
              "      border-bottom-color: var(--fill-color);\n",
              "    }\n",
              "    90% {\n",
              "      border-color: transparent;\n",
              "      border-bottom-color: var(--fill-color);\n",
              "    }\n",
              "  }\n",
              "</style>\n",
              "\n",
              "      <script>\n",
              "        async function quickchart(key) {\n",
              "          const quickchartButtonEl =\n",
              "            document.querySelector('#' + key + ' button');\n",
              "          quickchartButtonEl.disabled = true;  // To prevent multiple clicks.\n",
              "          quickchartButtonEl.classList.add('colab-df-spinner');\n",
              "          try {\n",
              "            const charts = await google.colab.kernel.invokeFunction(\n",
              "                'suggestCharts', [key], {});\n",
              "          } catch (error) {\n",
              "            console.error('Error during call to suggestCharts:', error);\n",
              "          }\n",
              "          quickchartButtonEl.classList.remove('colab-df-spinner');\n",
              "          quickchartButtonEl.classList.add('colab-df-quickchart-complete');\n",
              "        }\n",
              "        (() => {\n",
              "          let quickchartButtonEl =\n",
              "            document.querySelector('#df-a8406f71-9432-4301-b73b-ab1fbff4229d button');\n",
              "          quickchartButtonEl.style.display =\n",
              "            google.colab.kernel.accessAllowed ? 'block' : 'none';\n",
              "        })();\n",
              "      </script>\n",
              "    </div>\n",
              "    </div>\n",
              "  </div>\n"
            ],
            "text/plain": [
              "                                                   review  voted_up  \\\n",
              "2       add duo/communication and cross play and it wi...         1   \n",
              "6       Very fun game just wish there was a better sea...         1   \n",
              "15      i like this game but they should add kissing o...         1   \n",
              "16      amazing game but add more maps or something li...         1   \n",
              "21      After playing it for a bit and getting a bette...         1   \n",
              "...                                                   ...       ...   \n",
              "113761              Seamless Coop: Prepare to Pay Edition         1   \n",
              "113768  ez ahh game on jah frfr i be playin an gamin t...         1   \n",
              "113785      Try finger but no hole :( Only Night but rain         1   \n",
              "113801      It's no Elden Ring but it's still Elden Ring.         1   \n",
              "116619                         good game crashes alot tho         1   \n",
              "\n",
              "         timestamp_created   timestamp_updated  length  y_pred  is_correct  \n",
              "2      2025-05-31 08:39:14 2025-05-31 08:39:14      59       0       False  \n",
              "6      2025-07-20 03:48:51 2025-07-20 03:48:51      69       1        True  \n",
              "15     2025-07-08 15:19:44 2025-07-08 15:19:44      91       0       False  \n",
              "16     2025-06-01 19:41:58 2025-06-01 19:41:58      76       1        True  \n",
              "21     2025-06-03 00:37:24 2025-06-03 00:37:24      80       1        True  \n",
              "...                    ...                 ...     ...     ...         ...  \n",
              "113761 2025-05-29 22:24:57 2025-05-29 22:24:57      37       0       False  \n",
              "113768 2025-08-09 02:45:34 2025-08-09 02:45:34      66       0       False  \n",
              "113785 2025-08-12 08:14:14 2025-08-12 08:14:14      45       1        True  \n",
              "113801 2025-06-11 04:33:47 2025-06-11 04:33:47      45       1        True  \n",
              "116619 2025-06-19 20:03:24 2025-06-19 20:03:24      26       1        True  \n",
              "\n",
              "[32759 rows x 7 columns]"
            ]
          },
          "execution_count": 51,
          "metadata": {},
          "output_type": "execute_result"
        }
      ],
      "source": [
        "mid_length_df"
      ]
    },
    {
      "cell_type": "code",
      "execution_count": null,
      "id": "oox63sdIek3X",
      "metadata": {
        "colab": {
          "base_uri": "https://localhost:8080/"
        },
        "id": "oox63sdIek3X",
        "outputId": "2665e307-04e6-4fc8-f64d-bba9fc7dcbf4"
      },
      "outputs": [
        {
          "name": "stdout",
          "output_type": "stream",
          "text": [
            "Загружено отзывов: 50000\n"
          ]
        }
      ],
      "source": [
        "appid = '1245620'\n",
        "eldenRing_df = get_reviews(appid, num_reviews=50000)\n",
        "print(f\"Загружено отзывов: {len(eldenRing_df)}\")\n",
        "eldenRing_df.to_csv(f\"steam_reviews_{appid}.csv\", index=False)"
      ]
    },
    {
      "cell_type": "code",
      "execution_count": null,
      "id": "BHHvlwQEe3Xj",
      "metadata": {
        "colab": {
          "base_uri": "https://localhost:8080/"
        },
        "id": "BHHvlwQEe3Xj",
        "outputId": "91eed5a7-899e-4ba9-c34d-d3d206b706f9"
      },
      "outputs": [
        {
          "name": "stdout",
          "output_type": "stream",
          "text": [
            "Загружено отзывов: 50000\n"
          ]
        }
      ],
      "source": [
        "appid = '2778580'\n",
        "eldenRingDLC_df = get_reviews(appid, num_reviews=50000)\n",
        "print(f\"Загружено отзывов: {len(eldenRingDLC_df)}\")\n",
        "eldenRingDLC_df.to_csv(f\"steam_reviews_{appid}.csv\", index=False)"
      ]
    },
    {
      "cell_type": "code",
      "execution_count": null,
      "id": "6yJHJk6XEW8g",
      "metadata": {
        "id": "6yJHJk6XEW8g"
      },
      "outputs": [],
      "source": [
        "eldenRingDLC_df['length'] = eldenRingDLC_df['review'].apply(lambda x: len(x))\n",
        "eldenRingDLC_mid_df = eldenRingDLC_df[(eldenRingDLC_df['length'] > 10) & (eldenRingDLC_df['length'] < 100)]\n",
        "\n",
        "eldenRing_df['length'] = eldenRing_df['review'].apply(lambda x: len(x))\n",
        "eldenRing_mid_df = eldenRing_df[(eldenRing_df['length'] > 10) & (eldenRing_df['length'] < 100)]\n"
      ]
    },
    {
      "cell_type": "code",
      "execution_count": null,
      "id": "1t9jJx-BFDp-",
      "metadata": {
        "colab": {
          "base_uri": "https://localhost:8080/",
          "height": 178
        },
        "id": "1t9jJx-BFDp-",
        "outputId": "23956083-5465-4402-d37f-d903e25186b9"
      },
      "outputs": [
        {
          "data": {
            "text/html": [
              "<div>\n",
              "<style scoped>\n",
              "    .dataframe tbody tr th:only-of-type {\n",
              "        vertical-align: middle;\n",
              "    }\n",
              "\n",
              "    .dataframe tbody tr th {\n",
              "        vertical-align: top;\n",
              "    }\n",
              "\n",
              "    .dataframe thead th {\n",
              "        text-align: right;\n",
              "    }\n",
              "</style>\n",
              "<table border=\"1\" class=\"dataframe\">\n",
              "  <thead>\n",
              "    <tr style=\"text-align: right;\">\n",
              "      <th></th>\n",
              "      <th>count</th>\n",
              "    </tr>\n",
              "    <tr>\n",
              "      <th>voted_up</th>\n",
              "      <th></th>\n",
              "    </tr>\n",
              "  </thead>\n",
              "  <tbody>\n",
              "    <tr>\n",
              "      <th>True</th>\n",
              "      <td>27831</td>\n",
              "    </tr>\n",
              "    <tr>\n",
              "      <th>False</th>\n",
              "      <td>1397</td>\n",
              "    </tr>\n",
              "  </tbody>\n",
              "</table>\n",
              "</div><br><label><b>dtype:</b> int64</label>"
            ],
            "text/plain": [
              "voted_up\n",
              "True     27831\n",
              "False     1397\n",
              "Name: count, dtype: int64"
            ]
          },
          "execution_count": 57,
          "metadata": {},
          "output_type": "execute_result"
        }
      ],
      "source": [
        "eldenRing_mid_df['voted_up'].value_counts()"
      ]
    },
    {
      "cell_type": "code",
      "execution_count": null,
      "id": "rNEsro1_FA3u",
      "metadata": {
        "colab": {
          "base_uri": "https://localhost:8080/",
          "height": 178
        },
        "id": "rNEsro1_FA3u",
        "outputId": "00288b5f-c495-4910-f609-42ba7888461a"
      },
      "outputs": [
        {
          "data": {
            "text/html": [
              "<div>\n",
              "<style scoped>\n",
              "    .dataframe tbody tr th:only-of-type {\n",
              "        vertical-align: middle;\n",
              "    }\n",
              "\n",
              "    .dataframe tbody tr th {\n",
              "        vertical-align: top;\n",
              "    }\n",
              "\n",
              "    .dataframe thead th {\n",
              "        text-align: right;\n",
              "    }\n",
              "</style>\n",
              "<table border=\"1\" class=\"dataframe\">\n",
              "  <thead>\n",
              "    <tr style=\"text-align: right;\">\n",
              "      <th></th>\n",
              "      <th>count</th>\n",
              "    </tr>\n",
              "    <tr>\n",
              "      <th>voted_up</th>\n",
              "      <th></th>\n",
              "    </tr>\n",
              "  </thead>\n",
              "  <tbody>\n",
              "    <tr>\n",
              "      <th>True</th>\n",
              "      <td>14918</td>\n",
              "    </tr>\n",
              "    <tr>\n",
              "      <th>False</th>\n",
              "      <td>3063</td>\n",
              "    </tr>\n",
              "  </tbody>\n",
              "</table>\n",
              "</div><br><label><b>dtype:</b> int64</label>"
            ],
            "text/plain": [
              "voted_up\n",
              "True     14918\n",
              "False     3063\n",
              "Name: count, dtype: int64"
            ]
          },
          "execution_count": 58,
          "metadata": {},
          "output_type": "execute_result"
        }
      ],
      "source": [
        "eldenRingDLC_mid_df['voted_up'].value_counts()"
      ]
    },
    {
      "cell_type": "code",
      "execution_count": null,
      "id": "5v3PVje1FT9S",
      "metadata": {
        "colab": {
          "base_uri": "https://localhost:8080/"
        },
        "id": "5v3PVje1FT9S",
        "outputId": "6091c5f1-cc6e-4eeb-8329-a60377bddf03"
      },
      "outputs": [
        {
          "name": "stderr",
          "output_type": "stream",
          "text": [
            "/tmp/ipython-input-2059683492.py:1: SettingWithCopyWarning: \n",
            "A value is trying to be set on a copy of a slice from a DataFrame.\n",
            "Try using .loc[row_indexer,col_indexer] = value instead\n",
            "\n",
            "See the caveats in the documentation: https://pandas.pydata.org/pandas-docs/stable/user_guide/indexing.html#returning-a-view-versus-a-copy\n",
            "  eldenRingDLC_mid_df['predict'] = predict(eldenRingDLC_mid_df['review'])\n"
          ]
        }
      ],
      "source": [
        "eldenRingDLC_mid_df['predict'] = predict(eldenRingDLC_mid_df['review'])"
      ]
    },
    {
      "cell_type": "code",
      "execution_count": null,
      "id": "O2IvSe8zIX7D",
      "metadata": {
        "colab": {
          "base_uri": "https://localhost:8080/"
        },
        "id": "O2IvSe8zIX7D",
        "outputId": "780b8fb0-d0b8-4c66-e1bd-5b8b354dc78f"
      },
      "outputs": [
        {
          "name": "stderr",
          "output_type": "stream",
          "text": [
            "/tmp/ipython-input-2400257903.py:1: SettingWithCopyWarning: \n",
            "A value is trying to be set on a copy of a slice from a DataFrame.\n",
            "Try using .loc[row_indexer,col_indexer] = value instead\n",
            "\n",
            "See the caveats in the documentation: https://pandas.pydata.org/pandas-docs/stable/user_guide/indexing.html#returning-a-view-versus-a-copy\n",
            "  eldenRingDLC_mid_df['voted_up'] = eldenRingDLC_mid_df['voted_up'].astype(int)\n"
          ]
        }
      ],
      "source": [
        "eldenRingDLC_mid_df['voted_up'] = eldenRingDLC_mid_df['voted_up'].astype(int)"
      ]
    },
    {
      "cell_type": "code",
      "execution_count": null,
      "id": "7CRD4uj9Im5G",
      "metadata": {
        "colab": {
          "base_uri": "https://localhost:8080/"
        },
        "id": "7CRD4uj9Im5G",
        "outputId": "54db47aa-e9ff-496b-e7ad-7bc208d55d29"
      },
      "outputs": [
        {
          "name": "stderr",
          "output_type": "stream",
          "text": [
            "/tmp/ipython-input-1070585697.py:1: SettingWithCopyWarning: \n",
            "A value is trying to be set on a copy of a slice from a DataFrame.\n",
            "Try using .loc[row_indexer,col_indexer] = value instead\n",
            "\n",
            "See the caveats in the documentation: https://pandas.pydata.org/pandas-docs/stable/user_guide/indexing.html#returning-a-view-versus-a-copy\n",
            "  eldenRingDLC_mid_df['is_correct'] = eldenRingDLC_mid_df['voted_up'] == eldenRingDLC_mid_df['predict']\n"
          ]
        }
      ],
      "source": [
        "eldenRingDLC_mid_df['is_correct'] = eldenRingDLC_mid_df['voted_up'] == eldenRingDLC_mid_df['predict']"
      ]
    },
    {
      "cell_type": "code",
      "execution_count": null,
      "id": "PP7tZXi0I7qG",
      "metadata": {
        "colab": {
          "base_uri": "https://localhost:8080/",
          "height": 178
        },
        "id": "PP7tZXi0I7qG",
        "outputId": "54f38131-446e-466e-c683-f5c65800a151"
      },
      "outputs": [
        {
          "data": {
            "text/html": [
              "<div>\n",
              "<style scoped>\n",
              "    .dataframe tbody tr th:only-of-type {\n",
              "        vertical-align: middle;\n",
              "    }\n",
              "\n",
              "    .dataframe tbody tr th {\n",
              "        vertical-align: top;\n",
              "    }\n",
              "\n",
              "    .dataframe thead th {\n",
              "        text-align: right;\n",
              "    }\n",
              "</style>\n",
              "<table border=\"1\" class=\"dataframe\">\n",
              "  <thead>\n",
              "    <tr style=\"text-align: right;\">\n",
              "      <th></th>\n",
              "      <th>count</th>\n",
              "    </tr>\n",
              "    <tr>\n",
              "      <th>is_correct</th>\n",
              "      <th></th>\n",
              "    </tr>\n",
              "  </thead>\n",
              "  <tbody>\n",
              "    <tr>\n",
              "      <th>True</th>\n",
              "      <td>12070</td>\n",
              "    </tr>\n",
              "    <tr>\n",
              "      <th>False</th>\n",
              "      <td>5911</td>\n",
              "    </tr>\n",
              "  </tbody>\n",
              "</table>\n",
              "</div><br><label><b>dtype:</b> int64</label>"
            ],
            "text/plain": [
              "is_correct\n",
              "True     12070\n",
              "False     5911\n",
              "Name: count, dtype: int64"
            ]
          },
          "execution_count": 63,
          "metadata": {},
          "output_type": "execute_result"
        }
      ],
      "source": [
        "eldenRingDLC_mid_df['is_correct'].value_counts()"
      ]
    },
    {
      "cell_type": "code",
      "execution_count": null,
      "id": "9Wz458nKJVi-",
      "metadata": {
        "id": "9Wz458nKJVi-"
      },
      "outputs": [],
      "source": [
        "eldenRing_df['length'] = eldenRing_df['review'].apply(lambda x: len(x)).copy()\n",
        "eldenRing_mid_df = eldenRing_df[(eldenRing_df['length'] > 10) & (eldenRing_df['length'] < 100)]"
      ]
    },
    {
      "cell_type": "code",
      "execution_count": null,
      "id": "dQaQEAxEJhxB",
      "metadata": {
        "colab": {
          "base_uri": "https://localhost:8080/"
        },
        "id": "dQaQEAxEJhxB",
        "outputId": "cc09569d-d3f1-463a-81c3-1b5b5158b2c2"
      },
      "outputs": [
        {
          "name": "stderr",
          "output_type": "stream",
          "text": [
            "/tmp/ipython-input-604209310.py:1: SettingWithCopyWarning: \n",
            "A value is trying to be set on a copy of a slice from a DataFrame.\n",
            "Try using .loc[row_indexer,col_indexer] = value instead\n",
            "\n",
            "See the caveats in the documentation: https://pandas.pydata.org/pandas-docs/stable/user_guide/indexing.html#returning-a-view-versus-a-copy\n",
            "  eldenRing_mid_df['predict'] = predict(eldenRing_mid_df['review'])\n"
          ]
        }
      ],
      "source": [
        "eldenRing_mid_df['predict'] = predict(eldenRing_mid_df['review'])"
      ]
    },
    {
      "cell_type": "code",
      "execution_count": null,
      "id": "wn1n1rcYNwJq",
      "metadata": {
        "colab": {
          "base_uri": "https://localhost:8080/"
        },
        "id": "wn1n1rcYNwJq",
        "outputId": "62aa5f70-4375-46d7-ea23-be64d6d96717"
      },
      "outputs": [
        {
          "name": "stderr",
          "output_type": "stream",
          "text": [
            "/tmp/ipython-input-135707100.py:1: SettingWithCopyWarning: \n",
            "A value is trying to be set on a copy of a slice from a DataFrame.\n",
            "Try using .loc[row_indexer,col_indexer] = value instead\n",
            "\n",
            "See the caveats in the documentation: https://pandas.pydata.org/pandas-docs/stable/user_guide/indexing.html#returning-a-view-versus-a-copy\n",
            "  eldenRing_mid_df['voted_up'] = eldenRing_mid_df['voted_up'].astype(int)\n"
          ]
        }
      ],
      "source": [
        "eldenRing_mid_df['voted_up'] = eldenRing_mid_df['voted_up'].astype(int)"
      ]
    },
    {
      "cell_type": "code",
      "execution_count": null,
      "id": "1krpqgwBN6wz",
      "metadata": {
        "colab": {
          "base_uri": "https://localhost:8080/"
        },
        "id": "1krpqgwBN6wz",
        "outputId": "5338b6a1-b7a2-4de3-c507-e35fc7a5fb41"
      },
      "outputs": [
        {
          "name": "stderr",
          "output_type": "stream",
          "text": [
            "/tmp/ipython-input-1626554650.py:1: SettingWithCopyWarning: \n",
            "A value is trying to be set on a copy of a slice from a DataFrame.\n",
            "Try using .loc[row_indexer,col_indexer] = value instead\n",
            "\n",
            "See the caveats in the documentation: https://pandas.pydata.org/pandas-docs/stable/user_guide/indexing.html#returning-a-view-versus-a-copy\n",
            "  eldenRing_mid_df['is_correct'] = eldenRing_mid_df['voted_up'] == eldenRing_mid_df['predict']\n"
          ]
        }
      ],
      "source": [
        "eldenRing_mid_df['is_correct'] = eldenRing_mid_df['voted_up'] == eldenRing_mid_df['predict']"
      ]
    },
    {
      "cell_type": "code",
      "execution_count": null,
      "id": "UXcKGIpmOBQB",
      "metadata": {
        "colab": {
          "base_uri": "https://localhost:8080/",
          "height": 178
        },
        "id": "UXcKGIpmOBQB",
        "outputId": "b6fb14af-62d4-45ac-ef84-60b454e43c9e"
      },
      "outputs": [
        {
          "data": {
            "text/html": [
              "<div>\n",
              "<style scoped>\n",
              "    .dataframe tbody tr th:only-of-type {\n",
              "        vertical-align: middle;\n",
              "    }\n",
              "\n",
              "    .dataframe tbody tr th {\n",
              "        vertical-align: top;\n",
              "    }\n",
              "\n",
              "    .dataframe thead th {\n",
              "        text-align: right;\n",
              "    }\n",
              "</style>\n",
              "<table border=\"1\" class=\"dataframe\">\n",
              "  <thead>\n",
              "    <tr style=\"text-align: right;\">\n",
              "      <th></th>\n",
              "      <th>count</th>\n",
              "    </tr>\n",
              "    <tr>\n",
              "      <th>is_correct</th>\n",
              "      <th></th>\n",
              "    </tr>\n",
              "  </thead>\n",
              "  <tbody>\n",
              "    <tr>\n",
              "      <th>True</th>\n",
              "      <td>19692</td>\n",
              "    </tr>\n",
              "    <tr>\n",
              "      <th>False</th>\n",
              "      <td>9536</td>\n",
              "    </tr>\n",
              "  </tbody>\n",
              "</table>\n",
              "</div><br><label><b>dtype:</b> int64</label>"
            ],
            "text/plain": [
              "is_correct\n",
              "True     19692\n",
              "False     9536\n",
              "Name: count, dtype: int64"
            ]
          },
          "execution_count": 68,
          "metadata": {},
          "output_type": "execute_result"
        }
      ],
      "source": [
        "eldenRing_mid_df['is_correct'].value_counts()"
      ]
    },
    {
      "cell_type": "code",
      "execution_count": null,
      "id": "BBsyGt0QOGod",
      "metadata": {
        "colab": {
          "base_uri": "https://localhost:8080/",
          "height": 241
        },
        "id": "BBsyGt0QOGod",
        "outputId": "525510ac-a51a-4b2b-ad06-c3cb092655f4"
      },
      "outputs": [
        {
          "data": {
            "text/html": [
              "<div>\n",
              "<style scoped>\n",
              "    .dataframe tbody tr th:only-of-type {\n",
              "        vertical-align: middle;\n",
              "    }\n",
              "\n",
              "    .dataframe tbody tr th {\n",
              "        vertical-align: top;\n",
              "    }\n",
              "\n",
              "    .dataframe thead th {\n",
              "        text-align: right;\n",
              "    }\n",
              "</style>\n",
              "<table border=\"1\" class=\"dataframe\">\n",
              "  <thead>\n",
              "    <tr style=\"text-align: right;\">\n",
              "      <th></th>\n",
              "      <th></th>\n",
              "      <th>count</th>\n",
              "    </tr>\n",
              "    <tr>\n",
              "      <th>is_correct</th>\n",
              "      <th>predict</th>\n",
              "      <th></th>\n",
              "    </tr>\n",
              "  </thead>\n",
              "  <tbody>\n",
              "    <tr>\n",
              "      <th rowspan=\"2\" valign=\"top\">False</th>\n",
              "      <th>0</th>\n",
              "      <td>9227</td>\n",
              "    </tr>\n",
              "    <tr>\n",
              "      <th>1</th>\n",
              "      <td>309</td>\n",
              "    </tr>\n",
              "    <tr>\n",
              "      <th rowspan=\"2\" valign=\"top\">True</th>\n",
              "      <th>1</th>\n",
              "      <td>18604</td>\n",
              "    </tr>\n",
              "    <tr>\n",
              "      <th>0</th>\n",
              "      <td>1088</td>\n",
              "    </tr>\n",
              "  </tbody>\n",
              "</table>\n",
              "</div><br><label><b>dtype:</b> int64</label>"
            ],
            "text/plain": [
              "is_correct  predict\n",
              "False       0           9227\n",
              "            1            309\n",
              "True        1          18604\n",
              "            0           1088\n",
              "Name: count, dtype: int64"
            ]
          },
          "execution_count": 69,
          "metadata": {},
          "output_type": "execute_result"
        }
      ],
      "source": [
        "eldenRing_mid_df.groupby(['is_correct'])['predict'].value_counts()"
      ]
    },
    {
      "cell_type": "code",
      "execution_count": null,
      "id": "q7sAnO_sPJMe",
      "metadata": {
        "colab": {
          "base_uri": "https://localhost:8080/",
          "height": 241
        },
        "id": "q7sAnO_sPJMe",
        "outputId": "452d3c94-61bf-4fa8-83d8-8b7351469c2f"
      },
      "outputs": [
        {
          "data": {
            "text/html": [
              "<div>\n",
              "<style scoped>\n",
              "    .dataframe tbody tr th:only-of-type {\n",
              "        vertical-align: middle;\n",
              "    }\n",
              "\n",
              "    .dataframe tbody tr th {\n",
              "        vertical-align: top;\n",
              "    }\n",
              "\n",
              "    .dataframe thead th {\n",
              "        text-align: right;\n",
              "    }\n",
              "</style>\n",
              "<table border=\"1\" class=\"dataframe\">\n",
              "  <thead>\n",
              "    <tr style=\"text-align: right;\">\n",
              "      <th></th>\n",
              "      <th></th>\n",
              "      <th>count</th>\n",
              "    </tr>\n",
              "    <tr>\n",
              "      <th>is_correct</th>\n",
              "      <th>predict</th>\n",
              "      <th></th>\n",
              "    </tr>\n",
              "  </thead>\n",
              "  <tbody>\n",
              "    <tr>\n",
              "      <th rowspan=\"2\" valign=\"top\">False</th>\n",
              "      <th>0</th>\n",
              "      <td>5374</td>\n",
              "    </tr>\n",
              "    <tr>\n",
              "      <th>1</th>\n",
              "      <td>537</td>\n",
              "    </tr>\n",
              "    <tr>\n",
              "      <th rowspan=\"2\" valign=\"top\">True</th>\n",
              "      <th>1</th>\n",
              "      <td>9544</td>\n",
              "    </tr>\n",
              "    <tr>\n",
              "      <th>0</th>\n",
              "      <td>2526</td>\n",
              "    </tr>\n",
              "  </tbody>\n",
              "</table>\n",
              "</div><br><label><b>dtype:</b> int64</label>"
            ],
            "text/plain": [
              "is_correct  predict\n",
              "False       0          5374\n",
              "            1           537\n",
              "True        1          9544\n",
              "            0          2526\n",
              "Name: count, dtype: int64"
            ]
          },
          "execution_count": 70,
          "metadata": {},
          "output_type": "execute_result"
        }
      ],
      "source": [
        "eldenRingDLC_mid_df.groupby(['is_correct'])['predict'].value_counts()"
      ]
    },
    {
      "cell_type": "code",
      "execution_count": null,
      "id": "own_RhyxQu1Z",
      "metadata": {
        "colab": {
          "base_uri": "https://localhost:8080/",
          "height": 335
        },
        "id": "own_RhyxQu1Z",
        "outputId": "844c670b-737a-4195-eb11-4741c21e11c1"
      },
      "outputs": [
        {
          "data": {
            "text/html": [
              "<div>\n",
              "<style scoped>\n",
              "    .dataframe tbody tr th:only-of-type {\n",
              "        vertical-align: middle;\n",
              "    }\n",
              "\n",
              "    .dataframe tbody tr th {\n",
              "        vertical-align: top;\n",
              "    }\n",
              "\n",
              "    .dataframe thead th {\n",
              "        text-align: right;\n",
              "    }\n",
              "</style>\n",
              "<table border=\"1\" class=\"dataframe\">\n",
              "  <thead>\n",
              "    <tr style=\"text-align: right;\">\n",
              "      <th></th>\n",
              "      <th>length</th>\n",
              "    </tr>\n",
              "  </thead>\n",
              "  <tbody>\n",
              "    <tr>\n",
              "      <th>count</th>\n",
              "      <td>50000.000000</td>\n",
              "    </tr>\n",
              "    <tr>\n",
              "      <th>mean</th>\n",
              "      <td>495.251760</td>\n",
              "    </tr>\n",
              "    <tr>\n",
              "      <th>std</th>\n",
              "      <td>954.042409</td>\n",
              "    </tr>\n",
              "    <tr>\n",
              "      <th>min</th>\n",
              "      <td>1.000000</td>\n",
              "    </tr>\n",
              "    <tr>\n",
              "      <th>25%</th>\n",
              "      <td>29.000000</td>\n",
              "    </tr>\n",
              "    <tr>\n",
              "      <th>50%</th>\n",
              "      <td>123.000000</td>\n",
              "    </tr>\n",
              "    <tr>\n",
              "      <th>75%</th>\n",
              "      <td>527.000000</td>\n",
              "    </tr>\n",
              "    <tr>\n",
              "      <th>max</th>\n",
              "      <td>8000.000000</td>\n",
              "    </tr>\n",
              "  </tbody>\n",
              "</table>\n",
              "</div><br><label><b>dtype:</b> float64</label>"
            ],
            "text/plain": [
              "count    50000.000000\n",
              "mean       495.251760\n",
              "std        954.042409\n",
              "min          1.000000\n",
              "25%         29.000000\n",
              "50%        123.000000\n",
              "75%        527.000000\n",
              "max       8000.000000\n",
              "Name: length, dtype: float64"
            ]
          },
          "execution_count": 76,
          "metadata": {},
          "output_type": "execute_result"
        }
      ],
      "source": [
        "eldenRingDLC_df['length'].describe()"
      ]
    },
    {
      "cell_type": "code",
      "execution_count": null,
      "id": "5B2OEiC3Q2zo",
      "metadata": {
        "colab": {
          "base_uri": "https://localhost:8080/",
          "height": 335
        },
        "id": "5B2OEiC3Q2zo",
        "outputId": "31a2d705-c83c-4f9d-d2fa-0d104ab2ca5c"
      },
      "outputs": [
        {
          "data": {
            "text/html": [
              "<div>\n",
              "<style scoped>\n",
              "    .dataframe tbody tr th:only-of-type {\n",
              "        vertical-align: middle;\n",
              "    }\n",
              "\n",
              "    .dataframe tbody tr th {\n",
              "        vertical-align: top;\n",
              "    }\n",
              "\n",
              "    .dataframe thead th {\n",
              "        text-align: right;\n",
              "    }\n",
              "</style>\n",
              "<table border=\"1\" class=\"dataframe\">\n",
              "  <thead>\n",
              "    <tr style=\"text-align: right;\">\n",
              "      <th></th>\n",
              "      <th>length</th>\n",
              "    </tr>\n",
              "  </thead>\n",
              "  <tbody>\n",
              "    <tr>\n",
              "      <th>count</th>\n",
              "      <td>50000.000000</td>\n",
              "    </tr>\n",
              "    <tr>\n",
              "      <th>mean</th>\n",
              "      <td>161.409720</td>\n",
              "    </tr>\n",
              "    <tr>\n",
              "      <th>std</th>\n",
              "      <td>466.626451</td>\n",
              "    </tr>\n",
              "    <tr>\n",
              "      <th>min</th>\n",
              "      <td>0.000000</td>\n",
              "    </tr>\n",
              "    <tr>\n",
              "      <th>25%</th>\n",
              "      <td>16.000000</td>\n",
              "    </tr>\n",
              "    <tr>\n",
              "      <th>50%</th>\n",
              "      <td>39.000000</td>\n",
              "    </tr>\n",
              "    <tr>\n",
              "      <th>75%</th>\n",
              "      <td>107.000000</td>\n",
              "    </tr>\n",
              "    <tr>\n",
              "      <th>max</th>\n",
              "      <td>8000.000000</td>\n",
              "    </tr>\n",
              "  </tbody>\n",
              "</table>\n",
              "</div><br><label><b>dtype:</b> float64</label>"
            ],
            "text/plain": [
              "count    50000.000000\n",
              "mean       161.409720\n",
              "std        466.626451\n",
              "min          0.000000\n",
              "25%         16.000000\n",
              "50%         39.000000\n",
              "75%        107.000000\n",
              "max       8000.000000\n",
              "Name: length, dtype: float64"
            ]
          },
          "execution_count": 77,
          "metadata": {},
          "output_type": "execute_result"
        }
      ],
      "source": [
        "eldenRing_df['length'].describe()"
      ]
    }
  ],
  "metadata": {
    "colab": {
      "provenance": []
    },
    "kernelspec": {
      "display_name": "Python 3 (ipykernel)",
      "language": "python",
      "name": "python3"
    },
    "language_info": {
      "codemirror_mode": {
        "name": "ipython",
        "version": 3
      },
      "file_extension": ".py",
      "mimetype": "text/x-python",
      "name": "python",
      "nbconvert_exporter": "python",
      "pygments_lexer": "ipython3",
      "version": "3.12.7"
    }
  },
  "nbformat": 4,
  "nbformat_minor": 5
}
